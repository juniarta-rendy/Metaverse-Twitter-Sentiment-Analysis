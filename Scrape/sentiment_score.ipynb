{
 "cells": [
  {
   "cell_type": "code",
   "execution_count": 30,
   "id": "8c02e23c",
   "metadata": {},
   "outputs": [],
   "source": [
    "from textblob import TextBlob\n",
    "import pandas as pd"
   ]
  },
  {
   "cell_type": "code",
   "execution_count": 31,
   "id": "dad2cfab",
   "metadata": {},
   "outputs": [],
   "source": [
    "df = pd.read_csv(\"../Cleaning/Clean_Dataset.csv\")"
   ]
  },
  {
   "cell_type": "code",
   "execution_count": 32,
   "id": "cfe76aaf",
   "metadata": {},
   "outputs": [],
   "source": [
    "def sentiment_score(text):\n",
    "    try:\n",
    "        score = TextBlob(text).sentiment.polarity\n",
    "        return score\n",
    "    except:\n",
    "        return None"
   ]
  },
  {
   "cell_type": "code",
   "execution_count": 33,
   "id": "6f5be247",
   "metadata": {},
   "outputs": [],
   "source": [
    "df['sentiment'] = df['Clean_Text'].apply(lambda x:sentiment_score(x))"
   ]
  },
  {
   "cell_type": "code",
   "execution_count": 34,
   "id": "dbbf310d",
   "metadata": {},
   "outputs": [],
   "source": [
    "def sentiment_classification(x):\n",
    "    if x == 0:\n",
    "        pass\n",
    "    elif x < 0:\n",
    "        x = -1\n",
    "    else:\n",
    "        x = 1\n",
    "    return x"
   ]
  },
  {
   "cell_type": "code",
   "execution_count": 35,
   "id": "1f82da7a",
   "metadata": {},
   "outputs": [],
   "source": [
    "df['sentiment'] = df['sentiment'].apply(lambda x:sentiment_classification(x))"
   ]
  },
  {
   "cell_type": "code",
   "execution_count": 36,
   "id": "bf17c449",
   "metadata": {},
   "outputs": [],
   "source": [
    "df.to_csv('../Cleaning/Clean_Dataset.csv', index=False)"
   ]
  },
  {
   "cell_type": "code",
   "execution_count": null,
   "id": "6fc81d46",
   "metadata": {},
   "outputs": [],
   "source": []
  }
 ],
 "metadata": {
  "kernelspec": {
   "display_name": "Python 3 (ipykernel)",
   "language": "python",
   "name": "python3"
  },
  "language_info": {
   "codemirror_mode": {
    "name": "ipython",
    "version": 3
   },
   "file_extension": ".py",
   "mimetype": "text/x-python",
   "name": "python",
   "nbconvert_exporter": "python",
   "pygments_lexer": "ipython3",
   "version": "3.9.12"
  }
 },
 "nbformat": 4,
 "nbformat_minor": 5
}
