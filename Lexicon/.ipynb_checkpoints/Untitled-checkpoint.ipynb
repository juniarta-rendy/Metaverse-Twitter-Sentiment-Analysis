{
 "cells": [
  {
   "cell_type": "code",
   "execution_count": 1,
   "id": "e124269d",
   "metadata": {},
   "outputs": [],
   "source": [
    "import pandas as pd\n",
    "import numpy as np\n",
    "import matplotlib.pyplot as plt\n",
    "import pytz\n",
    "import re\n",
    "import nltk\n",
    "import ast\n",
    "import string\n",
    "import itertools\n",
    "import seaborn as sns\n",
    "from datetime import datetime,timedelta\n",
    "from nltk.corpus import stopwords\n",
    "from nltk.tokenize import word_tokenize\n",
    "from wordcloud import WordCloud\n",
    "from Sastrawi.Stemmer.StemmerFactory import StemmerFactory\n",
    "from googletrans import Translator"
   ]
  },
  {
   "cell_type": "code",
   "execution_count": 2,
   "id": "b2b196c0",
   "metadata": {},
   "outputs": [],
   "source": [
    "df = pd.read_csv('../Cleaning/Clean_Dataset.csv')\n",
    "jakarta = pytz.timezone('Asia/Jakarta')\n",
    "time_date = \"%m/%d/%Y %H:%M\"\n",
    "df['datetime_created'] = df['Datetime'].apply(lambda x:datetime.strptime(x,time_date))\n",
    "df['date_created'] = df['datetime_created'].apply(lambda x:x.date())\n",
    "df['time_created'] = df['datetime_created'].apply(lambda x:x.time())\n",
    "df = df.drop(['datetime_created'],axis=1)"
   ]
  },
  {
   "cell_type": "code",
   "execution_count": 3,
   "id": "402569d3",
   "metadata": {},
   "outputs": [],
   "source": [
    "#remove duplicate\n",
    "df = df.drop_duplicates()\n",
    "df = df.reset_index(drop=True)"
   ]
  },
  {
   "cell_type": "code",
   "execution_count": 4,
   "id": "2c771f12",
   "metadata": {},
   "outputs": [
    {
     "data": {
      "text/plain": [
       "61984    @WabiSabiNFT @HELIX_Metaverse NANI?! @dummybeeean @God_of_Pekka @morisecosoluzi1\n",
       "Name: Text, dtype: object"
      ]
     },
     "execution_count": 4,
     "metadata": {},
     "output_type": "execute_result"
    }
   ],
   "source": [
    "pd.set_option('display.max_colwidth', None)\n",
    "df[df['Clean_Text'].isnull() == True]['Text']"
   ]
  },
  {
   "cell_type": "markdown",
   "id": "4017b069",
   "metadata": {},
   "source": [
    "### Cleaning Data"
   ]
  },
  {
   "cell_type": "code",
   "execution_count": 5,
   "id": "a3cbfee8",
   "metadata": {},
   "outputs": [],
   "source": [
    "def del_word(x, key_list):\n",
    "    n = len(key_list)\n",
    "    word_tokens = word_tokenize(x)\n",
    "    new_x = ''\n",
    "    for word in word_tokens:\n",
    "        if word not in key_list:\n",
    "            new_x = new_x+word+' '\n",
    "            return new_x\n",
    "def clean_tweets(text):\n",
    "    pass\n",
    "\n",
    "def count_words(x):\n",
    "    words = word_tokenize(x)\n",
    "    n=len(words)\n",
    "    return n"
   ]
  },
  {
   "cell_type": "raw",
   "id": "7eb2e609",
   "metadata": {},
   "source": []
  }
 ],
 "metadata": {
  "kernelspec": {
   "display_name": "Python 3 (ipykernel)",
   "language": "python",
   "name": "python3"
  },
  "language_info": {
   "codemirror_mode": {
    "name": "ipython",
    "version": 3
   },
   "file_extension": ".py",
   "mimetype": "text/x-python",
   "name": "python",
   "nbconvert_exporter": "python",
   "pygments_lexer": "ipython3",
   "version": "3.9.12"
  }
 },
 "nbformat": 4,
 "nbformat_minor": 5
}
