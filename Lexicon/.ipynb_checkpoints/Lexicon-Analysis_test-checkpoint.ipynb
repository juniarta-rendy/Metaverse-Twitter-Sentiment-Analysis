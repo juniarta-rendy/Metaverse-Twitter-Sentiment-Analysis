{
 "cells": [
  {
   "cell_type": "code",
   "execution_count": 1,
   "id": "0449a605",
   "metadata": {},
   "outputs": [],
   "source": [
    "import pandas as pd\n",
    "import numpy as np\n",
    "import matplotlib.pyplot as plt\n",
    "import pytz\n",
    "import re\n",
    "import nltk\n",
    "import ast\n",
    "import string\n",
    "import itertools\n",
    "import seaborn as sns\n",
    "from datetime import datetime,timedelta\n",
    "from nltk.corpus import stopwords\n",
    "from nltk.tokenize import word_tokenize\n",
    "from wordcloud import WordCloud\n",
    "from Sastrawi.Stemmer.StemmerFactory import StemmerFactory\n",
    "from googletrans import Translator"
   ]
  },
  {
   "cell_type": "code",
   "execution_count": 2,
   "id": "476a257b",
   "metadata": {},
   "outputs": [],
   "source": [
    "df = pd.read_csv('../Cleaning/Clean_Dataset_1.csv')\n",
    "jakarta = pytz.timezone('Asia/Jakarta')\n",
    "time_date = \"%m/%d/%Y %H:%M\"\n",
    "df['datetime_created'] = df['Datetime'].apply(lambda x:datetime.strptime(x,time_date))\n",
    "df['date_created'] = df['datetime_created'].apply(lambda x:x.date())\n",
    "df['time_created'] = df['datetime_created'].apply(lambda x:x.time())\n",
    "df = df.drop(['datetime_created'],axis=1)"
   ]
  },
  {
   "cell_type": "code",
   "execution_count": 3,
   "id": "367ee452",
   "metadata": {},
   "outputs": [
    {
     "data": {
      "text/plain": [
       "54431"
      ]
     },
     "execution_count": 3,
     "metadata": {},
     "output_type": "execute_result"
    }
   ],
   "source": [
    "len(df)"
   ]
  },
  {
   "cell_type": "markdown",
   "id": "cea9ec99",
   "metadata": {},
   "source": [
    "### Additional Cleaning"
   ]
  },
  {
   "cell_type": "code",
   "execution_count": 4,
   "id": "dae4001a",
   "metadata": {},
   "outputs": [],
   "source": [
    "#remove duplicate\n",
    "df = df.drop_duplicates()\n",
    "df = df.reset_index(drop=True)"
   ]
  },
  {
   "cell_type": "code",
   "execution_count": 5,
   "id": "3c3d308e",
   "metadata": {},
   "outputs": [
    {
     "data": {
      "text/plain": [
       "0"
      ]
     },
     "execution_count": 5,
     "metadata": {},
     "output_type": "execute_result"
    }
   ],
   "source": [
    "len(df[df['Clean_Text'].isnull() ==  True])"
   ]
  },
  {
   "cell_type": "code",
   "execution_count": 6,
   "id": "4f7b9c09",
   "metadata": {},
   "outputs": [
    {
     "data": {
      "text/plain": [
       "Series([], Name: Text, dtype: object)"
      ]
     },
     "execution_count": 6,
     "metadata": {},
     "output_type": "execute_result"
    }
   ],
   "source": [
    "pd.set_option('display.max_colwidth', None)\n",
    "df[df['Clean_Text'].isnull() == True]['Text']"
   ]
  },
  {
   "cell_type": "code",
   "execution_count": 7,
   "id": "32b6874d",
   "metadata": {},
   "outputs": [],
   "source": [
    "df = df.dropna(subset=['Clean_Text'])\n",
    "df = df.reset_index(drop=True)"
   ]
  },
  {
   "cell_type": "code",
   "execution_count": 8,
   "id": "99f692a8",
   "metadata": {},
   "outputs": [
    {
     "data": {
      "text/plain": [
       "Datetime              0\n",
       "Tweet Id              0\n",
       "Text                  0\n",
       "Username              0\n",
       "Location          18928\n",
       "Clean_Text            0\n",
       "language              0\n",
       "Unnamed: 7        54431\n",
       "Clean_Language    54299\n",
       "date_created          0\n",
       "time_created          0\n",
       "dtype: int64"
      ]
     },
     "execution_count": 8,
     "metadata": {},
     "output_type": "execute_result"
    }
   ],
   "source": [
    "df.isnull().sum()"
   ]
  },
  {
   "cell_type": "code",
   "execution_count": 9,
   "id": "294cd43c",
   "metadata": {},
   "outputs": [
    {
     "data": {
      "text/plain": [
       "no    5519\n",
       "en    3614\n",
       "et    2102\n",
       "af    1646\n",
       "sl    1445\n",
       "nl    1104\n",
       "it    1008\n",
       "sq     836\n",
       "sv     833\n",
       "da     713\n",
       "hr     605\n",
       "ca     561\n",
       "sw     525\n",
       "so     482\n",
       "fi     455\n",
       "tr     300\n",
       "ro     231\n",
       "pl     149\n",
       "sk     134\n",
       "cy     107\n",
       "fr     103\n",
       "hu      71\n",
       "pt      71\n",
       "de      49\n",
       "lv      39\n",
       "cs      35\n",
       "vi      15\n",
       "Name: language, dtype: int64"
      ]
     },
     "execution_count": 9,
     "metadata": {},
     "output_type": "execute_result"
    }
   ],
   "source": [
    "df[df['language']!='id']['language'].value_counts()"
   ]
  },
  {
   "cell_type": "code",
   "execution_count": 10,
   "id": "f716f241",
   "metadata": {},
   "outputs": [],
   "source": [
    "clean_text = df['Clean_Text'].copy()"
   ]
  },
  {
   "cell_type": "code",
   "execution_count": 11,
   "id": "32fd49e8",
   "metadata": {},
   "outputs": [
    {
     "data": {
      "text/plain": [
       "54416    tani tonton yuk klik link bahas future amp ecosystems towards metaverse datagovai bca ehall day ...\n",
       "54417                                                                tau beneran jual tanah metaverse mampus\n",
       "54418                                                                            generated aryan patna india\n",
       "54419                                                                                  kopi ganesha got from\n",
       "54420    wa alaikumsalam warrahmatullahi wabarrakatuh senang jumpa metaverse jazakallah khair katsiran sd...\n",
       "54421                                                                              metamesta padan metaverse\n",
       "54422                                                                                 mixue rambah metaverse\n",
       "54423                                                                                   ngomongnya metaverse\n",
       "54424                                                                                     metaverse ko masuk\n",
       "54425                                                  anak jaman ngadain webinar metaverse dunia lari cepat\n",
       "54426                                                                     bicara metaverse milu pakai kardus\n",
       "54427                                         pesantren metaverse rangkul kayak fajar pegang kunci al markaz\n",
       "54428                                                                 bang bangun mimpi metaverse metafisika\n",
       "54429                                                                                 anying bahas metaverse\n",
       "54430      bdw i really love this game tuh sosmed bungkus game metaverse sih pokok mutual lihat buru joinnnn\n",
       "Name: Clean_Text, dtype: object"
      ]
     },
     "execution_count": 11,
     "metadata": {},
     "output_type": "execute_result"
    }
   ],
   "source": [
    "pd.set_option('display.max_colwidth', 100)\n",
    "clean_text.tail(15)"
   ]
  },
  {
   "cell_type": "markdown",
   "id": "19c3e581",
   "metadata": {},
   "source": [
    "### Cleaning Data"
   ]
  },
  {
   "cell_type": "code",
   "execution_count": 12,
   "id": "9b3cc3ac",
   "metadata": {},
   "outputs": [],
   "source": [
    "def repair_exaggeration(x):\n",
    "    word_tokens = word_tokenize(x)\n",
    "    new_x =''\n",
    "    for i in word_tokens:\n",
    "        if (i =='metaversee'):\n",
    "            new = re.sub(r'(\\w)\\1\\1+',r'\\1\\1',i)\n",
    "            new_x = new_x +new+' '\n",
    "        elif(i =='metavers'):\n",
    "            new = 'metaverse'\n",
    "            new_x = new_x +new+' '\n",
    "        elif(i == 'meta'):\n",
    "            new = 'metaverse'\n",
    "            new_x = new_x +new+' '\n",
    "        else:\n",
    "            new = re.sub(r'(\\w)\\1\\1\\1+',r'\\1',i)\n",
    "            new_x = new_x +new+' '\n",
    "    return new_x"
   ]
  },
  {
   "cell_type": "code",
   "execution_count": 13,
   "id": "1db9712e",
   "metadata": {},
   "outputs": [],
   "source": [
    "def del_word(x,key_list):\n",
    "    n = len(key_list)\n",
    "    word_tokens = word_tokenize(x)\n",
    "    new_x =''\n",
    "    for word in word_tokens:\n",
    "        if word not in key_list:\n",
    "            new_x = new_x+word+' '\n",
    "    return new_x"
   ]
  },
  {
   "cell_type": "code",
   "execution_count": 14,
   "id": "d579bdb1",
   "metadata": {},
   "outputs": [],
   "source": [
    "#use slang and stopwords to clean the dataset\n",
    "# slang and stop words source: https://github.com/louisowen6/NLP_bahasa_resources\n",
    "def clean_tweets(text):\n",
    "    my_file = open('../Cleaning/cleaning_source/combined_stop_words.txt','r')\n",
    "    content = my_file.read()\n",
    "    stop_words = content.split('\\n')\n",
    "    file_2 = open('../Cleaning/cleaning_source/update_combined_slang_words.txt','r')\n",
    "    content2 = file_2.read()\n",
    "    slang_words = ast.literal_eval(content2)\n",
    "    my_file.close()\n",
    "    file_2.close()\n",
    "    \n",
    "    text = text.lower()\n",
    "    # Remove url\n",
    "    text = re.sub(r'https?://[^\\s]+','',text)\n",
    "    # Remove hashtag\n",
    "    text = re.sub(r'#\\w+','',text)\n",
    "    # Remove mentions\n",
    "    text = re.sub(r'@\\w+','',text)\n",
    "    \n",
    "    text = re.sub(r':', '', text)\n",
    "    text = re.sub(r'‚Ä¶', '', text)\n",
    "    #replace consecutive non-ASCII characters with a space\n",
    "    text = re.sub(r'[^\\x00-\\x7F]+',' ', text)\n",
    "    \n",
    "    #remove emojis from text\n",
    "    #text = emoji_pattern.sub(r'',text)\n",
    "    \n",
    "    #remove punctuation\n",
    "    text = re.sub('[^a-zA-Z]',' ', text)\n",
    "    \n",
    "    #remove tags\n",
    "    text=re.sub('&lt;/?.*?&gt;\",\"&lt;&gt;','',text)\n",
    "    \n",
    "    #remove digits and special chars\n",
    "    text = re.sub(\"(\\\\d|\\\\W)+\",\" \",text)\n",
    "    \n",
    "    #remove other symbol from tweet\n",
    "    text = re.sub(r'â', '', text)\n",
    "    text = re.sub(r'€', '', text)\n",
    "    text = re.sub(r'¦', '', text)\n",
    "    \n",
    "    #translate and modify slang word to make it more suitable\n",
    "    word_tokens = word_tokenize(text)\n",
    "    translator = Translator()\n",
    "    for w in word_tokens:\n",
    "        if w in slang_words.keys():\n",
    "            word_tokens[word_tokens.index(w)] = slang_words[w]\n",
    "    \n",
    "    #filter using NLTK and append it to a string\n",
    "    filtered_tweet = [w for w in word_tokens if not w in stop_words]\n",
    "    filtered_tweet = []\n",
    "    \n",
    "    #loop through condition\n",
    "    for w in word_tokens:\n",
    "        #check tokens against emoticons, punctuations and stopwords\n",
    "        if w not in string.punctuation and w not in stop_words:\n",
    "            filtered_tweet.append(w.lower())\n",
    "            \n",
    "    return ' '.join(filtered_tweet)"
   ]
  },
  {
   "cell_type": "code",
   "execution_count": 15,
   "id": "92c810be",
   "metadata": {},
   "outputs": [],
   "source": [
    "def count_words(x):\n",
    "    words = word_tokenize(x)\n",
    "    n=len(words)\n",
    "    return n"
   ]
  },
  {
   "cell_type": "code",
   "execution_count": 16,
   "id": "16622420",
   "metadata": {},
   "outputs": [],
   "source": [
    "clean_text_exag = clean_text.apply(lambda x:repair_exaggeration(x))"
   ]
  },
  {
   "cell_type": "code",
   "execution_count": 17,
   "id": "f9872a72",
   "metadata": {},
   "outputs": [],
   "source": [
    "re_clean = clean_text_exag.apply(lambda x: clean_tweets(x))"
   ]
  },
  {
   "cell_type": "markdown",
   "id": "44b74a4b",
   "metadata": {},
   "source": [
    "### Word Processing"
   ]
  },
  {
   "cell_type": "code",
   "execution_count": 18,
   "id": "e486b09c",
   "metadata": {},
   "outputs": [],
   "source": [
    "#Create Word Dictionary\n",
    "word_dict = {}\n",
    "for i in range(0,len(df['Clean_Text'])):\n",
    "    sentence = df['Clean_Text'][i]\n",
    "    word_token = word_tokenize(sentence)\n",
    "    for j in word_token:\n",
    "        if j not in word_dict:\n",
    "            word_dict[j] = 1\n",
    "        else:\n",
    "            word_dict[j] += 1"
   ]
  },
  {
   "cell_type": "code",
   "execution_count": 19,
   "id": "20b50fe0",
   "metadata": {},
   "outputs": [
    {
     "data": {
      "text/plain": [
       "44367"
      ]
     },
     "execution_count": 19,
     "metadata": {},
     "output_type": "execute_result"
    }
   ],
   "source": [
    "len(word_dict)"
   ]
  },
  {
   "cell_type": "code",
   "execution_count": 20,
   "id": "8317ef09",
   "metadata": {},
   "outputs": [
    {
     "data": {
      "text/plain": [
       "33957"
      ]
     },
     "execution_count": 20,
     "metadata": {},
     "output_type": "execute_result"
    }
   ],
   "source": [
    "len({k:v for (k,v) in word_dict.items() if v <4})"
   ]
  },
  {
   "cell_type": "markdown",
   "id": "62217056",
   "metadata": {},
   "source": [
    "# Import Lexicon Data\n",
    "##### sources:\n",
    "\n",
    "https://github.com/louisowen6/NLP_bahasa_resources\n",
    "https://github.com/abhimantramb/elang/blob/master/word2vec/utils/swear-words.txt\n",
    "https://github.com/fajri91/InSet\n",
    "https://github.com/agusmakmun/SentiStrengthID/blob/master/id_dict/sentimentword.txt"
   ]
  },
  {
   "cell_type": "code",
   "execution_count": 21,
   "id": "d8cf0201",
   "metadata": {},
   "outputs": [],
   "source": [
    "negasi = ['bukan','tidak','ga','gk','lala','dtype','object','Clean_Text','bang','Length']\n",
    "lexicon = pd.read_csv('Lexicon Dictionary/modified_full_lexicon.csv')\n",
    "lexicon = lexicon.drop(lexicon[(lexicon['word'] == 'bukan')|\n",
    "                              (lexicon['word'] == 'tidak')|\n",
    "                              (lexicon['word'] == 'ga')|\n",
    "                              (lexicon['word'] == 'gk')].index,axis=0)\n",
    "lexicon = lexicon.reset_index(drop=True)"
   ]
  },
  {
   "cell_type": "code",
   "execution_count": 22,
   "id": "64c7b336",
   "metadata": {},
   "outputs": [],
   "source": [
    "lexicon_word = lexicon['word'].to_list()\n",
    "lexicon_num_words = lexicon['number_of_words']"
   ]
  },
  {
   "cell_type": "code",
   "execution_count": 23,
   "id": "ba9151a4",
   "metadata": {},
   "outputs": [],
   "source": [
    "#Check if there is words in dictionary that doesn't included in lexicon\n",
    "ns_words = []\n",
    "#create stemmer\n",
    "factory = StemmerFactory()\n",
    "stemmer = factory.create_stemmer()\n",
    "for word in word_dict.keys():\n",
    "    if word not in lexicon_word:\n",
    "        kata_dasar = stemmer.stem(word)\n",
    "        if kata_dasar not in lexicon_word:\n",
    "            ns_words.append(word)"
   ]
  },
  {
   "cell_type": "code",
   "execution_count": 24,
   "id": "6202af80",
   "metadata": {},
   "outputs": [
    {
     "data": {
      "text/plain": [
       "8397"
      ]
     },
     "execution_count": 24,
     "metadata": {},
     "output_type": "execute_result"
    }
   ],
   "source": [
    "#Let's take a look what kind of words they are, lets start with some words that have many occurences as this most likely not a type case\n",
    "len({ k:v for (k,v) in word_dict.items() if ((k in ns_words) & (v>3)) })"
   ]
  },
  {
   "cell_type": "code",
   "execution_count": 25,
   "id": "ea8faa76",
   "metadata": {},
   "outputs": [],
   "source": [
    "ns_words_list = { k:v for (k,v) in word_dict.items() if ((k in ns_words) & (v>3)) }"
   ]
  },
  {
   "cell_type": "code",
   "execution_count": 26,
   "id": "7979a31b",
   "metadata": {},
   "outputs": [
    {
     "name": "stdout",
     "output_type": "stream",
     "text": [
      "metaverse 53655\n",
      "ga 3039\n",
      "virtual 2906\n",
      "nft 2864\n",
      "nya 2459\n",
      "teknologi 2454\n",
      "digital 2229\n",
      "pakai 2160\n",
      "bicara 2145\n",
      "sih 1976\n",
      "bikin 1956\n",
      "deh 1892\n",
      "ktp 1785\n",
      "era 1695\n",
      "meta 1611\n",
      "konsep 1422\n",
      "amp 1364\n",
      "facebook 1228\n",
      "tanah 1188\n",
      "bangun 1160\n"
     ]
    }
   ],
   "source": [
    "#sort the most occurences word descending\n",
    "sort_orders = sorted(ns_words_list.items(), key=lambda x: x[1], reverse = True)\n",
    "sort_orders = sort_orders[0:20]\n",
    "for i in sort_orders:\n",
    "    print(i[0], i[1])"
   ]
  },
  {
   "cell_type": "code",
   "execution_count": 27,
   "id": "f5e7b517",
   "metadata": {},
   "outputs": [],
   "source": [
    "word_to_plot = df['Clean_Text'].copy()"
   ]
  },
  {
   "cell_type": "code",
   "execution_count": 28,
   "id": "978df2a5",
   "metadata": {},
   "outputs": [],
   "source": [
    "word_to_plot_1 = word_to_plot.apply(lambda x: del_word(x,negasi))"
   ]
  },
  {
   "cell_type": "code",
   "execution_count": 29,
   "id": "b7662834",
   "metadata": {},
   "outputs": [
    {
     "data": {
      "image/png": "[encoded data removed]",
      "text/plain": [
       "<Figure size 576x576 with 1 Axes>"
      ]
     },
     "metadata": {
      "needs_background": "light"
     },
     "output_type": "display_data"
    }
   ],
   "source": [
    "#create a word cloud to see which words that appear often in tweets of metaverse\n",
    "wordcloud = WordCloud(width = 800, height = 300, background_color = 'black', \n",
    "                      max_words = 1000, min_font_size = 20).generate(str(word_to_plot_1))\n",
    "#plot the word cloud\n",
    "fig = plt.figure(figsize = (8,8), facecolor = None)\n",
    "plt.imshow(wordcloud)\n",
    "plt.axis('off')\n",
    "plt.show()"
   ]
  },
  {
   "cell_type": "markdown",
   "id": "80980f06",
   "metadata": {},
   "source": [
    "### Sentiment"
   ]
  },
  {
   "cell_type": "code",
   "execution_count": 30,
   "id": "86095a17",
   "metadata": {},
   "outputs": [
    {
     "data": {
      "text/html": [
       "<div>\n",
       "<style scoped>\n",
       "    .dataframe tbody tr th:only-of-type {\n",
       "        vertical-align: middle;\n",
       "    }\n",
       "\n",
       "    .dataframe tbody tr th {\n",
       "        vertical-align: top;\n",
       "    }\n",
       "\n",
       "    .dataframe thead th {\n",
       "        text-align: right;\n",
       "    }\n",
       "</style>\n",
       "<table border=\"1\" class=\"dataframe\">\n",
       "  <thead>\n",
       "    <tr style=\"text-align: right;\">\n",
       "      <th></th>\n",
       "      <th>word</th>\n",
       "      <th>weight</th>\n",
       "      <th>number_of_words</th>\n",
       "    </tr>\n",
       "  </thead>\n",
       "  <tbody>\n",
       "    <tr>\n",
       "      <th>0</th>\n",
       "      <td>hai</td>\n",
       "      <td>3</td>\n",
       "      <td>1</td>\n",
       "    </tr>\n",
       "    <tr>\n",
       "      <th>1</th>\n",
       "      <td>merekam</td>\n",
       "      <td>2</td>\n",
       "      <td>1</td>\n",
       "    </tr>\n",
       "    <tr>\n",
       "      <th>2</th>\n",
       "      <td>ekstensif</td>\n",
       "      <td>3</td>\n",
       "      <td>1</td>\n",
       "    </tr>\n",
       "    <tr>\n",
       "      <th>3</th>\n",
       "      <td>paripurna</td>\n",
       "      <td>1</td>\n",
       "      <td>1</td>\n",
       "    </tr>\n",
       "    <tr>\n",
       "      <th>4</th>\n",
       "      <td>detail</td>\n",
       "      <td>2</td>\n",
       "      <td>1</td>\n",
       "    </tr>\n",
       "    <tr>\n",
       "      <th>...</th>\n",
       "      <td>...</td>\n",
       "      <td>...</td>\n",
       "      <td>...</td>\n",
       "    </tr>\n",
       "    <tr>\n",
       "      <th>10243</th>\n",
       "      <td>sontoloyo</td>\n",
       "      <td>-5</td>\n",
       "      <td>1</td>\n",
       "    </tr>\n",
       "    <tr>\n",
       "      <th>10244</th>\n",
       "      <td>tai</td>\n",
       "      <td>-5</td>\n",
       "      <td>1</td>\n",
       "    </tr>\n",
       "    <tr>\n",
       "      <th>10245</th>\n",
       "      <td>telek</td>\n",
       "      <td>-5</td>\n",
       "      <td>1</td>\n",
       "    </tr>\n",
       "    <tr>\n",
       "      <th>10246</th>\n",
       "      <td>tolol</td>\n",
       "      <td>-5</td>\n",
       "      <td>1</td>\n",
       "    </tr>\n",
       "    <tr>\n",
       "      <th>10247</th>\n",
       "      <td>budi baik</td>\n",
       "      <td>3</td>\n",
       "      <td>2</td>\n",
       "    </tr>\n",
       "  </tbody>\n",
       "</table>\n",
       "<p>10248 rows × 3 columns</p>\n",
       "</div>"
      ],
      "text/plain": [
       "            word  weight  number_of_words\n",
       "0            hai       3                1\n",
       "1        merekam       2                1\n",
       "2      ekstensif       3                1\n",
       "3      paripurna       1                1\n",
       "4         detail       2                1\n",
       "...          ...     ...              ...\n",
       "10243  sontoloyo      -5                1\n",
       "10244        tai      -5                1\n",
       "10245      telek      -5                1\n",
       "10246      tolol      -5                1\n",
       "10247  budi baik       3                2\n",
       "\n",
       "[10248 rows x 3 columns]"
      ]
     },
     "execution_count": 30,
     "metadata": {},
     "output_type": "execute_result"
    }
   ],
   "source": [
    "lexicon"
   ]
  },
  {
   "cell_type": "code",
   "execution_count": 31,
   "id": "7b270dde",
   "metadata": {},
   "outputs": [
    {
     "data": {
      "text/plain": [
       "1    9536\n",
       "2     686\n",
       "3      24\n",
       "4       2\n",
       "Name: number_of_words, dtype: int64"
      ]
     },
     "execution_count": 31,
     "metadata": {},
     "output_type": "execute_result"
    }
   ],
   "source": [
    "lexicon['number_of_words'].value_counts()"
   ]
  },
  {
   "cell_type": "markdown",
   "id": "1c0a3917",
   "metadata": {},
   "source": [
    "#calculate sentiment words by matching them to the lexicon dictionary while creating the bag of words matrix"
   ]
  },
  {
   "cell_type": "code",
   "execution_count": 32,
   "id": "db0c9b72",
   "metadata": {},
   "outputs": [],
   "source": [
    "sencol =[]\n",
    "senrow =np.array([])\n",
    "nsen = 0\n",
    "factory = StemmerFactory()\n",
    "stemmer = factory.create_stemmer()\n",
    "sentiment_list = []\n",
    "# function to write the word's sentiment if it is founded\n",
    "def found_word(ind,words,word,sen,sencol,sentiment,add):\n",
    "    # if it is already included in the bag of words matrix, then just increase the value\n",
    "    if word in sencol:\n",
    "        sen[sencol.index(word)] += 1\n",
    "    else:\n",
    "    #if not, than add new word\n",
    "        sencol.append(word)\n",
    "        sen.append(1)\n",
    "        add += 1\n",
    "    #if there is a negation word before it, the sentiment would be the negation of it's sentiment\n",
    "    if (words[ind-1] in negasi):\n",
    "        sentiment += -lexicon['weight'][lexicon_word.index(word)]\n",
    "    else:\n",
    "        sentiment += lexicon['weight'][lexicon_word.index(word)]\n",
    "    \n",
    "    return sen,sencol,sentiment,add"
   ]
  },
  {
   "cell_type": "code",
   "execution_count": 33,
   "id": "8cb06125",
   "metadata": {},
   "outputs": [],
   "source": [
    "# checking every words, if they are appear in the lexicon, and then calculate their sentiment if they do\n",
    "for i in range(len(df)):\n",
    "    nsen = senrow.shape[0]\n",
    "    words = word_tokenize(df['Clean_Text'][i])\n",
    "    sentiment = 0 \n",
    "    add = 0\n",
    "    prev = [0 for ii in range(len(words))]\n",
    "    n_words = len(words)\n",
    "    if len(sencol)>0:\n",
    "        sen =[0 for j in range(len(sencol))]\n",
    "    else:\n",
    "        sen =[]\n",
    "    \n",
    "    for word in words:\n",
    "        ind = words.index(word)\n",
    "        # check whether they are included in the lexicon\n",
    "        if word in lexicon_word :\n",
    "            sen,sencol,sentiment,add= found_word(ind,words,word,sen,sencol,sentiment,add)\n",
    "        else:\n",
    "        # if not, then check the root word\n",
    "            kata_dasar = stemmer.stem(word)\n",
    "            if kata_dasar in lexicon_word:\n",
    "                sen,sencol,sentiment,add= found_word(ind,words,kata_dasar,sen,sencol,sentiment,add)\n",
    "        # if still negative, try to match the combination of words with the adjacent words\n",
    "            elif(n_words>1):\n",
    "                if ind-1>-1:\n",
    "                    back_1    = words[ind-1]+' '+word\n",
    "                    if (back_1 in lexicon_word):\n",
    "                        sen,sencol,sentiment,add= found_word(ind,words,back_1,sen,sencol,sentiment,add)\n",
    "                    elif(ind-2>-1):\n",
    "                        back_2    = words[ind-2]+' '+back_1\n",
    "                        if back_2 in lexicon_word:\n",
    "                            sen,sencol,sentiment,add= found_word(ind,words,back_2,sen,sencol,sentiment,add)\n",
    "    # if there is new word founded, then expand the matrix\n",
    "    if add>0:  \n",
    "        if i>0:\n",
    "            if (nsen==0):\n",
    "                senrow = np.zeros([i,add],dtype=int)\n",
    "            elif(i!=nsen):\n",
    "                padding_h = np.zeros([nsen,add],dtype=int)\n",
    "                senrow = np.hstack((senrow,padding_h))\n",
    "                padding_v = np.zeros([(i-nsen),senrow.shape[1]],dtype=int)\n",
    "                senrow = np.vstack((senrow,padding_v))\n",
    "            else:\n",
    "                padding =np.zeros([nsen,add],dtype=int)\n",
    "                senrow = np.hstack((senrow,padding))\n",
    "            senrow = np.vstack((senrow,sen))\n",
    "        if i==0:\n",
    "            senrow = np.array(sen).reshape(1,len(sen))\n",
    "    # if there isn't then just update the old matrix\n",
    "    elif(nsen>0):\n",
    "        senrow = np.vstack((senrow,sen))\n",
    "        \n",
    "    sentiment_list.append(sentiment)"
   ]
  },
  {
   "cell_type": "code",
   "execution_count": 34,
   "id": "eba9598a",
   "metadata": {},
   "outputs": [
    {
     "data": {
      "text/plain": [
       "54431"
      ]
     },
     "execution_count": 34,
     "metadata": {},
     "output_type": "execute_result"
    }
   ],
   "source": [
    "len(sentiment_list)"
   ]
  },
  {
   "cell_type": "code",
   "execution_count": 35,
   "id": "690fea0a",
   "metadata": {},
   "outputs": [
    {
     "name": "stdout",
     "output_type": "stream",
     "text": [
      "54431\n"
     ]
    }
   ],
   "source": [
    "print(senrow.shape[0])"
   ]
  },
  {
   "cell_type": "code",
   "execution_count": 36,
   "id": "3f59dfd5",
   "metadata": {},
   "outputs": [],
   "source": [
    "sencol.append('sentiment')\n",
    "sentiment_array = np.array(sentiment_list).reshape(senrow.shape[0],1)\n",
    "sentiment_data = np.hstack((senrow,sentiment_array))\n",
    "df_sen = pd.DataFrame(sentiment_data,columns = sencol)"
   ]
  },
  {
   "cell_type": "code",
   "execution_count": 37,
   "id": "d1151f53",
   "metadata": {},
   "outputs": [
    {
     "data": {
      "text/html": [
       "<div>\n",
       "<style scoped>\n",
       "    .dataframe tbody tr th:only-of-type {\n",
       "        vertical-align: middle;\n",
       "    }\n",
       "\n",
       "    .dataframe tbody tr th {\n",
       "        vertical-align: top;\n",
       "    }\n",
       "\n",
       "    .dataframe thead th {\n",
       "        text-align: right;\n",
       "    }\n",
       "</style>\n",
       "<table border=\"1\" class=\"dataframe\">\n",
       "  <thead>\n",
       "    <tr style=\"text-align: right;\">\n",
       "      <th></th>\n",
       "      <th>kembang</th>\n",
       "      <th>usaha</th>\n",
       "      <th>dunia</th>\n",
       "      <th>hadir</th>\n",
       "      <th>foto</th>\n",
       "      <th>layak</th>\n",
       "      <th>bentuk</th>\n",
       "      <th>kuat</th>\n",
       "      <th>lawan</th>\n",
       "      <th>top</th>\n",
       "      <th>...</th>\n",
       "      <th>balur</th>\n",
       "      <th>semangatin</th>\n",
       "      <th>soms</th>\n",
       "      <th>subversif</th>\n",
       "      <th>maafin</th>\n",
       "      <th>fakboi</th>\n",
       "      <th>badung</th>\n",
       "      <th>sembur</th>\n",
       "      <th>alim</th>\n",
       "      <th>sentiment</th>\n",
       "    </tr>\n",
       "  </thead>\n",
       "  <tbody>\n",
       "    <tr>\n",
       "      <th>0</th>\n",
       "      <td>1</td>\n",
       "      <td>1</td>\n",
       "      <td>1</td>\n",
       "      <td>0</td>\n",
       "      <td>0</td>\n",
       "      <td>0</td>\n",
       "      <td>0</td>\n",
       "      <td>0</td>\n",
       "      <td>0</td>\n",
       "      <td>0</td>\n",
       "      <td>...</td>\n",
       "      <td>0</td>\n",
       "      <td>0</td>\n",
       "      <td>0</td>\n",
       "      <td>0</td>\n",
       "      <td>0</td>\n",
       "      <td>0</td>\n",
       "      <td>0</td>\n",
       "      <td>0</td>\n",
       "      <td>0</td>\n",
       "      <td>5</td>\n",
       "    </tr>\n",
       "    <tr>\n",
       "      <th>1</th>\n",
       "      <td>0</td>\n",
       "      <td>0</td>\n",
       "      <td>0</td>\n",
       "      <td>0</td>\n",
       "      <td>0</td>\n",
       "      <td>0</td>\n",
       "      <td>0</td>\n",
       "      <td>0</td>\n",
       "      <td>0</td>\n",
       "      <td>0</td>\n",
       "      <td>...</td>\n",
       "      <td>0</td>\n",
       "      <td>0</td>\n",
       "      <td>0</td>\n",
       "      <td>0</td>\n",
       "      <td>0</td>\n",
       "      <td>0</td>\n",
       "      <td>0</td>\n",
       "      <td>0</td>\n",
       "      <td>0</td>\n",
       "      <td>0</td>\n",
       "    </tr>\n",
       "    <tr>\n",
       "      <th>2</th>\n",
       "      <td>0</td>\n",
       "      <td>0</td>\n",
       "      <td>0</td>\n",
       "      <td>1</td>\n",
       "      <td>1</td>\n",
       "      <td>1</td>\n",
       "      <td>1</td>\n",
       "      <td>1</td>\n",
       "      <td>1</td>\n",
       "      <td>0</td>\n",
       "      <td>...</td>\n",
       "      <td>0</td>\n",
       "      <td>0</td>\n",
       "      <td>0</td>\n",
       "      <td>0</td>\n",
       "      <td>0</td>\n",
       "      <td>0</td>\n",
       "      <td>0</td>\n",
       "      <td>0</td>\n",
       "      <td>0</td>\n",
       "      <td>15</td>\n",
       "    </tr>\n",
       "    <tr>\n",
       "      <th>3</th>\n",
       "      <td>0</td>\n",
       "      <td>0</td>\n",
       "      <td>0</td>\n",
       "      <td>0</td>\n",
       "      <td>0</td>\n",
       "      <td>0</td>\n",
       "      <td>0</td>\n",
       "      <td>0</td>\n",
       "      <td>0</td>\n",
       "      <td>0</td>\n",
       "      <td>...</td>\n",
       "      <td>0</td>\n",
       "      <td>0</td>\n",
       "      <td>0</td>\n",
       "      <td>0</td>\n",
       "      <td>0</td>\n",
       "      <td>0</td>\n",
       "      <td>0</td>\n",
       "      <td>0</td>\n",
       "      <td>0</td>\n",
       "      <td>0</td>\n",
       "    </tr>\n",
       "    <tr>\n",
       "      <th>4</th>\n",
       "      <td>0</td>\n",
       "      <td>0</td>\n",
       "      <td>0</td>\n",
       "      <td>0</td>\n",
       "      <td>0</td>\n",
       "      <td>0</td>\n",
       "      <td>0</td>\n",
       "      <td>0</td>\n",
       "      <td>0</td>\n",
       "      <td>1</td>\n",
       "      <td>...</td>\n",
       "      <td>0</td>\n",
       "      <td>0</td>\n",
       "      <td>0</td>\n",
       "      <td>0</td>\n",
       "      <td>0</td>\n",
       "      <td>0</td>\n",
       "      <td>0</td>\n",
       "      <td>0</td>\n",
       "      <td>0</td>\n",
       "      <td>5</td>\n",
       "    </tr>\n",
       "    <tr>\n",
       "      <th>5</th>\n",
       "      <td>0</td>\n",
       "      <td>0</td>\n",
       "      <td>0</td>\n",
       "      <td>0</td>\n",
       "      <td>0</td>\n",
       "      <td>0</td>\n",
       "      <td>0</td>\n",
       "      <td>0</td>\n",
       "      <td>0</td>\n",
       "      <td>0</td>\n",
       "      <td>...</td>\n",
       "      <td>0</td>\n",
       "      <td>0</td>\n",
       "      <td>0</td>\n",
       "      <td>0</td>\n",
       "      <td>0</td>\n",
       "      <td>0</td>\n",
       "      <td>0</td>\n",
       "      <td>0</td>\n",
       "      <td>0</td>\n",
       "      <td>0</td>\n",
       "    </tr>\n",
       "    <tr>\n",
       "      <th>6</th>\n",
       "      <td>0</td>\n",
       "      <td>0</td>\n",
       "      <td>0</td>\n",
       "      <td>0</td>\n",
       "      <td>0</td>\n",
       "      <td>0</td>\n",
       "      <td>0</td>\n",
       "      <td>0</td>\n",
       "      <td>0</td>\n",
       "      <td>0</td>\n",
       "      <td>...</td>\n",
       "      <td>0</td>\n",
       "      <td>0</td>\n",
       "      <td>0</td>\n",
       "      <td>0</td>\n",
       "      <td>0</td>\n",
       "      <td>0</td>\n",
       "      <td>0</td>\n",
       "      <td>0</td>\n",
       "      <td>0</td>\n",
       "      <td>1</td>\n",
       "    </tr>\n",
       "    <tr>\n",
       "      <th>7</th>\n",
       "      <td>0</td>\n",
       "      <td>0</td>\n",
       "      <td>0</td>\n",
       "      <td>0</td>\n",
       "      <td>0</td>\n",
       "      <td>0</td>\n",
       "      <td>0</td>\n",
       "      <td>0</td>\n",
       "      <td>0</td>\n",
       "      <td>0</td>\n",
       "      <td>...</td>\n",
       "      <td>0</td>\n",
       "      <td>0</td>\n",
       "      <td>0</td>\n",
       "      <td>0</td>\n",
       "      <td>0</td>\n",
       "      <td>0</td>\n",
       "      <td>0</td>\n",
       "      <td>0</td>\n",
       "      <td>0</td>\n",
       "      <td>0</td>\n",
       "    </tr>\n",
       "    <tr>\n",
       "      <th>8</th>\n",
       "      <td>0</td>\n",
       "      <td>0</td>\n",
       "      <td>0</td>\n",
       "      <td>0</td>\n",
       "      <td>0</td>\n",
       "      <td>0</td>\n",
       "      <td>0</td>\n",
       "      <td>0</td>\n",
       "      <td>0</td>\n",
       "      <td>0</td>\n",
       "      <td>...</td>\n",
       "      <td>0</td>\n",
       "      <td>0</td>\n",
       "      <td>0</td>\n",
       "      <td>0</td>\n",
       "      <td>0</td>\n",
       "      <td>0</td>\n",
       "      <td>0</td>\n",
       "      <td>0</td>\n",
       "      <td>0</td>\n",
       "      <td>0</td>\n",
       "    </tr>\n",
       "    <tr>\n",
       "      <th>9</th>\n",
       "      <td>0</td>\n",
       "      <td>0</td>\n",
       "      <td>0</td>\n",
       "      <td>0</td>\n",
       "      <td>0</td>\n",
       "      <td>0</td>\n",
       "      <td>0</td>\n",
       "      <td>0</td>\n",
       "      <td>0</td>\n",
       "      <td>0</td>\n",
       "      <td>...</td>\n",
       "      <td>0</td>\n",
       "      <td>0</td>\n",
       "      <td>0</td>\n",
       "      <td>0</td>\n",
       "      <td>0</td>\n",
       "      <td>0</td>\n",
       "      <td>0</td>\n",
       "      <td>0</td>\n",
       "      <td>0</td>\n",
       "      <td>-4</td>\n",
       "    </tr>\n",
       "  </tbody>\n",
       "</table>\n",
       "<p>10 rows × 3055 columns</p>\n",
       "</div>"
      ],
      "text/plain": [
       "   kembang  usaha  dunia  hadir  foto  layak  bentuk  kuat  lawan  top  ...  \\\n",
       "0        1      1      1      0     0      0       0     0      0    0  ...   \n",
       "1        0      0      0      0     0      0       0     0      0    0  ...   \n",
       "2        0      0      0      1     1      1       1     1      1    0  ...   \n",
       "3        0      0      0      0     0      0       0     0      0    0  ...   \n",
       "4        0      0      0      0     0      0       0     0      0    1  ...   \n",
       "5        0      0      0      0     0      0       0     0      0    0  ...   \n",
       "6        0      0      0      0     0      0       0     0      0    0  ...   \n",
       "7        0      0      0      0     0      0       0     0      0    0  ...   \n",
       "8        0      0      0      0     0      0       0     0      0    0  ...   \n",
       "9        0      0      0      0     0      0       0     0      0    0  ...   \n",
       "\n",
       "   balur  semangatin  soms  subversif  maafin  fakboi  badung  sembur  alim  \\\n",
       "0      0           0     0          0       0       0       0       0     0   \n",
       "1      0           0     0          0       0       0       0       0     0   \n",
       "2      0           0     0          0       0       0       0       0     0   \n",
       "3      0           0     0          0       0       0       0       0     0   \n",
       "4      0           0     0          0       0       0       0       0     0   \n",
       "5      0           0     0          0       0       0       0       0     0   \n",
       "6      0           0     0          0       0       0       0       0     0   \n",
       "7      0           0     0          0       0       0       0       0     0   \n",
       "8      0           0     0          0       0       0       0       0     0   \n",
       "9      0           0     0          0       0       0       0       0     0   \n",
       "\n",
       "   sentiment  \n",
       "0          5  \n",
       "1          0  \n",
       "2         15  \n",
       "3          0  \n",
       "4          5  \n",
       "5          0  \n",
       "6          1  \n",
       "7          0  \n",
       "8          0  \n",
       "9         -4  \n",
       "\n",
       "[10 rows x 3055 columns]"
      ]
     },
     "execution_count": 37,
     "metadata": {},
     "output_type": "execute_result"
    }
   ],
   "source": [
    "df_sen.head(10)"
   ]
  },
  {
   "cell_type": "code",
   "execution_count": 38,
   "id": "674f5002",
   "metadata": {},
   "outputs": [],
   "source": [
    "cek_df = pd.DataFrame([])\n",
    "cek_df['text'] = df['Clean_Text'].copy()\n",
    "cek_df['sentiment'] = df_sen['sentiment'].copy()"
   ]
  },
  {
   "cell_type": "code",
   "execution_count": 39,
   "id": "2bc33588",
   "metadata": {},
   "outputs": [
    {
     "data": {
      "text/html": [
       "<div>\n",
       "<style scoped>\n",
       "    .dataframe tbody tr th:only-of-type {\n",
       "        vertical-align: middle;\n",
       "    }\n",
       "\n",
       "    .dataframe tbody tr th {\n",
       "        vertical-align: top;\n",
       "    }\n",
       "\n",
       "    .dataframe thead th {\n",
       "        text-align: right;\n",
       "    }\n",
       "</style>\n",
       "<table border=\"1\" class=\"dataframe\">\n",
       "  <thead>\n",
       "    <tr style=\"text-align: right;\">\n",
       "      <th></th>\n",
       "      <th>text</th>\n",
       "      <th>sentiment</th>\n",
       "    </tr>\n",
       "  </thead>\n",
       "  <tbody>\n",
       "    <tr>\n",
       "      <th>0</th>\n",
       "      <td>cina as saing kembang teknologi g usaha negara lomba lomba bangun dunia virtual metaverse</td>\n",
       "      <td>5</td>\n",
       "    </tr>\n",
       "    <tr>\n",
       "      <th>1</th>\n",
       "      <td>metaverse girl group gaktu</td>\n",
       "      <td>0</td>\n",
       "    </tr>\n",
       "    <tr>\n",
       "      <th>2</th>\n",
       "      <td>aespa hadir foto teaser hallucination quest gandeng layak bentuk kuat lawan kompak dewi metaverse</td>\n",
       "      <td>15</td>\n",
       "    </tr>\n",
       "    <tr>\n",
       "      <th>3</th>\n",
       "      <td>bismilah win</td>\n",
       "      <td>0</td>\n",
       "    </tr>\n",
       "    <tr>\n",
       "      <th>4</th>\n",
       "      <td>scare elemon top muah muah</td>\n",
       "      <td>5</td>\n",
       "    </tr>\n",
       "    <tr>\n",
       "      <th>5</th>\n",
       "      <td>tiktok star gabriel salazar</td>\n",
       "      <td>0</td>\n",
       "    </tr>\n",
       "    <tr>\n",
       "      <th>6</th>\n",
       "      <td>hahaha moga motor metaverse</td>\n",
       "      <td>1</td>\n",
       "    </tr>\n",
       "    <tr>\n",
       "      <th>7</th>\n",
       "      <td>heheh nak candyland kat metaverse</td>\n",
       "      <td>0</td>\n",
       "    </tr>\n",
       "    <tr>\n",
       "      <th>8</th>\n",
       "      <td>lokomotiftir</td>\n",
       "      <td>0</td>\n",
       "    </tr>\n",
       "    <tr>\n",
       "      <th>9</th>\n",
       "      <td>cek this</td>\n",
       "      <td>-4</td>\n",
       "    </tr>\n",
       "  </tbody>\n",
       "</table>\n",
       "</div>"
      ],
      "text/plain": [
       "                                                                                                text  \\\n",
       "0          cina as saing kembang teknologi g usaha negara lomba lomba bangun dunia virtual metaverse   \n",
       "1                                                                         metaverse girl group gaktu   \n",
       "2  aespa hadir foto teaser hallucination quest gandeng layak bentuk kuat lawan kompak dewi metaverse   \n",
       "3                                                                                       bismilah win   \n",
       "4                                                                         scare elemon top muah muah   \n",
       "5                                                                        tiktok star gabriel salazar   \n",
       "6                                                                        hahaha moga motor metaverse   \n",
       "7                                                                  heheh nak candyland kat metaverse   \n",
       "8                                                                                       lokomotiftir   \n",
       "9                                                                                           cek this   \n",
       "\n",
       "   sentiment  \n",
       "0          5  \n",
       "1          0  \n",
       "2         15  \n",
       "3          0  \n",
       "4          5  \n",
       "5          0  \n",
       "6          1  \n",
       "7          0  \n",
       "8          0  \n",
       "9         -4  "
      ]
     },
     "execution_count": 39,
     "metadata": {},
     "output_type": "execute_result"
    }
   ],
   "source": [
    "cek_df.head(10)"
   ]
  },
  {
   "cell_type": "markdown",
   "id": "1ce20bb3",
   "metadata": {},
   "source": [
    "#### EDA"
   ]
  },
  {
   "cell_type": "code",
   "execution_count": 40,
   "id": "d2b6f4d9",
   "metadata": {},
   "outputs": [
    {
     "data": {
      "text/plain": [
       "Text(0.5, 0, 'sentiment')"
      ]
     },
     "execution_count": 40,
     "metadata": {},
     "output_type": "execute_result"
    },
    {
     "data": {
      "image/png": "[encoded data removed]",
      "text/plain": [
       "<Figure size 432x288 with 1 Axes>"
      ]
     },
     "metadata": {},
     "output_type": "display_data"
    }
   ],
   "source": [
    "sns.set(style='white', palette='muted', color_codes=True)\n",
    "sns.kdeplot(df_sen['sentiment'], color='m', shade=True)\n",
    "plt.title('Sentiment Distribution')\n",
    "plt.xlabel('sentiment')"
   ]
  },
  {
   "cell_type": "code",
   "execution_count": 41,
   "id": "1b8d11d6",
   "metadata": {},
   "outputs": [
    {
     "data": {
      "text/plain": [
       "<AxesSubplot:xlabel='sentiment'>"
      ]
     },
     "execution_count": 41,
     "metadata": {},
     "output_type": "execute_result"
    },
    {
     "data": {
      "image/png": "[encoded data removed]",
      "text/plain": [
       "<Figure size 432x288 with 1 Axes>"
      ]
     },
     "metadata": {},
     "output_type": "display_data"
    }
   ],
   "source": [
    "sns.set(style='whitegrid')\n",
    "sns.boxplot(x=df_sen['sentiment'])"
   ]
  },
  {
   "cell_type": "code",
   "execution_count": 42,
   "id": "fd52602d",
   "metadata": {},
   "outputs": [
    {
     "data": {
      "text/html": [
       "<div>\n",
       "<style scoped>\n",
       "    .dataframe tbody tr th:only-of-type {\n",
       "        vertical-align: middle;\n",
       "    }\n",
       "\n",
       "    .dataframe tbody tr th {\n",
       "        vertical-align: top;\n",
       "    }\n",
       "\n",
       "    .dataframe thead th {\n",
       "        text-align: right;\n",
       "    }\n",
       "</style>\n",
       "<table border=\"1\" class=\"dataframe\">\n",
       "  <thead>\n",
       "    <tr style=\"text-align: right;\">\n",
       "      <th></th>\n",
       "      <th>kembang</th>\n",
       "      <th>usaha</th>\n",
       "      <th>dunia</th>\n",
       "      <th>hadir</th>\n",
       "      <th>foto</th>\n",
       "      <th>layak</th>\n",
       "      <th>bentuk</th>\n",
       "      <th>kuat</th>\n",
       "      <th>lawan</th>\n",
       "      <th>top</th>\n",
       "      <th>...</th>\n",
       "      <th>balur</th>\n",
       "      <th>semangatin</th>\n",
       "      <th>soms</th>\n",
       "      <th>subversif</th>\n",
       "      <th>maafin</th>\n",
       "      <th>fakboi</th>\n",
       "      <th>badung</th>\n",
       "      <th>sembur</th>\n",
       "      <th>alim</th>\n",
       "      <th>sentiment</th>\n",
       "    </tr>\n",
       "  </thead>\n",
       "  <tbody>\n",
       "    <tr>\n",
       "      <th>count</th>\n",
       "      <td>54431.000000</td>\n",
       "      <td>54431.000000</td>\n",
       "      <td>54431.000000</td>\n",
       "      <td>54431.000000</td>\n",
       "      <td>54431.000000</td>\n",
       "      <td>54431.000000</td>\n",
       "      <td>54431.000000</td>\n",
       "      <td>54431.000000</td>\n",
       "      <td>54431.000000</td>\n",
       "      <td>54431.000000</td>\n",
       "      <td>...</td>\n",
       "      <td>54431.000000</td>\n",
       "      <td>54431.000000</td>\n",
       "      <td>54431.000000</td>\n",
       "      <td>54431.000000</td>\n",
       "      <td>54431.000000</td>\n",
       "      <td>54431.000000</td>\n",
       "      <td>54431.000000</td>\n",
       "      <td>54431.000000</td>\n",
       "      <td>54431.000000</td>\n",
       "      <td>54431.000000</td>\n",
       "    </tr>\n",
       "    <tr>\n",
       "      <th>mean</th>\n",
       "      <td>0.027172</td>\n",
       "      <td>0.020889</td>\n",
       "      <td>0.107861</td>\n",
       "      <td>0.015028</td>\n",
       "      <td>0.005971</td>\n",
       "      <td>0.002168</td>\n",
       "      <td>0.009425</td>\n",
       "      <td>0.003619</td>\n",
       "      <td>0.001856</td>\n",
       "      <td>0.001800</td>\n",
       "      <td>...</td>\n",
       "      <td>0.000018</td>\n",
       "      <td>0.000018</td>\n",
       "      <td>0.000018</td>\n",
       "      <td>0.000018</td>\n",
       "      <td>0.000018</td>\n",
       "      <td>0.000018</td>\n",
       "      <td>0.000018</td>\n",
       "      <td>0.000018</td>\n",
       "      <td>0.000018</td>\n",
       "      <td>1.940916</td>\n",
       "    </tr>\n",
       "    <tr>\n",
       "      <th>std</th>\n",
       "      <td>0.169988</td>\n",
       "      <td>0.161931</td>\n",
       "      <td>0.366364</td>\n",
       "      <td>0.127131</td>\n",
       "      <td>0.083010</td>\n",
       "      <td>0.048065</td>\n",
       "      <td>0.102707</td>\n",
       "      <td>0.060963</td>\n",
       "      <td>0.044712</td>\n",
       "      <td>0.042825</td>\n",
       "      <td>...</td>\n",
       "      <td>0.004286</td>\n",
       "      <td>0.004286</td>\n",
       "      <td>0.004286</td>\n",
       "      <td>0.004286</td>\n",
       "      <td>0.004286</td>\n",
       "      <td>0.004286</td>\n",
       "      <td>0.004286</td>\n",
       "      <td>0.004286</td>\n",
       "      <td>0.004286</td>\n",
       "      <td>5.553852</td>\n",
       "    </tr>\n",
       "    <tr>\n",
       "      <th>min</th>\n",
       "      <td>0.000000</td>\n",
       "      <td>0.000000</td>\n",
       "      <td>0.000000</td>\n",
       "      <td>0.000000</td>\n",
       "      <td>0.000000</td>\n",
       "      <td>0.000000</td>\n",
       "      <td>0.000000</td>\n",
       "      <td>0.000000</td>\n",
       "      <td>0.000000</td>\n",
       "      <td>0.000000</td>\n",
       "      <td>...</td>\n",
       "      <td>0.000000</td>\n",
       "      <td>0.000000</td>\n",
       "      <td>0.000000</td>\n",
       "      <td>0.000000</td>\n",
       "      <td>0.000000</td>\n",
       "      <td>0.000000</td>\n",
       "      <td>0.000000</td>\n",
       "      <td>0.000000</td>\n",
       "      <td>0.000000</td>\n",
       "      <td>-37.000000</td>\n",
       "    </tr>\n",
       "    <tr>\n",
       "      <th>25%</th>\n",
       "      <td>0.000000</td>\n",
       "      <td>0.000000</td>\n",
       "      <td>0.000000</td>\n",
       "      <td>0.000000</td>\n",
       "      <td>0.000000</td>\n",
       "      <td>0.000000</td>\n",
       "      <td>0.000000</td>\n",
       "      <td>0.000000</td>\n",
       "      <td>0.000000</td>\n",
       "      <td>0.000000</td>\n",
       "      <td>...</td>\n",
       "      <td>0.000000</td>\n",
       "      <td>0.000000</td>\n",
       "      <td>0.000000</td>\n",
       "      <td>0.000000</td>\n",
       "      <td>0.000000</td>\n",
       "      <td>0.000000</td>\n",
       "      <td>0.000000</td>\n",
       "      <td>0.000000</td>\n",
       "      <td>0.000000</td>\n",
       "      <td>0.000000</td>\n",
       "    </tr>\n",
       "    <tr>\n",
       "      <th>50%</th>\n",
       "      <td>0.000000</td>\n",
       "      <td>0.000000</td>\n",
       "      <td>0.000000</td>\n",
       "      <td>0.000000</td>\n",
       "      <td>0.000000</td>\n",
       "      <td>0.000000</td>\n",
       "      <td>0.000000</td>\n",
       "      <td>0.000000</td>\n",
       "      <td>0.000000</td>\n",
       "      <td>0.000000</td>\n",
       "      <td>...</td>\n",
       "      <td>0.000000</td>\n",
       "      <td>0.000000</td>\n",
       "      <td>0.000000</td>\n",
       "      <td>0.000000</td>\n",
       "      <td>0.000000</td>\n",
       "      <td>0.000000</td>\n",
       "      <td>0.000000</td>\n",
       "      <td>0.000000</td>\n",
       "      <td>0.000000</td>\n",
       "      <td>1.000000</td>\n",
       "    </tr>\n",
       "    <tr>\n",
       "      <th>75%</th>\n",
       "      <td>0.000000</td>\n",
       "      <td>0.000000</td>\n",
       "      <td>0.000000</td>\n",
       "      <td>0.000000</td>\n",
       "      <td>0.000000</td>\n",
       "      <td>0.000000</td>\n",
       "      <td>0.000000</td>\n",
       "      <td>0.000000</td>\n",
       "      <td>0.000000</td>\n",
       "      <td>0.000000</td>\n",
       "      <td>...</td>\n",
       "      <td>0.000000</td>\n",
       "      <td>0.000000</td>\n",
       "      <td>0.000000</td>\n",
       "      <td>0.000000</td>\n",
       "      <td>0.000000</td>\n",
       "      <td>0.000000</td>\n",
       "      <td>0.000000</td>\n",
       "      <td>0.000000</td>\n",
       "      <td>0.000000</td>\n",
       "      <td>5.000000</td>\n",
       "    </tr>\n",
       "    <tr>\n",
       "      <th>max</th>\n",
       "      <td>3.000000</td>\n",
       "      <td>4.000000</td>\n",
       "      <td>6.000000</td>\n",
       "      <td>3.000000</td>\n",
       "      <td>3.000000</td>\n",
       "      <td>2.000000</td>\n",
       "      <td>4.000000</td>\n",
       "      <td>2.000000</td>\n",
       "      <td>2.000000</td>\n",
       "      <td>2.000000</td>\n",
       "      <td>...</td>\n",
       "      <td>1.000000</td>\n",
       "      <td>1.000000</td>\n",
       "      <td>1.000000</td>\n",
       "      <td>1.000000</td>\n",
       "      <td>1.000000</td>\n",
       "      <td>1.000000</td>\n",
       "      <td>1.000000</td>\n",
       "      <td>1.000000</td>\n",
       "      <td>1.000000</td>\n",
       "      <td>43.000000</td>\n",
       "    </tr>\n",
       "  </tbody>\n",
       "</table>\n",
       "<p>8 rows × 3055 columns</p>\n",
       "</div>"
      ],
      "text/plain": [
       "            kembang         usaha         dunia         hadir          foto  \\\n",
       "count  54431.000000  54431.000000  54431.000000  54431.000000  54431.000000   \n",
       "mean       0.027172      0.020889      0.107861      0.015028      0.005971   \n",
       "std        0.169988      0.161931      0.366364      0.127131      0.083010   \n",
       "min        0.000000      0.000000      0.000000      0.000000      0.000000   \n",
       "25%        0.000000      0.000000      0.000000      0.000000      0.000000   \n",
       "50%        0.000000      0.000000      0.000000      0.000000      0.000000   \n",
       "75%        0.000000      0.000000      0.000000      0.000000      0.000000   \n",
       "max        3.000000      4.000000      6.000000      3.000000      3.000000   \n",
       "\n",
       "              layak        bentuk          kuat         lawan           top  \\\n",
       "count  54431.000000  54431.000000  54431.000000  54431.000000  54431.000000   \n",
       "mean       0.002168      0.009425      0.003619      0.001856      0.001800   \n",
       "std        0.048065      0.102707      0.060963      0.044712      0.042825   \n",
       "min        0.000000      0.000000      0.000000      0.000000      0.000000   \n",
       "25%        0.000000      0.000000      0.000000      0.000000      0.000000   \n",
       "50%        0.000000      0.000000      0.000000      0.000000      0.000000   \n",
       "75%        0.000000      0.000000      0.000000      0.000000      0.000000   \n",
       "max        2.000000      4.000000      2.000000      2.000000      2.000000   \n",
       "\n",
       "       ...         balur    semangatin          soms     subversif  \\\n",
       "count  ...  54431.000000  54431.000000  54431.000000  54431.000000   \n",
       "mean   ...      0.000018      0.000018      0.000018      0.000018   \n",
       "std    ...      0.004286      0.004286      0.004286      0.004286   \n",
       "min    ...      0.000000      0.000000      0.000000      0.000000   \n",
       "25%    ...      0.000000      0.000000      0.000000      0.000000   \n",
       "50%    ...      0.000000      0.000000      0.000000      0.000000   \n",
       "75%    ...      0.000000      0.000000      0.000000      0.000000   \n",
       "max    ...      1.000000      1.000000      1.000000      1.000000   \n",
       "\n",
       "             maafin        fakboi        badung        sembur          alim  \\\n",
       "count  54431.000000  54431.000000  54431.000000  54431.000000  54431.000000   \n",
       "mean       0.000018      0.000018      0.000018      0.000018      0.000018   \n",
       "std        0.004286      0.004286      0.004286      0.004286      0.004286   \n",
       "min        0.000000      0.000000      0.000000      0.000000      0.000000   \n",
       "25%        0.000000      0.000000      0.000000      0.000000      0.000000   \n",
       "50%        0.000000      0.000000      0.000000      0.000000      0.000000   \n",
       "75%        0.000000      0.000000      0.000000      0.000000      0.000000   \n",
       "max        1.000000      1.000000      1.000000      1.000000      1.000000   \n",
       "\n",
       "          sentiment  \n",
       "count  54431.000000  \n",
       "mean       1.940916  \n",
       "std        5.553852  \n",
       "min      -37.000000  \n",
       "25%        0.000000  \n",
       "50%        1.000000  \n",
       "75%        5.000000  \n",
       "max       43.000000  \n",
       "\n",
       "[8 rows x 3055 columns]"
      ]
     },
     "execution_count": 42,
     "metadata": {},
     "output_type": "execute_result"
    }
   ],
   "source": [
    "df_sen.describe()"
   ]
  },
  {
   "cell_type": "code",
   "execution_count": 43,
   "id": "13098c68",
   "metadata": {},
   "outputs": [],
   "source": [
    "#correlation between words that is included in the sentiment\n",
    "def get_redundant_pairs(df):\n",
    "    '''Get diagonal and lower triangular pairs of correlation matrix'''\n",
    "    pairs_to_drop = set()\n",
    "    cols = df.columns\n",
    "    for i in range(0, df.shape[1]):\n",
    "        for j in range(0, i+1):\n",
    "            pairs_to_drop.add((cols[i], cols[j]))\n",
    "    return pairs_to_drop\n",
    "\n",
    "def get_top_abs_correlations(df, n=10):\n",
    "    au_corr = df.corr().abs().unstack()\n",
    "    labels_to_drop = get_redundant_pairs(df)\n",
    "    au_corr = au_corr.drop(labels=labels_to_drop).sort_values(ascending=False)\n",
    "    return au_corr\n",
    "\n",
    "#print(\"Top Absolute Correlations\")\n",
    "#print(get_top_abs_correlations(df_sen, 10))\n",
    "au = get_top_abs_correlations(df_sen, 15)"
   ]
  },
  {
   "cell_type": "code",
   "execution_count": 44,
   "id": "9e14ff59",
   "metadata": {},
   "outputs": [
    {
     "name": "stdout",
     "output_type": "stream",
     "text": [
      "Perfect Correlation\n"
     ]
    },
    {
     "data": {
      "text/plain": [
       "kasual         mudarat          1.0\n",
       "khasiat        haru biru        1.0\n",
       "alkisah        harmonis         1.0\n",
       "gegap          gempita          1.0\n",
       "mustajab       persen           1.0\n",
       "idiosinkratis  transendental    1.0\n",
       "dtype: float64"
      ]
     },
     "execution_count": 44,
     "metadata": {},
     "output_type": "execute_result"
    }
   ],
   "source": [
    "print('Perfect Correlation')\n",
    "au[au==1]"
   ]
  },
  {
   "cell_type": "code",
   "execution_count": 45,
   "id": "74503735",
   "metadata": {},
   "outputs": [],
   "source": [
    "top10 = au[au<float(1)][0:10]\n",
    "label = top10.index\n",
    "label_list =[]\n",
    "for i in label:\n",
    "    for j in i:\n",
    "        if(j not in label_list):\n",
    "            label_list.append(j)\n",
    "            \n",
    "df_sen_corr = df_sen[label_list]\n",
    "corr = df_sen_corr.corr()\n",
    "for i in label_list:\n",
    "    for j in label_list:\n",
    "        if i!=j:\n",
    "            corr[i][j] = round(corr[i][j],3)\n",
    "            "
   ]
  },
  {
   "cell_type": "code",
   "execution_count": 46,
   "id": "52f90f35",
   "metadata": {},
   "outputs": [
    {
     "data": {
      "image/png": "[encoded data removed]",
      "text/plain": [
       "<Figure size 1080x1080 with 2 Axes>"
      ]
     },
     "metadata": {},
     "output_type": "display_data"
    }
   ],
   "source": [
    "plt.figure(figsize=(15,15))\n",
    "h = sns.heatmap(corr, annot=True,vmin=-1, vmax=1, center= 0)\n",
    "plt.show()"
   ]
  },
  {
   "cell_type": "code",
   "execution_count": 47,
   "id": "5e7a06e4",
   "metadata": {},
   "outputs": [],
   "source": [
    "#top15 = au[au<float(1)][0:15]"
   ]
  },
  {
   "cell_type": "code",
   "execution_count": 48,
   "id": "f571e4a8",
   "metadata": {},
   "outputs": [
    {
     "ename": "NotImplementedError",
     "evalue": "isna is not defined for MultiIndex",
     "output_type": "error",
     "traceback": [
      "\u001b[1;31m---------------------------------------------------------------------------\u001b[0m",
      "\u001b[1;31mNotImplementedError\u001b[0m                       Traceback (most recent call last)",
      "Input \u001b[1;32mIn [48]\u001b[0m, in \u001b[0;36m<cell line: 2>\u001b[1;34m()\u001b[0m\n\u001b[0;32m      1\u001b[0m pal \u001b[38;5;241m=\u001b[39msns\u001b[38;5;241m.\u001b[39mdark_palette(\u001b[38;5;124m\"\u001b[39m\u001b[38;5;124mpurple\u001b[39m\u001b[38;5;124m\"\u001b[39m, \u001b[38;5;28minput\u001b[39m\u001b[38;5;241m=\u001b[39m\u001b[38;5;124m\"\u001b[39m\u001b[38;5;124mxkcd\u001b[39m\u001b[38;5;124m\"\u001b[39m,n_colors\u001b[38;5;241m=\u001b[39m\u001b[38;5;241m15\u001b[39m)\n\u001b[1;32m----> 2\u001b[0m g \u001b[38;5;241m=\u001b[39m \u001b[43msns\u001b[49m\u001b[38;5;241;43m.\u001b[39;49m\u001b[43mbarplot\u001b[49m\u001b[43m(\u001b[49m\u001b[43my\u001b[49m\u001b[43m \u001b[49m\u001b[38;5;241;43m=\u001b[39;49m\u001b[43m \u001b[49m\u001b[43mtop15\u001b[49m\u001b[38;5;241;43m.\u001b[39;49m\u001b[43mindex\u001b[49m\u001b[43m \u001b[49m\u001b[43m,\u001b[49m\u001b[43m \u001b[49m\u001b[43mx\u001b[49m\u001b[43m \u001b[49m\u001b[38;5;241;43m=\u001b[39;49m\u001b[43m \u001b[49m\u001b[43mtop15\u001b[49m\u001b[43m,\u001b[49m\u001b[43mpalette\u001b[49m\u001b[38;5;241;43m=\u001b[39;49m\u001b[43mpal\u001b[49m\u001b[43m)\u001b[49m\n\u001b[0;32m      3\u001b[0m g\u001b[38;5;241m.\u001b[39mgrid\u001b[38;5;241m=\u001b[39m\u001b[38;5;28;01mFalse\u001b[39;00m\n\u001b[0;32m      4\u001b[0m plt\u001b[38;5;241m.\u001b[39mxlabel(\u001b[38;5;124m'\u001b[39m\u001b[38;5;124mcorrelation\u001b[39m\u001b[38;5;124m'\u001b[39m)\n",
      "File \u001b[1;32m~\\anaconda3\\lib\\site-packages\\seaborn\\_decorators.py:46\u001b[0m, in \u001b[0;36m_deprecate_positional_args.<locals>.inner_f\u001b[1;34m(*args, **kwargs)\u001b[0m\n\u001b[0;32m     36\u001b[0m     warnings\u001b[38;5;241m.\u001b[39mwarn(\n\u001b[0;32m     37\u001b[0m         \u001b[38;5;124m\"\u001b[39m\u001b[38;5;124mPass the following variable\u001b[39m\u001b[38;5;132;01m{}\u001b[39;00m\u001b[38;5;124m as \u001b[39m\u001b[38;5;132;01m{}\u001b[39;00m\u001b[38;5;124mkeyword arg\u001b[39m\u001b[38;5;132;01m{}\u001b[39;00m\u001b[38;5;124m: \u001b[39m\u001b[38;5;132;01m{}\u001b[39;00m\u001b[38;5;124m. \u001b[39m\u001b[38;5;124m\"\u001b[39m\n\u001b[0;32m     38\u001b[0m         \u001b[38;5;124m\"\u001b[39m\u001b[38;5;124mFrom version 0.12, the only valid positional argument \u001b[39m\u001b[38;5;124m\"\u001b[39m\n\u001b[1;32m   (...)\u001b[0m\n\u001b[0;32m     43\u001b[0m         \u001b[38;5;167;01mFutureWarning\u001b[39;00m\n\u001b[0;32m     44\u001b[0m     )\n\u001b[0;32m     45\u001b[0m kwargs\u001b[38;5;241m.\u001b[39mupdate({k: arg \u001b[38;5;28;01mfor\u001b[39;00m k, arg \u001b[38;5;129;01min\u001b[39;00m \u001b[38;5;28mzip\u001b[39m(sig\u001b[38;5;241m.\u001b[39mparameters, args)})\n\u001b[1;32m---> 46\u001b[0m \u001b[38;5;28;01mreturn\u001b[39;00m f(\u001b[38;5;241m*\u001b[39m\u001b[38;5;241m*\u001b[39mkwargs)\n",
      "File \u001b[1;32m~\\anaconda3\\lib\\site-packages\\seaborn\\categorical.py:3182\u001b[0m, in \u001b[0;36mbarplot\u001b[1;34m(x, y, hue, data, order, hue_order, estimator, ci, n_boot, units, seed, orient, color, palette, saturation, errcolor, errwidth, capsize, dodge, ax, **kwargs)\u001b[0m\n\u001b[0;32m   3169\u001b[0m \u001b[38;5;129m@_deprecate_positional_args\u001b[39m\n\u001b[0;32m   3170\u001b[0m \u001b[38;5;28;01mdef\u001b[39;00m \u001b[38;5;21mbarplot\u001b[39m(\n\u001b[0;32m   3171\u001b[0m     \u001b[38;5;241m*\u001b[39m,\n\u001b[1;32m   (...)\u001b[0m\n\u001b[0;32m   3179\u001b[0m     \u001b[38;5;241m*\u001b[39m\u001b[38;5;241m*\u001b[39mkwargs,\n\u001b[0;32m   3180\u001b[0m ):\n\u001b[1;32m-> 3182\u001b[0m     plotter \u001b[38;5;241m=\u001b[39m \u001b[43m_BarPlotter\u001b[49m\u001b[43m(\u001b[49m\u001b[43mx\u001b[49m\u001b[43m,\u001b[49m\u001b[43m \u001b[49m\u001b[43my\u001b[49m\u001b[43m,\u001b[49m\u001b[43m \u001b[49m\u001b[43mhue\u001b[49m\u001b[43m,\u001b[49m\u001b[43m \u001b[49m\u001b[43mdata\u001b[49m\u001b[43m,\u001b[49m\u001b[43m \u001b[49m\u001b[43morder\u001b[49m\u001b[43m,\u001b[49m\u001b[43m \u001b[49m\u001b[43mhue_order\u001b[49m\u001b[43m,\u001b[49m\n\u001b[0;32m   3183\u001b[0m \u001b[43m                          \u001b[49m\u001b[43mestimator\u001b[49m\u001b[43m,\u001b[49m\u001b[43m \u001b[49m\u001b[43mci\u001b[49m\u001b[43m,\u001b[49m\u001b[43m \u001b[49m\u001b[43mn_boot\u001b[49m\u001b[43m,\u001b[49m\u001b[43m \u001b[49m\u001b[43munits\u001b[49m\u001b[43m,\u001b[49m\u001b[43m \u001b[49m\u001b[43mseed\u001b[49m\u001b[43m,\u001b[49m\n\u001b[0;32m   3184\u001b[0m \u001b[43m                          \u001b[49m\u001b[43morient\u001b[49m\u001b[43m,\u001b[49m\u001b[43m \u001b[49m\u001b[43mcolor\u001b[49m\u001b[43m,\u001b[49m\u001b[43m \u001b[49m\u001b[43mpalette\u001b[49m\u001b[43m,\u001b[49m\u001b[43m \u001b[49m\u001b[43msaturation\u001b[49m\u001b[43m,\u001b[49m\n\u001b[0;32m   3185\u001b[0m \u001b[43m                          \u001b[49m\u001b[43merrcolor\u001b[49m\u001b[43m,\u001b[49m\u001b[43m \u001b[49m\u001b[43merrwidth\u001b[49m\u001b[43m,\u001b[49m\u001b[43m \u001b[49m\u001b[43mcapsize\u001b[49m\u001b[43m,\u001b[49m\u001b[43m \u001b[49m\u001b[43mdodge\u001b[49m\u001b[43m)\u001b[49m\n\u001b[0;32m   3187\u001b[0m     \u001b[38;5;28;01mif\u001b[39;00m ax \u001b[38;5;129;01mis\u001b[39;00m \u001b[38;5;28;01mNone\u001b[39;00m:\n\u001b[0;32m   3188\u001b[0m         ax \u001b[38;5;241m=\u001b[39m plt\u001b[38;5;241m.\u001b[39mgca()\n",
      "File \u001b[1;32m~\\anaconda3\\lib\\site-packages\\seaborn\\categorical.py:1584\u001b[0m, in \u001b[0;36m_BarPlotter.__init__\u001b[1;34m(self, x, y, hue, data, order, hue_order, estimator, ci, n_boot, units, seed, orient, color, palette, saturation, errcolor, errwidth, capsize, dodge)\u001b[0m\n\u001b[0;32m   1579\u001b[0m \u001b[38;5;28;01mdef\u001b[39;00m \u001b[38;5;21m__init__\u001b[39m(\u001b[38;5;28mself\u001b[39m, x, y, hue, data, order, hue_order,\n\u001b[0;32m   1580\u001b[0m              estimator, ci, n_boot, units, seed,\n\u001b[0;32m   1581\u001b[0m              orient, color, palette, saturation, errcolor,\n\u001b[0;32m   1582\u001b[0m              errwidth, capsize, dodge):\n\u001b[0;32m   1583\u001b[0m     \u001b[38;5;124;03m\"\"\"Initialize the plotter.\"\"\"\u001b[39;00m\n\u001b[1;32m-> 1584\u001b[0m     \u001b[38;5;28;43mself\u001b[39;49m\u001b[38;5;241;43m.\u001b[39;49m\u001b[43mestablish_variables\u001b[49m\u001b[43m(\u001b[49m\u001b[43mx\u001b[49m\u001b[43m,\u001b[49m\u001b[43m \u001b[49m\u001b[43my\u001b[49m\u001b[43m,\u001b[49m\u001b[43m \u001b[49m\u001b[43mhue\u001b[49m\u001b[43m,\u001b[49m\u001b[43m \u001b[49m\u001b[43mdata\u001b[49m\u001b[43m,\u001b[49m\u001b[43m \u001b[49m\u001b[43morient\u001b[49m\u001b[43m,\u001b[49m\n\u001b[0;32m   1585\u001b[0m \u001b[43m                             \u001b[49m\u001b[43morder\u001b[49m\u001b[43m,\u001b[49m\u001b[43m \u001b[49m\u001b[43mhue_order\u001b[49m\u001b[43m,\u001b[49m\u001b[43m \u001b[49m\u001b[43munits\u001b[49m\u001b[43m)\u001b[49m\n\u001b[0;32m   1586\u001b[0m     \u001b[38;5;28mself\u001b[39m\u001b[38;5;241m.\u001b[39mestablish_colors(color, palette, saturation)\n\u001b[0;32m   1587\u001b[0m     \u001b[38;5;28mself\u001b[39m\u001b[38;5;241m.\u001b[39mestimate_statistic(estimator, ci, n_boot, seed)\n",
      "File \u001b[1;32m~\\anaconda3\\lib\\site-packages\\seaborn\\categorical.py:156\u001b[0m, in \u001b[0;36m_CategoricalPlotter.establish_variables\u001b[1;34m(self, x, y, hue, data, orient, order, hue_order, units)\u001b[0m\n\u001b[0;32m    153\u001b[0m         \u001b[38;5;28;01mraise\u001b[39;00m \u001b[38;5;167;01mValueError\u001b[39;00m(err)\n\u001b[0;32m    155\u001b[0m \u001b[38;5;66;03m# Figure out the plotting orientation\u001b[39;00m\n\u001b[1;32m--> 156\u001b[0m orient \u001b[38;5;241m=\u001b[39m \u001b[43minfer_orient\u001b[49m\u001b[43m(\u001b[49m\n\u001b[0;32m    157\u001b[0m \u001b[43m    \u001b[49m\u001b[43mx\u001b[49m\u001b[43m,\u001b[49m\u001b[43m \u001b[49m\u001b[43my\u001b[49m\u001b[43m,\u001b[49m\u001b[43m \u001b[49m\u001b[43morient\u001b[49m\u001b[43m,\u001b[49m\u001b[43m \u001b[49m\u001b[43mrequire_numeric\u001b[49m\u001b[38;5;241;43m=\u001b[39;49m\u001b[38;5;28;43mself\u001b[39;49m\u001b[38;5;241;43m.\u001b[39;49m\u001b[43mrequire_numeric\u001b[49m\n\u001b[0;32m    158\u001b[0m \u001b[43m\u001b[49m\u001b[43m)\u001b[49m\n\u001b[0;32m    160\u001b[0m \u001b[38;5;66;03m# Option 2a:\u001b[39;00m\n\u001b[0;32m    161\u001b[0m \u001b[38;5;66;03m# We are plotting a single set of data\u001b[39;00m\n\u001b[0;32m    162\u001b[0m \u001b[38;5;66;03m# ------------------------------------\u001b[39;00m\n\u001b[0;32m    163\u001b[0m \u001b[38;5;28;01mif\u001b[39;00m x \u001b[38;5;129;01mis\u001b[39;00m \u001b[38;5;28;01mNone\u001b[39;00m \u001b[38;5;129;01mor\u001b[39;00m y \u001b[38;5;129;01mis\u001b[39;00m \u001b[38;5;28;01mNone\u001b[39;00m:\n\u001b[0;32m    164\u001b[0m \n\u001b[0;32m    165\u001b[0m     \u001b[38;5;66;03m# Determine where the data are\u001b[39;00m\n",
      "File \u001b[1;32m~\\anaconda3\\lib\\site-packages\\seaborn\\_core.py:1312\u001b[0m, in \u001b[0;36minfer_orient\u001b[1;34m(x, y, orient, require_numeric)\u001b[0m\n\u001b[0;32m   1284\u001b[0m \u001b[38;5;124;03m\"\"\"Determine how the plot should be oriented based on the data.\u001b[39;00m\n\u001b[0;32m   1285\u001b[0m \n\u001b[0;32m   1286\u001b[0m \u001b[38;5;124;03mFor historical reasons, the convention is to call a plot \"horizontally\"\u001b[39;00m\n\u001b[1;32m   (...)\u001b[0m\n\u001b[0;32m   1308\u001b[0m \n\u001b[0;32m   1309\u001b[0m \u001b[38;5;124;03m\"\"\"\u001b[39;00m\n\u001b[0;32m   1311\u001b[0m x_type \u001b[38;5;241m=\u001b[39m \u001b[38;5;28;01mNone\u001b[39;00m \u001b[38;5;28;01mif\u001b[39;00m x \u001b[38;5;129;01mis\u001b[39;00m \u001b[38;5;28;01mNone\u001b[39;00m \u001b[38;5;28;01melse\u001b[39;00m variable_type(x)\n\u001b[1;32m-> 1312\u001b[0m y_type \u001b[38;5;241m=\u001b[39m \u001b[38;5;28;01mNone\u001b[39;00m \u001b[38;5;28;01mif\u001b[39;00m y \u001b[38;5;129;01mis\u001b[39;00m \u001b[38;5;28;01mNone\u001b[39;00m \u001b[38;5;28;01melse\u001b[39;00m \u001b[43mvariable_type\u001b[49m\u001b[43m(\u001b[49m\u001b[43my\u001b[49m\u001b[43m)\u001b[49m\n\u001b[0;32m   1314\u001b[0m nonnumeric_dv_error \u001b[38;5;241m=\u001b[39m \u001b[38;5;124m\"\u001b[39m\u001b[38;5;132;01m{}\u001b[39;00m\u001b[38;5;124m orientation requires numeric `\u001b[39m\u001b[38;5;132;01m{}\u001b[39;00m\u001b[38;5;124m` variable.\u001b[39m\u001b[38;5;124m\"\u001b[39m\n\u001b[0;32m   1315\u001b[0m single_var_warning \u001b[38;5;241m=\u001b[39m \u001b[38;5;124m\"\u001b[39m\u001b[38;5;132;01m{}\u001b[39;00m\u001b[38;5;124m orientation ignored with only `\u001b[39m\u001b[38;5;132;01m{}\u001b[39;00m\u001b[38;5;124m` specified.\u001b[39m\u001b[38;5;124m\"\u001b[39m\n",
      "File \u001b[1;32m~\\anaconda3\\lib\\site-packages\\seaborn\\_core.py:1229\u001b[0m, in \u001b[0;36mvariable_type\u001b[1;34m(vector, boolean_type)\u001b[0m\n\u001b[0;32m   1226\u001b[0m     \u001b[38;5;28;01mreturn\u001b[39;00m \u001b[38;5;124m\"\u001b[39m\u001b[38;5;124mcategorical\u001b[39m\u001b[38;5;124m\"\u001b[39m\n\u001b[0;32m   1228\u001b[0m \u001b[38;5;66;03m# Special-case all-na data, which is always \"numeric\"\u001b[39;00m\n\u001b[1;32m-> 1229\u001b[0m \u001b[38;5;28;01mif\u001b[39;00m \u001b[43mpd\u001b[49m\u001b[38;5;241;43m.\u001b[39;49m\u001b[43misna\u001b[49m\u001b[43m(\u001b[49m\u001b[43mvector\u001b[49m\u001b[43m)\u001b[49m\u001b[38;5;241m.\u001b[39mall():\n\u001b[0;32m   1230\u001b[0m     \u001b[38;5;28;01mreturn\u001b[39;00m \u001b[38;5;124m\"\u001b[39m\u001b[38;5;124mnumeric\u001b[39m\u001b[38;5;124m\"\u001b[39m\n\u001b[0;32m   1232\u001b[0m \u001b[38;5;66;03m# Special-case binary/boolean data, allow caller to determine\u001b[39;00m\n\u001b[0;32m   1233\u001b[0m \u001b[38;5;66;03m# This triggers a numpy warning when vector has strings/objects\u001b[39;00m\n\u001b[0;32m   1234\u001b[0m \u001b[38;5;66;03m# https://github.com/numpy/numpy/issues/6784\u001b[39;00m\n\u001b[1;32m   (...)\u001b[0m\n\u001b[0;32m   1238\u001b[0m \u001b[38;5;66;03m# https://github.com/numpy/numpy/issues/13548\u001b[39;00m\n\u001b[0;32m   1239\u001b[0m \u001b[38;5;66;03m# This is considered a bug by numpy and will likely go away.\u001b[39;00m\n",
      "File \u001b[1;32m~\\anaconda3\\lib\\site-packages\\pandas\\core\\dtypes\\missing.py:143\u001b[0m, in \u001b[0;36misna\u001b[1;34m(obj)\u001b[0m\n\u001b[0;32m     66\u001b[0m \u001b[38;5;28;01mdef\u001b[39;00m \u001b[38;5;21misna\u001b[39m(obj):\n\u001b[0;32m     67\u001b[0m     \u001b[38;5;124;03m\"\"\"\u001b[39;00m\n\u001b[0;32m     68\u001b[0m \u001b[38;5;124;03m    Detect missing values for an array-like object.\u001b[39;00m\n\u001b[0;32m     69\u001b[0m \n\u001b[1;32m   (...)\u001b[0m\n\u001b[0;32m    141\u001b[0m \u001b[38;5;124;03m    Name: 1, dtype: bool\u001b[39;00m\n\u001b[0;32m    142\u001b[0m \u001b[38;5;124;03m    \"\"\"\u001b[39;00m\n\u001b[1;32m--> 143\u001b[0m     \u001b[38;5;28;01mreturn\u001b[39;00m \u001b[43m_isna\u001b[49m\u001b[43m(\u001b[49m\u001b[43mobj\u001b[49m\u001b[43m)\u001b[49m\n",
      "File \u001b[1;32m~\\anaconda3\\lib\\site-packages\\pandas\\core\\dtypes\\missing.py:168\u001b[0m, in \u001b[0;36m_isna\u001b[1;34m(obj, inf_as_na)\u001b[0m\n\u001b[0;32m    166\u001b[0m     \u001b[38;5;28;01mreturn\u001b[39;00m libmissing\u001b[38;5;241m.\u001b[39mchecknull(obj, inf_as_na\u001b[38;5;241m=\u001b[39minf_as_na)\n\u001b[0;32m    167\u001b[0m \u001b[38;5;28;01melif\u001b[39;00m \u001b[38;5;28misinstance\u001b[39m(obj, ABCMultiIndex):\n\u001b[1;32m--> 168\u001b[0m     \u001b[38;5;28;01mraise\u001b[39;00m \u001b[38;5;167;01mNotImplementedError\u001b[39;00m(\u001b[38;5;124m\"\u001b[39m\u001b[38;5;124misna is not defined for MultiIndex\u001b[39m\u001b[38;5;124m\"\u001b[39m)\n\u001b[0;32m    169\u001b[0m \u001b[38;5;28;01melif\u001b[39;00m \u001b[38;5;28misinstance\u001b[39m(obj, \u001b[38;5;28mtype\u001b[39m):\n\u001b[0;32m    170\u001b[0m     \u001b[38;5;28;01mreturn\u001b[39;00m \u001b[38;5;28;01mFalse\u001b[39;00m\n",
      "\u001b[1;31mNotImplementedError\u001b[0m: isna is not defined for MultiIndex"
     ]
    }
   ],
   "source": [
    "'''\n",
    "pal =sns.dark_palette(\"purple\", input=\"xkcd\",n_colors=15)\n",
    "g = sns.barplot(y = top15.index , x = top15,palette=pal)\n",
    "g.grid=False\n",
    "plt.xlabel('correlation')\n",
    "plt.ylabel('pair of words')\n",
    "plt.title(\"Top 15 Not-Perfect Correlation\",fontweight='bold') \n",
    "for i in range(15):\n",
    "    g.text(top15[i],i+0.22, round(top15[i],3),color='black')\n",
    "plt.show()\n",
    "'''"
   ]
  },
  {
   "cell_type": "code",
   "execution_count": 51,
   "id": "39b11c73",
   "metadata": {},
   "outputs": [],
   "source": [
    "top15_word = df_sen.drop(['sentiment'], axis=1).sum().sort_values(ascending=False)[0:15]"
   ]
  },
  {
   "cell_type": "code",
   "execution_count": 52,
   "id": "47bfe5db",
   "metadata": {},
   "outputs": [
    {
     "data": {
      "image/png": "[encoded data removed]",
      "text/plain": [
       "<Figure size 432x288 with 1 Axes>"
      ]
     },
     "metadata": {},
     "output_type": "display_data"
    }
   ],
   "source": [
    "#pal =sns.dark_palette(\"purple\", input=\"xkcd\",n_colors=15)\n",
    "pal =sns.light_palette(\"navy\", reverse=True,n_colors=15)\n",
    "g = sns.barplot(y = top15_word.index , x = top15_word,palette=pal)\n",
    "g.grid(False)\n",
    "plt.xlabel('Occurences')\n",
    "plt.ylabel('Words')\n",
    "plt.title(\"Top 15 Most Often Occured Words\",fontweight='bold') \n",
    "for i in range(15):\n",
    "    g.text(top15_word[i],i+0.22, top15_word[i],color='black')\n",
    "plt.show()"
   ]
  },
  {
   "cell_type": "markdown",
   "id": "8e37b90f",
   "metadata": {},
   "source": [
    "### Beyond Words"
   ]
  },
  {
   "cell_type": "code",
   "execution_count": 53,
   "id": "4207dddb",
   "metadata": {},
   "outputs": [],
   "source": [
    "#pass the sentiment into the original dataset and explore some data\n",
    "df['sentiment'] = df_sen['sentiment']"
   ]
  },
  {
   "cell_type": "code",
   "execution_count": 54,
   "id": "e72a0e72",
   "metadata": {},
   "outputs": [
    {
     "data": {
      "text/html": [
       "<div>\n",
       "<style scoped>\n",
       "    .dataframe tbody tr th:only-of-type {\n",
       "        vertical-align: middle;\n",
       "    }\n",
       "\n",
       "    .dataframe tbody tr th {\n",
       "        vertical-align: top;\n",
       "    }\n",
       "\n",
       "    .dataframe thead th {\n",
       "        text-align: right;\n",
       "    }\n",
       "</style>\n",
       "<table border=\"1\" class=\"dataframe\">\n",
       "  <thead>\n",
       "    <tr style=\"text-align: right;\">\n",
       "      <th></th>\n",
       "      <th>Datetime</th>\n",
       "      <th>Tweet Id</th>\n",
       "      <th>Text</th>\n",
       "      <th>Username</th>\n",
       "      <th>Location</th>\n",
       "      <th>Clean_Text</th>\n",
       "      <th>language</th>\n",
       "      <th>Unnamed: 7</th>\n",
       "      <th>Clean_Language</th>\n",
       "      <th>date_created</th>\n",
       "      <th>time_created</th>\n",
       "      <th>sentiment</th>\n",
       "    </tr>\n",
       "  </thead>\n",
       "  <tbody>\n",
       "    <tr>\n",
       "      <th>2629</th>\n",
       "      <td>11/10/2021 19:32</td>\n",
       "      <td>1.460000e+18</td>\n",
       "      <td>@RadioCacaNFT Menggokil sir! Kemarin disenggol @Meta soal metaverse langsung gini, tinggal nungg...</td>\n",
       "      <td>reynaldhi_txt</td>\n",
       "      <td>Sumedang, Jawa Barat</td>\n",
       "      <td>menggokil sir senggol metaverse gin nunggu list auto ketar tir wkwkwkwk</td>\n",
       "      <td>id</td>\n",
       "      <td>NaN</td>\n",
       "      <td>NaN</td>\n",
       "      <td>2021-11-10</td>\n",
       "      <td>19:32:00</td>\n",
       "      <td>0</td>\n",
       "    </tr>\n",
       "    <tr>\n",
       "      <th>47495</th>\n",
       "      <td>8/15/2022 2:05</td>\n",
       "      <td>1.560000e+18</td>\n",
       "      <td>@sarjana_crypto Min, Kapan2 bahas UHive dong. \\nAplikasi metaverse android.\\n\\nBtw kalo mau join...</td>\n",
       "      <td>vheuel</td>\n",
       "      <td>Jakarta</td>\n",
       "      <td>min bahas uhive aplikasi metaverse android ngomongngomong join sabi masuk code cguvj</td>\n",
       "      <td>id</td>\n",
       "      <td>NaN</td>\n",
       "      <td>NaN</td>\n",
       "      <td>2022-08-15</td>\n",
       "      <td>02:05:00</td>\n",
       "      <td>-4</td>\n",
       "    </tr>\n",
       "    <tr>\n",
       "      <th>41931</th>\n",
       "      <td>5/25/2022 12:49</td>\n",
       "      <td>1.530000e+18</td>\n",
       "      <td>Saat ini, metaverse tak lebih dari game online.</td>\n",
       "      <td>die_ice14</td>\n",
       "      <td>NaN</td>\n",
       "      <td>metaverse game online</td>\n",
       "      <td>no</td>\n",
       "      <td>NaN</td>\n",
       "      <td>NaN</td>\n",
       "      <td>2022-05-25</td>\n",
       "      <td>12:49:00</td>\n",
       "      <td>2</td>\n",
       "    </tr>\n",
       "    <tr>\n",
       "      <th>22590</th>\n",
       "      <td>2/2/2022 19:00</td>\n",
       "      <td>1.490000e+18</td>\n",
       "      <td>Setelah membahas apa itu Metaverse, ini saya tuliskan beberapa profesi yang diprediksi akan dibu...</td>\n",
       "      <td>herudewanto_HD</td>\n",
       "      <td>NaN</td>\n",
       "      <td>bahas metaverse tulis profesi prediksi butuh era metaverse tarik</td>\n",
       "      <td>id</td>\n",
       "      <td>NaN</td>\n",
       "      <td>NaN</td>\n",
       "      <td>2022-02-02</td>\n",
       "      <td>19:00:00</td>\n",
       "      <td>2</td>\n",
       "    </tr>\n",
       "    <tr>\n",
       "      <th>34581</th>\n",
       "      <td>4/9/2022 2:17</td>\n",
       "      <td>1.510000e+18</td>\n",
       "      <td>Oooohhh daang. 😢😩😰😰\\n #BTC #ETH #Crypto #Cryptocurrency #Altcoin #Bitcoin #bitcoinmiami2022 #Car...</td>\n",
       "      <td>YspNathan</td>\n",
       "      <td>NaN</td>\n",
       "      <td>oooohhh daang</td>\n",
       "      <td>so</td>\n",
       "      <td>NaN</td>\n",
       "      <td>NaN</td>\n",
       "      <td>2022-04-09</td>\n",
       "      <td>02:17:00</td>\n",
       "      <td>0</td>\n",
       "    </tr>\n",
       "    <tr>\n",
       "      <th>51500</th>\n",
       "      <td>10/24/2022 15:03</td>\n",
       "      <td>1.580000e+18</td>\n",
       "      <td>Dr. GoKong \\nMetaverse Iconic Figure \\nhttps://t.co/ZhK8saxWcq</td>\n",
       "      <td>xfistor</td>\n",
       "      <td>Antarctica</td>\n",
       "      <td>dr gokong metaverse iconic figure</td>\n",
       "      <td>en</td>\n",
       "      <td>NaN</td>\n",
       "      <td>NaN</td>\n",
       "      <td>2022-10-24</td>\n",
       "      <td>15:03:00</td>\n",
       "      <td>0</td>\n",
       "    </tr>\n",
       "    <tr>\n",
       "      <th>43974</th>\n",
       "      <td>6/20/2022 11:20</td>\n",
       "      <td>1.540000e+18</td>\n",
       "      <td>@RyaWiedy jgn varian nya kapten america dr metaverse..\\nloki aja ada yg varian buaya..😁</td>\n",
       "      <td>dags784</td>\n",
       "      <td>Brunei</td>\n",
       "      <td>varian nya kapten america dr metaverse loki varian setia</td>\n",
       "      <td>sv</td>\n",
       "      <td>NaN</td>\n",
       "      <td>NaN</td>\n",
       "      <td>2022-06-20</td>\n",
       "      <td>11:20:00</td>\n",
       "      <td>-2</td>\n",
       "    </tr>\n",
       "    <tr>\n",
       "      <th>938</th>\n",
       "      <td>10/29/2021 18:19</td>\n",
       "      <td>1.450000e+18</td>\n",
       "      <td>reminder: pelajari serta pahami apa itu metaverse https://t.co/O02lJQ9l9x</td>\n",
       "      <td>_hellomike</td>\n",
       "      <td>Kota Bandung, Jawa Barat</td>\n",
       "      <td>reminder ajar paham metaverse</td>\n",
       "      <td>id</td>\n",
       "      <td>NaN</td>\n",
       "      <td>NaN</td>\n",
       "      <td>2021-10-29</td>\n",
       "      <td>18:19:00</td>\n",
       "      <td>1</td>\n",
       "    </tr>\n",
       "    <tr>\n",
       "      <th>16285</th>\n",
       "      <td>1/14/2022 23:17</td>\n",
       "      <td>1.480000e+18</td>\n",
       "      <td>Peletakan batu pertama ibukota negara baru sebaiknya menyelaraskan adiwarna budaya bangsa dengan...</td>\n",
       "      <td>pergidana</td>\n",
       "      <td>Siak, Riau dan Sidoarjo, Jatim</td>\n",
       "      <td>leta batu ibukota negara selaras adiwarna budaya bangsa internet of things prabu brawijaya v mok...</td>\n",
       "      <td>id</td>\n",
       "      <td>NaN</td>\n",
       "      <td>NaN</td>\n",
       "      <td>2022-01-14</td>\n",
       "      <td>23:17:00</td>\n",
       "      <td>13</td>\n",
       "    </tr>\n",
       "    <tr>\n",
       "      <th>41675</th>\n",
       "      <td>5/22/2022 6:15</td>\n",
       "      <td>1.530000e+18</td>\n",
       "      <td>Perusahaan milik konglomerat Anthony Salim menggandeng PT WIR Asia Tbk (WIRG) untuk membentuk pe...</td>\n",
       "      <td>voidotid</td>\n",
       "      <td>DKI Jakarta, Indonesia</td>\n",
       "      <td>usaha konglomerat anthony salim gandeng pt wir asia tbk wirg bentuk usaha patungan joint venture...</td>\n",
       "      <td>id</td>\n",
       "      <td>NaN</td>\n",
       "      <td>NaN</td>\n",
       "      <td>2022-05-22</td>\n",
       "      <td>06:15:00</td>\n",
       "      <td>13</td>\n",
       "    </tr>\n",
       "    <tr>\n",
       "      <th>20815</th>\n",
       "      <td>1/23/2022 23:53</td>\n",
       "      <td>1.490000e+18</td>\n",
       "      <td>@doktermarket Ini hanyalah akal2an Bos facebook, dia tau sosmed sperti fb dll akan membosankan d...</td>\n",
       "      <td>zarzulzar</td>\n",
       "      <td>On the way to Earth.</td>\n",
       "      <td>akal an bos facebook sosmed sperti fb lainlain bosan capai klimaks tinggal sistem bikin metavers...</td>\n",
       "      <td>id</td>\n",
       "      <td>NaN</td>\n",
       "      <td>NaN</td>\n",
       "      <td>2022-01-23</td>\n",
       "      <td>23:53:00</td>\n",
       "      <td>1</td>\n",
       "    </tr>\n",
       "    <tr>\n",
       "      <th>20956</th>\n",
       "      <td>1/24/2022 12:56</td>\n",
       "      <td>1.490000e+18</td>\n",
       "      <td>Kutaragi mempertanyakan mengapa orang lebih memilih menjadi avatar yang sempurna daripada menjad...</td>\n",
       "      <td>RantaiKotak</td>\n",
       "      <td>Jakarta Selatan, DKI Jakarta</td>\n",
       "      <td>kutaragi pilih avatar sempurna metaverse dasar beda situs messageboard anonim</td>\n",
       "      <td>id</td>\n",
       "      <td>NaN</td>\n",
       "      <td>NaN</td>\n",
       "      <td>2022-01-24</td>\n",
       "      <td>12:56:00</td>\n",
       "      <td>-1</td>\n",
       "    </tr>\n",
       "    <tr>\n",
       "      <th>17473</th>\n",
       "      <td>1/15/2022 17:32</td>\n",
       "      <td>1.480000e+18</td>\n",
       "      <td>Mau metaverse gimana internet aja masih suka 404 not found</td>\n",
       "      <td>straw_baerry</td>\n",
       "      <td>Kwangya🌏</td>\n",
       "      <td>metaverse internet suka not found</td>\n",
       "      <td>no</td>\n",
       "      <td>NaN</td>\n",
       "      <td>NaN</td>\n",
       "      <td>2022-01-15</td>\n",
       "      <td>17:32:00</td>\n",
       "      <td>3</td>\n",
       "    </tr>\n",
       "    <tr>\n",
       "      <th>28974</th>\n",
       "      <td>2/27/2022 1:35</td>\n",
       "      <td>1.500000e+18</td>\n",
       "      <td>metaverse hukuku ne ya</td>\n",
       "      <td>akacloser</td>\n",
       "      <td>Leeds</td>\n",
       "      <td>metaverse hukuku</td>\n",
       "      <td>et</td>\n",
       "      <td>NaN</td>\n",
       "      <td>NaN</td>\n",
       "      <td>2022-02-27</td>\n",
       "      <td>01:35:00</td>\n",
       "      <td>0</td>\n",
       "    </tr>\n",
       "    <tr>\n",
       "      <th>37297</th>\n",
       "      <td>4/27/2022 17:02</td>\n",
       "      <td>1.520000e+18</td>\n",
       "      <td>Apa elu tega di metaverse ngurus surat suruh kirim pdf ktp lewat wa</td>\n",
       "      <td>BanozzT</td>\n",
       "      <td>NaN</td>\n",
       "      <td>tega metaverse urus surat suruh kirim pdf ktp wa</td>\n",
       "      <td>et</td>\n",
       "      <td>NaN</td>\n",
       "      <td>NaN</td>\n",
       "      <td>2022-04-27</td>\n",
       "      <td>17:02:00</td>\n",
       "      <td>-5</td>\n",
       "    </tr>\n",
       "  </tbody>\n",
       "</table>\n",
       "</div>"
      ],
      "text/plain": [
       "               Datetime      Tweet Id  \\\n",
       "2629   11/10/2021 19:32  1.460000e+18   \n",
       "47495    8/15/2022 2:05  1.560000e+18   \n",
       "41931   5/25/2022 12:49  1.530000e+18   \n",
       "22590    2/2/2022 19:00  1.490000e+18   \n",
       "34581     4/9/2022 2:17  1.510000e+18   \n",
       "51500  10/24/2022 15:03  1.580000e+18   \n",
       "43974   6/20/2022 11:20  1.540000e+18   \n",
       "938    10/29/2021 18:19  1.450000e+18   \n",
       "16285   1/14/2022 23:17  1.480000e+18   \n",
       "41675    5/22/2022 6:15  1.530000e+18   \n",
       "20815   1/23/2022 23:53  1.490000e+18   \n",
       "20956   1/24/2022 12:56  1.490000e+18   \n",
       "17473   1/15/2022 17:32  1.480000e+18   \n",
       "28974    2/27/2022 1:35  1.500000e+18   \n",
       "37297   4/27/2022 17:02  1.520000e+18   \n",
       "\n",
       "                                                                                                      Text  \\\n",
       "2629   @RadioCacaNFT Menggokil sir! Kemarin disenggol @Meta soal metaverse langsung gini, tinggal nungg...   \n",
       "47495  @sarjana_crypto Min, Kapan2 bahas UHive dong. \\nAplikasi metaverse android.\\n\\nBtw kalo mau join...   \n",
       "41931                                                      Saat ini, metaverse tak lebih dari game online.   \n",
       "22590  Setelah membahas apa itu Metaverse, ini saya tuliskan beberapa profesi yang diprediksi akan dibu...   \n",
       "34581  Oooohhh daang. 😢😩😰😰\\n #BTC #ETH #Crypto #Cryptocurrency #Altcoin #Bitcoin #bitcoinmiami2022 #Car...   \n",
       "51500                                       Dr. GoKong \\nMetaverse Iconic Figure \\nhttps://t.co/ZhK8saxWcq   \n",
       "43974              @RyaWiedy jgn varian nya kapten america dr metaverse..\\nloki aja ada yg varian buaya..😁   \n",
       "938                              reminder: pelajari serta pahami apa itu metaverse https://t.co/O02lJQ9l9x   \n",
       "16285  Peletakan batu pertama ibukota negara baru sebaiknya menyelaraskan adiwarna budaya bangsa dengan...   \n",
       "41675  Perusahaan milik konglomerat Anthony Salim menggandeng PT WIR Asia Tbk (WIRG) untuk membentuk pe...   \n",
       "20815  @doktermarket Ini hanyalah akal2an Bos facebook, dia tau sosmed sperti fb dll akan membosankan d...   \n",
       "20956  Kutaragi mempertanyakan mengapa orang lebih memilih menjadi avatar yang sempurna daripada menjad...   \n",
       "17473                                           Mau metaverse gimana internet aja masih suka 404 not found   \n",
       "28974                                                                               metaverse hukuku ne ya   \n",
       "37297                                  Apa elu tega di metaverse ngurus surat suruh kirim pdf ktp lewat wa   \n",
       "\n",
       "             Username                        Location  \\\n",
       "2629    reynaldhi_txt            Sumedang, Jawa Barat   \n",
       "47495          vheuel                         Jakarta   \n",
       "41931       die_ice14                             NaN   \n",
       "22590  herudewanto_HD                             NaN   \n",
       "34581       YspNathan                             NaN   \n",
       "51500         xfistor                      Antarctica   \n",
       "43974         dags784                          Brunei   \n",
       "938        _hellomike        Kota Bandung, Jawa Barat   \n",
       "16285       pergidana  Siak, Riau dan Sidoarjo, Jatim   \n",
       "41675        voidotid          DKI Jakarta, Indonesia   \n",
       "20815       zarzulzar            On the way to Earth.   \n",
       "20956     RantaiKotak    Jakarta Selatan, DKI Jakarta   \n",
       "17473    straw_baerry                        Kwangya🌏   \n",
       "28974       akacloser                           Leeds   \n",
       "37297         BanozzT                             NaN   \n",
       "\n",
       "                                                                                                Clean_Text  \\\n",
       "2629                               menggokil sir senggol metaverse gin nunggu list auto ketar tir wkwkwkwk   \n",
       "47495                 min bahas uhive aplikasi metaverse android ngomongngomong join sabi masuk code cguvj   \n",
       "41931                                                                                metaverse game online   \n",
       "22590                                     bahas metaverse tulis profesi prediksi butuh era metaverse tarik   \n",
       "34581                                                                                        oooohhh daang   \n",
       "51500                                                                    dr gokong metaverse iconic figure   \n",
       "43974                                             varian nya kapten america dr metaverse loki varian setia   \n",
       "938                                                                          reminder ajar paham metaverse   \n",
       "16285  leta batu ibukota negara selaras adiwarna budaya bangsa internet of things prabu brawijaya v mok...   \n",
       "41675  usaha konglomerat anthony salim gandeng pt wir asia tbk wirg bentuk usaha patungan joint venture...   \n",
       "20815  akal an bos facebook sosmed sperti fb lainlain bosan capai klimaks tinggal sistem bikin metavers...   \n",
       "20956                        kutaragi pilih avatar sempurna metaverse dasar beda situs messageboard anonim   \n",
       "17473                                                                    metaverse internet suka not found   \n",
       "28974                                                                                     metaverse hukuku   \n",
       "37297                                                     tega metaverse urus surat suruh kirim pdf ktp wa   \n",
       "\n",
       "      language  Unnamed: 7 Clean_Language date_created time_created  sentiment  \n",
       "2629        id         NaN            NaN   2021-11-10     19:32:00          0  \n",
       "47495       id         NaN            NaN   2022-08-15     02:05:00         -4  \n",
       "41931       no         NaN            NaN   2022-05-25     12:49:00          2  \n",
       "22590       id         NaN            NaN   2022-02-02     19:00:00          2  \n",
       "34581       so         NaN            NaN   2022-04-09     02:17:00          0  \n",
       "51500       en         NaN            NaN   2022-10-24     15:03:00          0  \n",
       "43974       sv         NaN            NaN   2022-06-20     11:20:00         -2  \n",
       "938         id         NaN            NaN   2021-10-29     18:19:00          1  \n",
       "16285       id         NaN            NaN   2022-01-14     23:17:00         13  \n",
       "41675       id         NaN            NaN   2022-05-22     06:15:00         13  \n",
       "20815       id         NaN            NaN   2022-01-23     23:53:00          1  \n",
       "20956       id         NaN            NaN   2022-01-24     12:56:00         -1  \n",
       "17473       no         NaN            NaN   2022-01-15     17:32:00          3  \n",
       "28974       et         NaN            NaN   2022-02-27     01:35:00          0  \n",
       "37297       et         NaN            NaN   2022-04-27     17:02:00         -5  "
      ]
     },
     "execution_count": 54,
     "metadata": {},
     "output_type": "execute_result"
    }
   ],
   "source": [
    "df.sample(15)"
   ]
  },
  {
   "cell_type": "code",
   "execution_count": 55,
   "id": "437a0bf9",
   "metadata": {},
   "outputs": [
    {
     "data": {
      "text/plain": [
       "Datetime              0\n",
       "Tweet Id              0\n",
       "Text                  0\n",
       "Username              0\n",
       "Location          18928\n",
       "Clean_Text            0\n",
       "language              0\n",
       "Unnamed: 7        54431\n",
       "Clean_Language    54299\n",
       "date_created          0\n",
       "time_created          0\n",
       "sentiment             0\n",
       "dtype: int64"
      ]
     },
     "execution_count": 55,
     "metadata": {},
     "output_type": "execute_result"
    }
   ],
   "source": [
    "df.isnull().sum()"
   ]
  },
  {
   "cell_type": "code",
   "execution_count": 58,
   "id": "c82e9b4d",
   "metadata": {},
   "outputs": [
    {
     "data": {
      "image/png": "[encoded data removed]",
      "text/plain": [
       "<Figure size 432x288 with 2 Axes>"
      ]
     },
     "metadata": {},
     "output_type": "display_data"
    }
   ],
   "source": [
    "plt.figure()\n",
    "plt.title('correlation between numerical data', fontweight='bold')\n",
    "df_corr = df.corr()\n",
    "matrix = np.triu(df.corr())\n",
    "cmap = sns.cubehelix_palette(light=0.5, as_cmap=True)\n",
    "h = sns.heatmap(df_corr, annot=True, vmin=-1, vmax=1, center=0, mask=matrix, cmap = cmap)\n",
    "\n",
    "plt.show()"
   ]
  },
  {
   "cell_type": "code",
   "execution_count": 61,
   "id": "963c789d",
   "metadata": {},
   "outputs": [
    {
     "data": {
      "image/png": "[encoded data removed]",
      "text/plain": [
       "<Figure size 720x576 with 1 Axes>"
      ]
     },
     "metadata": {},
     "output_type": "display_data"
    }
   ],
   "source": [
    "sns.set(style='white', color_codes=True)\n",
    "plt.figure(figsize=(10,8))\n",
    "plt.title('Sentiment in every language used', fontweight='bold')\n",
    "l = sns.boxplot(x='language', y='sentiment', data=df,palette=sns.color_palette('RdPu'))"
   ]
  },
  {
   "cell_type": "code",
   "execution_count": 81,
   "id": "51e90735",
   "metadata": {},
   "outputs": [],
   "source": [
    "df_location = df.groupby(['Location']).mean().sort_values(by='sentiment', ascending=False)\n",
    "df_location = df_location.reset_index"
   ]
  },
  {
   "cell_type": "code",
   "execution_count": 79,
   "id": "d46741e5",
   "metadata": {},
   "outputs": [],
   "source": [
    "df_location_dict = df.groupby(['Location']).count().sort_values(by='Tweet Id',ascending=False)['Tweet Id'].to_dict()"
   ]
  },
  {
   "cell_type": "code",
   "execution_count": 80,
   "id": "bd14c7c5",
   "metadata": {},
   "outputs": [],
   "source": [
    "df_place['number_of_tweets'] =  df_place.apply(lambda x:df_place_dict[x['Location']],axis=1)"
   ]
  },
  {
   "cell_type": "code",
   "execution_count": 85,
   "id": "ecd4db79",
   "metadata": {},
   "outputs": [],
   "source": [
    "!jt -t gruvboxd -f roboto -fs 12 -cellw 80%"
   ]
  },
  {
   "cell_type": "code",
   "execution_count": 84,
   "id": "eaf59a6d",
   "metadata": {},
   "outputs": [
    {
     "name": "stdout",
     "output_type": "stream",
     "text": [
      "Didn't recognize theme name: list\n",
      "Available Themes: \n",
      "   chesterish\n",
      "   grade3\n",
      "   gruvboxd\n",
      "   gruvboxl\n",
      "   monokai\n",
      "   oceans16\n",
      "   onedork\n",
      "   solarizedd\n",
      "   solarizedl\n"
     ]
    }
   ],
   "source": [
    "!jt -t list"
   ]
  },
  {
   "cell_type": "code",
   "execution_count": null,
   "id": "7db81e08",
   "metadata": {},
   "outputs": [],
   "source": []
  }
 ],
 "metadata": {
  "kernelspec": {
   "display_name": "Python 3 (ipykernel)",
   "language": "python",
   "name": "python3"
  },
  "language_info": {
   "codemirror_mode": {
    "name": "ipython",
    "version": 3
   },
   "file_extension": ".py",
   "mimetype": "text/x-python",
   "name": "python",
   "nbconvert_exporter": "python",
   "pygments_lexer": "ipython3",
   "version": "3.9.12"
  }
 },
 "nbformat": 4,
 "nbformat_minor": 5
}
