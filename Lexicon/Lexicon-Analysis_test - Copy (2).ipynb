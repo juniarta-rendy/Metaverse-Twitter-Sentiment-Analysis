{
 "cells": [
  {
   "cell_type": "code",
   "execution_count": 1,
   "id": "0449a605",
   "metadata": {},
   "outputs": [],
   "source": [
    "import pandas as pd\n",
    "import numpy as np\n",
    "import matplotlib.pyplot as plt\n",
    "import pytz\n",
    "import re\n",
    "import nltk\n",
    "import ast\n",
    "import string\n",
    "import itertools\n",
    "import seaborn as sns\n",
    "from datetime import datetime,timedelta\n",
    "from nltk.corpus import stopwords\n",
    "from nltk.tokenize import word_tokenize\n",
    "from wordcloud import WordCloud\n",
    "from Sastrawi.Stemmer.StemmerFactory import StemmerFactory\n",
    "\n",
    "from sklearn.model_selection import train_test_split\n",
    "from sklearn.metrics import accuracy_score, precision_score, recall_score, f1_score\n",
    "from sklearn.preprocessing import MinMaxScaler"
   ]
  },
  {
   "cell_type": "code",
   "execution_count": 2,
   "id": "476a257b",
   "metadata": {},
   "outputs": [],
   "source": [
    "df = pd.read_csv('../Cleaning/Clean_Dataset.csv', encoding='utf-8')\n",
    "jakarta = pytz.timezone('Asia/Jakarta')\n",
    "time_date = \"%m/%d/%Y %H:%M\"\n",
    "df['datetime_created'] = df['Datetime'].apply(lambda x:datetime.strptime(x,time_date))\n",
    "df['date_created'] = df['datetime_created'].apply(lambda x:x.date())\n",
    "df['time_created'] = df['datetime_created'].apply(lambda x:x.time())\n",
    "df = df.drop(['datetime_created'],axis=1)"
   ]
  },
  {
   "cell_type": "code",
   "execution_count": 3,
   "id": "367ee452",
   "metadata": {},
   "outputs": [
    {
     "data": {
      "text/plain": [
       "42403"
      ]
     },
     "execution_count": 3,
     "metadata": {},
     "output_type": "execute_result"
    }
   ],
   "source": [
    "len(df)"
   ]
  },
  {
   "cell_type": "markdown",
   "id": "cea9ec99",
   "metadata": {},
   "source": [
    "### Additional Cleaning"
   ]
  },
  {
   "cell_type": "code",
   "execution_count": 4,
   "id": "dae4001a",
   "metadata": {},
   "outputs": [],
   "source": [
    "#hapus duplikat\n",
    "df = df.drop_duplicates()\n",
    "df = df.reset_index(drop=True)"
   ]
  },
  {
   "cell_type": "code",
   "execution_count": 5,
   "id": "3c3d308e",
   "metadata": {},
   "outputs": [
    {
     "data": {
      "text/plain": [
       "0"
      ]
     },
     "execution_count": 5,
     "metadata": {},
     "output_type": "execute_result"
    }
   ],
   "source": [
    "len(df[df['Clean_Text'].isnull() ==  True])"
   ]
  },
  {
   "cell_type": "code",
   "execution_count": 6,
   "id": "4f7b9c09",
   "metadata": {},
   "outputs": [
    {
     "data": {
      "text/plain": [
       "Series([], Name: Text, dtype: object)"
      ]
     },
     "execution_count": 6,
     "metadata": {},
     "output_type": "execute_result"
    }
   ],
   "source": [
    "pd.set_option('display.max_colwidth', None)\n",
    "df[df['Clean_Text'].isnull() == True]['Text']"
   ]
  },
  {
   "cell_type": "code",
   "execution_count": 7,
   "id": "32b6874d",
   "metadata": {},
   "outputs": [],
   "source": [
    "df = df.dropna(subset=['Clean_Text'])\n",
    "df = df.reset_index(drop=True)"
   ]
  },
  {
   "cell_type": "code",
   "execution_count": 8,
   "id": "99f692a8",
   "metadata": {},
   "outputs": [
    {
     "data": {
      "text/plain": [
       "Datetime                 0\n",
       "Tweet Id                 0\n",
       "Text                     0\n",
       "Username                 0\n",
       "Location             25786\n",
       "Clean_Text               0\n",
       "indonlp_sentiment        0\n",
       "Stop_Words_Text          0\n",
       "Stemmed_Text             0\n",
       "language                 0\n",
       "Translated               0\n",
       "label_score              0\n",
       "score                    0\n",
       "date_created             0\n",
       "time_created             0\n",
       "Lexicon_Score            0\n",
       "Lexicon_Sentiment        0\n",
       "Score_Scaled             0\n",
       "label                    0\n",
       "dtype: int64"
      ]
     },
     "execution_count": 8,
     "metadata": {},
     "output_type": "execute_result"
    }
   ],
   "source": [
    "df.isnull().sum()"
   ]
  },
  {
   "cell_type": "code",
   "execution_count": 9,
   "id": "294cd43c",
   "metadata": {},
   "outputs": [
    {
     "data": {
      "text/plain": [
       "no    4255\n",
       "en    2533\n",
       "et    1669\n",
       "af    1195\n",
       "sl    1004\n",
       "nl     793\n",
       "it     771\n",
       "sv     653\n",
       "sq     582\n",
       "da     485\n",
       "ca     397\n",
       "hr     393\n",
       "fi     190\n",
       "ro     132\n",
       "tr     106\n",
       "sk      98\n",
       "tl      87\n",
       "fr      64\n",
       "lt      54\n",
       "pt      35\n",
       "hu      27\n",
       "cs      16\n",
       "lv      12\n",
       "Name: language, dtype: int64"
      ]
     },
     "execution_count": 9,
     "metadata": {},
     "output_type": "execute_result"
    }
   ],
   "source": [
    "df[df['language']!='id']['language'].value_counts()"
   ]
  },
  {
   "cell_type": "code",
   "execution_count": 10,
   "id": "f716f241",
   "metadata": {},
   "outputs": [],
   "source": [
    "clean_text = df['Clean_Text'].copy()"
   ]
  },
  {
   "cell_type": "code",
   "execution_count": 11,
   "id": "32fd49e8",
   "metadata": {},
   "outputs": [
    {
     "data": {
      "text/plain": [
       "42388    kayaknya sudah tidak mungkin konsep siren tidak selaras sama metaverse mereka kecuali seperti me...\n",
       "42389                                                                        mungkin cair kalau di metaverse\n",
       "42390                   walau terus merugi meta bakal lanjutkan proyek metaverse pada tahun berita teknologi\n",
       "42391    itu ciri kamu yang tidak bisa adaptasi di setiap ruang lingkup pasti ada kebiasan entah itu baik...\n",
       "42392    angaran belanja untuk perangkat lunak tapi tidak bisa digunakan dengan maksimal ya buat apa pak ...\n",
       "42393      dapat suntikan us juta dari sbi dan square enix perusahaan game gumi bakal garap bisnis metaverse\n",
       "42394    saya tdnya ngira memang ada seperti orang dibalik ini semua yang ngatur mereka ke dunia lain tap...\n",
       "42395                                                     punya dia lagi ngembangin ekosistem metaverse juga\n",
       "42396    wishnutama selaku founding chairman jagat nusantara optimis bahwa kehadiran metaverse tidak menu...\n",
       "42397    ekonomi saat ini tidak hanya bersifat fisik namun dalam dunia maya bisa menjadi nyata seperti me...\n",
       "42398                                                             taunya beneran jual tanah metaverse mampus\n",
       "42399               anak sama zaman sekarang ngadain webinar tentang metaverse dunia berlari secepat itu iya\n",
       "42400                                                              bicara saja metaverse pemilu pakai kardus\n",
       "42401               pesantren metaverse nanti untuk merangkul kayak fajar dikatakan pemegang kunci al markaz\n",
       "42402                                 bang bangun jangan keseringan mimpi di metaverse apalagi di metafisika\n",
       "Name: Clean_Text, dtype: object"
      ]
     },
     "execution_count": 11,
     "metadata": {},
     "output_type": "execute_result"
    }
   ],
   "source": [
    "pd.set_option('display.max_colwidth', 100)\n",
    "clean_text.tail(15)"
   ]
  },
  {
   "cell_type": "markdown",
   "id": "19c3e581",
   "metadata": {},
   "source": [
    "### Cleaning Data"
   ]
  },
  {
   "cell_type": "code",
   "execution_count": 12,
   "id": "9b3cc3ac",
   "metadata": {},
   "outputs": [],
   "source": [
    "def repair_exaggeration(x):\n",
    "    word_tokens = word_tokenize(x)\n",
    "    new_x =''\n",
    "    for i in word_tokens:\n",
    "        if (i =='metaversee'):\n",
    "            new = re.sub(r'(\\w)\\1\\1+',r'\\1\\1',i)\n",
    "            new_x = new_x +new+' '\n",
    "        elif(i =='metavers'):\n",
    "            new = 'metaverse'\n",
    "            new_x = new_x +new+' '\n",
    "        elif(i == 'meta'):\n",
    "            new = 'metaverse'\n",
    "            new_x = new_x +new+' '\n",
    "        else:\n",
    "            new = re.sub(r'(\\w)\\1\\1\\1+',r'\\1',i)\n",
    "            new_x = new_x +new+' '\n",
    "    return new_x"
   ]
  },
  {
   "cell_type": "code",
   "execution_count": 13,
   "id": "1db9712e",
   "metadata": {},
   "outputs": [],
   "source": [
    "def del_word(x,key_list):\n",
    "    n = len(key_list)\n",
    "    word_tokens = word_tokenize(x)\n",
    "    new_x =''\n",
    "    for word in word_tokens:\n",
    "        if word not in key_list:\n",
    "            new_x = new_x+word+' '\n",
    "    return new_x"
   ]
  },
  {
   "cell_type": "code",
   "execution_count": 14,
   "id": "d579bdb1",
   "metadata": {},
   "outputs": [],
   "source": [
    "#gunakan slang dan stopwords untuk membersihkan dataset\n",
    "# sumber slang dan stop words : https://github.com/louisowen6/NLP_bahasa_resources\n",
    "def clean_tweets(text):\n",
    "    my_file = open('../Cleaning/cleaning_source/combined_stop_words.txt','r')\n",
    "    content = my_file.read()\n",
    "    stop_words = content.split('\\n')\n",
    "    file_2 = open('../Cleaning/cleaning_source/update_combined_slang_words.txt','r')\n",
    "    content2 = file_2.read()\n",
    "    slang_words = ast.literal_eval(content2)\n",
    "    my_file.close()\n",
    "    file_2.close()\n",
    "    \n",
    "    text = text.lower()\n",
    "    # Remove url\n",
    "    text = re.sub(r'https?://[^\\s]+','',text)\n",
    "    # Remove hashtag\n",
    "    text = re.sub(r'#\\w+','',text)\n",
    "    \n",
    "    text = re.sub(r':', '', text)\n",
    "    text = re.sub(r'‚Ä¶', '', text)\n",
    "    #replace consecutive non-ASCII characters with a space\n",
    "    text = re.sub(r'[^\\x00-\\x7F]+',' ', text)\n",
    "    \n",
    "    #remove emojis from text\n",
    "    #text = emoji_pattern.sub(r'',text)\n",
    "    \n",
    "    #remove punctuation\n",
    "    text = re.sub('[^a-zA-Z]',' ', text)\n",
    "    \n",
    "    #remove mentio\n",
    "    text=re.sub('&lt;/?.*?&gt;\",\"&lt;&gt;','',text)\n",
    "    \n",
    "    #remove digits and special chars\n",
    "    text = re.sub(\"(\\\\d|\\\\W)+\",\" \",text)\n",
    "    \n",
    "    #remove other symbol from tweet\n",
    "    text = re.sub(r'â', '', text)\n",
    "    text = re.sub(r'€', '', text)\n",
    "    text = re.sub(r'¦', '', text)\n",
    "    \n",
    "    #modify slang word to make it more suitable\n",
    "    word_tokens = word_tokenize(text)\n",
    "    for w in word_tokens:\n",
    "        if w in slang_words.keys():\n",
    "            word_tokens[word_tokens.index(w)] = slang_words[w]\n",
    "    \n",
    "    #filter using NLTK and append it to a string\n",
    "    filtered_tweet = [w for w in word_tokens if not w in stop_words]\n",
    "    filtered_tweet = []\n",
    "    \n",
    "    #loop through condition\n",
    "    for w in word_tokens:\n",
    "        #check tokens against emoticons, punctuations and stopwords\n",
    "        if w not in string.punctuation and w not in stop_words:\n",
    "            filtered_tweet.append(w.lower())\n",
    "            \n",
    "    return ' '.join(filtered_tweet)"
   ]
  },
  {
   "cell_type": "code",
   "execution_count": 15,
   "id": "92c810be",
   "metadata": {},
   "outputs": [],
   "source": [
    "def count_words(x):\n",
    "    words = word_tokenize(x)\n",
    "    n=len(words)\n",
    "    return n"
   ]
  },
  {
   "cell_type": "code",
   "execution_count": 16,
   "id": "16622420",
   "metadata": {},
   "outputs": [],
   "source": [
    "clean_text_exag = clean_text.apply(lambda x:repair_exaggeration(x))"
   ]
  },
  {
   "cell_type": "code",
   "execution_count": 17,
   "id": "f9872a72",
   "metadata": {},
   "outputs": [],
   "source": [
    "re_clean = clean_text_exag.apply(lambda x: clean_tweets(x))"
   ]
  },
  {
   "cell_type": "markdown",
   "id": "44b74a4b",
   "metadata": {},
   "source": [
    "### Word Processing"
   ]
  },
  {
   "cell_type": "code",
   "execution_count": 18,
   "id": "e486b09c",
   "metadata": {},
   "outputs": [],
   "source": [
    "#Create Word Dictionary\n",
    "word_dict = {}\n",
    "for i in range(0,len(df['Clean_Text'])):\n",
    "    sentence = df['Clean_Text'][i]\n",
    "    word_token = word_tokenize(sentence)\n",
    "    for j in word_token:\n",
    "        if j not in word_dict:\n",
    "            word_dict[j] = 1\n",
    "        else:\n",
    "            word_dict[j] += 1"
   ]
  },
  {
   "cell_type": "code",
   "execution_count": 19,
   "id": "20b50fe0",
   "metadata": {},
   "outputs": [
    {
     "data": {
      "text/plain": [
       "41222"
      ]
     },
     "execution_count": 19,
     "metadata": {},
     "output_type": "execute_result"
    }
   ],
   "source": [
    "len(word_dict)"
   ]
  },
  {
   "cell_type": "code",
   "execution_count": 20,
   "id": "8317ef09",
   "metadata": {},
   "outputs": [
    {
     "data": {
      "text/plain": [
       "29980"
      ]
     },
     "execution_count": 20,
     "metadata": {},
     "output_type": "execute_result"
    }
   ],
   "source": [
    "len({k:v for (k,v) in word_dict.items() if v <4})"
   ]
  },
  {
   "cell_type": "markdown",
   "id": "6e5126bb",
   "metadata": {},
   "source": [
    "# Import Lexicon Data\n",
    "##### sources:\n",
    "\n",
    "https://github.com/louisowen6/NLP_bahasa_resources\n",
    "https://github.com/abhimantramb/elang/blob/master/word2vec/utils/swear-words.txt\n",
    "https://github.com/fajri91/InSet\n",
    "https://github.com/agusmakmun/SentiStrengthID/blob/master/id_dict/sentimentword.txt"
   ]
  },
  {
   "cell_type": "code",
   "execution_count": 21,
   "id": "d8cf0201",
   "metadata": {},
   "outputs": [],
   "source": [
    "negasi = ['bukan','tidak','ga','gk','g', 'ngga', 'nggak', 'no']\n",
    "lexicon = pd.read_csv('Lexicon Dictionary/modified_full_lexicon.csv')\n",
    "lexicon = lexicon.drop(lexicon[(lexicon['word'] == 'bukan')|\n",
    "                               (lexicon['word'] == 'tidak')|\n",
    "                               (lexicon['word'] == 'ga')|\n",
    "                               (lexicon['word'] == 'gk')|\n",
    "                               (lexicon['word'] == 'ngga')|\n",
    "                               (lexicon['word'] == 'nggak')|\n",
    "                               (lexicon['word'] == 'no')|\n",
    "                               (lexicon['word'] == 'gk')].index,axis=0)\n",
    "lexicon = lexicon.reset_index(drop=True)"
   ]
  },
  {
   "cell_type": "code",
   "execution_count": 22,
   "id": "55973831",
   "metadata": {},
   "outputs": [
    {
     "data": {
      "text/plain": [
       "10245"
      ]
     },
     "execution_count": 22,
     "metadata": {},
     "output_type": "execute_result"
    }
   ],
   "source": [
    "len(lexicon)"
   ]
  },
  {
   "cell_type": "code",
   "execution_count": 23,
   "id": "64c7b336",
   "metadata": {},
   "outputs": [],
   "source": [
    "lexicon_word = lexicon['word'].to_list()\n",
    "lexicon_num_words = lexicon['number_of_words']"
   ]
  },
  {
   "cell_type": "code",
   "execution_count": 24,
   "id": "ba9151a4",
   "metadata": {},
   "outputs": [],
   "source": [
    "#cek jika terdapat kata pada kamus yang tidak terdapat pada kamus lexicon\n",
    "ns_words = []\n",
    "#create stemmer\n",
    "factory = StemmerFactory()\n",
    "stemmer = factory.create_stemmer()\n",
    "for word in word_dict.keys():\n",
    "    if word not in lexicon_word:\n",
    "        kata_dasar = stemmer.stem(word)\n",
    "        if kata_dasar not in lexicon_word:\n",
    "            ns_words.append(word)"
   ]
  },
  {
   "cell_type": "code",
   "execution_count": 25,
   "id": "bd9d2cc3",
   "metadata": {},
   "outputs": [
    {
     "name": "stdout",
     "output_type": "stream",
     "text": [
      "41222\n",
      "10245\n",
      "33372\n"
     ]
    }
   ],
   "source": [
    "print(len(word_dict))\n",
    "print(len(lexicon))\n",
    "print(len(ns_words))"
   ]
  },
  {
   "cell_type": "code",
   "execution_count": 26,
   "id": "ea8faa76",
   "metadata": {},
   "outputs": [],
   "source": [
    "ns_words_list = { k:v for (k,v) in word_dict.items() if ((k in ns_words) & (v>3)) }"
   ]
  },
  {
   "cell_type": "code",
   "execution_count": 27,
   "id": "7979a31b",
   "metadata": {},
   "outputs": [
    {
     "name": "stdout",
     "output_type": "stream",
     "text": [
      "metaverse 44908\n",
      "di 17328\n",
      "dan 10232\n",
      "tidak 8484\n",
      "ini 8253\n",
      "bisa 4789\n",
      "dengan 4641\n",
      "masih 4368\n",
      "ke 3875\n",
      "iya 3866\n",
      "untuk 3553\n",
      "tapi 3228\n",
      "juga 3201\n",
      "akan 2905\n",
      "kita 2624\n",
      "virtual 2501\n",
      "orang 2336\n",
      "baru 2256\n",
      "teknologi 2176\n",
      "nft 2168\n"
     ]
    }
   ],
   "source": [
    "#sort the most occurences word descending\n",
    "sort_orders = sorted(ns_words_list.items(), key=lambda x: x[1], reverse = True)\n",
    "sort_orders = sort_orders[0:20]\n",
    "for i in sort_orders:\n",
    "    print(i[0], i[1])"
   ]
  },
  {
   "cell_type": "code",
   "execution_count": 28,
   "id": "f5e7b517",
   "metadata": {},
   "outputs": [],
   "source": [
    "word_to_plot = df['Clean_Text'].copy()"
   ]
  },
  {
   "cell_type": "code",
   "execution_count": 29,
   "id": "978df2a5",
   "metadata": {},
   "outputs": [],
   "source": [
    "word_to_plot_1 = word_to_plot.apply(lambda x: del_word(x,negasi))"
   ]
  },
  {
   "cell_type": "code",
   "execution_count": 30,
   "id": "b7662834",
   "metadata": {},
   "outputs": [
    {
     "data": {
      "image/png": "[encoded data removed]",
      "text/plain": [
       "<Figure size 800x800 with 1 Axes>"
      ]
     },
     "metadata": {},
     "output_type": "display_data"
    }
   ],
   "source": [
    "#create a word cloud to see which words that appear often in tweets of metaverse\n",
    "wordcloud = WordCloud(width = 800, height = 300, background_color = 'black', \n",
    "                      max_words = 1000, min_font_size = 20).generate(str(word_to_plot_1))\n",
    "#plot the word cloud\n",
    "fig = plt.figure(figsize = (8,8), facecolor = None)\n",
    "plt.imshow(wordcloud)\n",
    "plt.axis('off')\n",
    "plt.show()"
   ]
  },
  {
   "cell_type": "markdown",
   "id": "80980f06",
   "metadata": {},
   "source": [
    "### Sentiment"
   ]
  },
  {
   "cell_type": "code",
   "execution_count": 31,
   "id": "86095a17",
   "metadata": {},
   "outputs": [
    {
     "data": {
      "text/html": [
       "<div>\n",
       "<style scoped>\n",
       "    .dataframe tbody tr th:only-of-type {\n",
       "        vertical-align: middle;\n",
       "    }\n",
       "\n",
       "    .dataframe tbody tr th {\n",
       "        vertical-align: top;\n",
       "    }\n",
       "\n",
       "    .dataframe thead th {\n",
       "        text-align: right;\n",
       "    }\n",
       "</style>\n",
       "<table border=\"1\" class=\"dataframe\">\n",
       "  <thead>\n",
       "    <tr style=\"text-align: right;\">\n",
       "      <th></th>\n",
       "      <th>word</th>\n",
       "      <th>weight</th>\n",
       "      <th>number_of_words</th>\n",
       "    </tr>\n",
       "  </thead>\n",
       "  <tbody>\n",
       "    <tr>\n",
       "      <th>0</th>\n",
       "      <td>hai</td>\n",
       "      <td>3</td>\n",
       "      <td>1</td>\n",
       "    </tr>\n",
       "    <tr>\n",
       "      <th>1</th>\n",
       "      <td>merekam</td>\n",
       "      <td>2</td>\n",
       "      <td>1</td>\n",
       "    </tr>\n",
       "    <tr>\n",
       "      <th>2</th>\n",
       "      <td>ekstensif</td>\n",
       "      <td>3</td>\n",
       "      <td>1</td>\n",
       "    </tr>\n",
       "    <tr>\n",
       "      <th>3</th>\n",
       "      <td>paripurna</td>\n",
       "      <td>1</td>\n",
       "      <td>1</td>\n",
       "    </tr>\n",
       "    <tr>\n",
       "      <th>4</th>\n",
       "      <td>detail</td>\n",
       "      <td>2</td>\n",
       "      <td>1</td>\n",
       "    </tr>\n",
       "    <tr>\n",
       "      <th>...</th>\n",
       "      <td>...</td>\n",
       "      <td>...</td>\n",
       "      <td>...</td>\n",
       "    </tr>\n",
       "    <tr>\n",
       "      <th>10240</th>\n",
       "      <td>sontoloyo</td>\n",
       "      <td>-5</td>\n",
       "      <td>1</td>\n",
       "    </tr>\n",
       "    <tr>\n",
       "      <th>10241</th>\n",
       "      <td>tai</td>\n",
       "      <td>-5</td>\n",
       "      <td>1</td>\n",
       "    </tr>\n",
       "    <tr>\n",
       "      <th>10242</th>\n",
       "      <td>telek</td>\n",
       "      <td>-5</td>\n",
       "      <td>1</td>\n",
       "    </tr>\n",
       "    <tr>\n",
       "      <th>10243</th>\n",
       "      <td>tolol</td>\n",
       "      <td>-5</td>\n",
       "      <td>1</td>\n",
       "    </tr>\n",
       "    <tr>\n",
       "      <th>10244</th>\n",
       "      <td>budi baik</td>\n",
       "      <td>3</td>\n",
       "      <td>2</td>\n",
       "    </tr>\n",
       "  </tbody>\n",
       "</table>\n",
       "<p>10245 rows × 3 columns</p>\n",
       "</div>"
      ],
      "text/plain": [
       "            word  weight  number_of_words\n",
       "0            hai       3                1\n",
       "1        merekam       2                1\n",
       "2      ekstensif       3                1\n",
       "3      paripurna       1                1\n",
       "4         detail       2                1\n",
       "...          ...     ...              ...\n",
       "10240  sontoloyo      -5                1\n",
       "10241        tai      -5                1\n",
       "10242      telek      -5                1\n",
       "10243      tolol      -5                1\n",
       "10244  budi baik       3                2\n",
       "\n",
       "[10245 rows x 3 columns]"
      ]
     },
     "execution_count": 31,
     "metadata": {},
     "output_type": "execute_result"
    }
   ],
   "source": [
    "lexicon"
   ]
  },
  {
   "cell_type": "code",
   "execution_count": 32,
   "id": "7b270dde",
   "metadata": {},
   "outputs": [
    {
     "data": {
      "text/plain": [
       "1    9533\n",
       "2     686\n",
       "3      24\n",
       "4       2\n",
       "Name: number_of_words, dtype: int64"
      ]
     },
     "execution_count": 32,
     "metadata": {},
     "output_type": "execute_result"
    }
   ],
   "source": [
    "lexicon['number_of_words'].value_counts()"
   ]
  },
  {
   "cell_type": "markdown",
   "id": "1c0a3917",
   "metadata": {},
   "source": [
    "#### Hitung nilai kata dengan mencocokkan dengan kamus lexicon sementara membuat matrix Bag of Words"
   ]
  },
  {
   "cell_type": "code",
   "execution_count": 33,
   "id": "db0c9b72",
   "metadata": {},
   "outputs": [],
   "source": [
    "sencol =[]\n",
    "senrow =np.array([])\n",
    "nsen = 0\n",
    "factory = StemmerFactory()\n",
    "stemmer = factory.create_stemmer()\n",
    "sentiment_list = []\n",
    "# fungsi untuk menulis nilai kata jika ditemukan\n",
    "def found_word(ind,words,word,sen,sencol,sentiment,add):\n",
    "    # jika terdapat pada matrix Bag of Words, tingkatkan nilainya\n",
    "    if word in sencol:\n",
    "        sen[sencol.index(word)] += 1\n",
    "    else:\n",
    "    # jika tidak, tambahkan kata baru\n",
    "        sencol.append(word)\n",
    "        sen.append(1)\n",
    "        add += 1\n",
    "    # jika terdapat kata negasi sebelumnya, nilai sentimen akan menjadi negatif\n",
    "    if (words[ind-1] in negasi):\n",
    "        sentiment += -lexicon['weight'][lexicon_word.index(word)]\n",
    "    else:\n",
    "        sentiment += lexicon['weight'][lexicon_word.index(word)]\n",
    "    \n",
    "    return sen,sencol,sentiment,add"
   ]
  },
  {
   "cell_type": "code",
   "execution_count": null,
   "id": "8cb06125",
   "metadata": {},
   "outputs": [],
   "source": [
    "# memeriksa setiap kata, jika terdapat pada kamus lexicon, maka hitung nilai sentimennya\n",
    "for i in range(len(df)):\n",
    "    nsen = senrow.shape[0]\n",
    "    words = word_tokenize(df['Clean_Text'][i])\n",
    "    sentiment = 0 \n",
    "    add = 0\n",
    "    prev = [0 for ii in range(len(words))]\n",
    "    n_words = len(words)\n",
    "    if len(sencol)>0:\n",
    "        sen =[0 for j in range(len(sencol))]\n",
    "    else:\n",
    "        sen =[]\n",
    "    \n",
    "    for word in words:\n",
    "        ind = words.index(word)\n",
    "        # Memeriksa apakah terdapat pada kamus lexicon\n",
    "        if word in lexicon_word :\n",
    "            sen,sencol,sentiment,add= found_word(ind,words,word,sen,sencol,sentiment,add)\n",
    "        else:\n",
    "        # jika tidak, periksa kata dasarnya\n",
    "            kata_dasar = stemmer.stem(word)\n",
    "            if kata_dasar in lexicon_word:\n",
    "                sen,sencol,sentiment,add= found_word(ind,words,kata_dasar,sen,sencol,sentiment,add)\n",
    "        # jika masih tidak ditemukan, coba gabungkan dengan kata sebelumnya\n",
    "            elif(n_words>1):\n",
    "                if ind-1>-1:\n",
    "                    back_1    = words[ind-1]+' '+word\n",
    "                    if (back_1 in lexicon_word):\n",
    "                        sen,sencol,sentiment,add= found_word(ind,words,back_1,sen,sencol,sentiment,add)\n",
    "                    elif(ind-2>-1):\n",
    "                        back_2    = words[ind-2]+' '+back_1\n",
    "                        if back_2 in lexicon_word:\n",
    "                            sen,sencol,sentiment,add= found_word(ind,words,back_2,sen,sencol,sentiment,add)\n",
    "    # if there is new word founded, then expand the matrix\n",
    "    # jika ditemukan kata baru, maka perluas matrix\n",
    "    if add>0:  \n",
    "        if i>0:\n",
    "            if (nsen==0):\n",
    "                senrow = np.zeros([i,add],dtype=int)\n",
    "            elif(i!=nsen):\n",
    "                padding_h = np.zeros([nsen,add],dtype=int)\n",
    "                senrow = np.hstack((senrow,padding_h))\n",
    "                padding_v = np.zeros([(i-nsen),senrow.shape[1]],dtype=int)\n",
    "                senrow = np.vstack((senrow,padding_v))\n",
    "            else:\n",
    "                padding =np.zeros([nsen,add],dtype=int)\n",
    "                senrow = np.hstack((senrow,padding))\n",
    "            senrow = np.vstack((senrow,sen))\n",
    "        if i==0:\n",
    "            senrow = np.array(sen).reshape(1,len(sen))\n",
    "    # if there isn't then just update the old matrix\n",
    "    # jika tidak, perbarui matrix lama\n",
    "    elif(nsen>0):\n",
    "        senrow = np.vstack((senrow,sen))\n",
    "        \n",
    "    sentiment_list.append(sentiment)"
   ]
  },
  {
   "cell_type": "code",
   "execution_count": null,
   "id": "eba9598a",
   "metadata": {},
   "outputs": [],
   "source": [
    "len(sentiment_list)"
   ]
  },
  {
   "cell_type": "code",
   "execution_count": null,
   "id": "264e2324",
   "metadata": {},
   "outputs": [],
   "source": [
    "print(sencol)"
   ]
  },
  {
   "cell_type": "code",
   "execution_count": null,
   "id": "690fea0a",
   "metadata": {},
   "outputs": [],
   "source": [
    "print(senrow.shape[0])"
   ]
  },
  {
   "cell_type": "code",
   "execution_count": null,
   "id": "3f59dfd5",
   "metadata": {},
   "outputs": [],
   "source": [
    "sencol.append('lexicon_score')\n",
    "sentiment_array = np.array(sentiment_list).reshape(senrow.shape[0],1)\n",
    "sentiment_data = np.hstack((senrow,sentiment_array))\n",
    "df_sen = pd.DataFrame(sentiment_data,columns = sencol)"
   ]
  },
  {
   "cell_type": "code",
   "execution_count": null,
   "id": "d1151f53",
   "metadata": {},
   "outputs": [],
   "source": [
    "df_sen.head(10)"
   ]
  },
  {
   "cell_type": "code",
   "execution_count": null,
   "id": "2b1b5138",
   "metadata": {},
   "outputs": [],
   "source": [
    "#df_sen = df_sen.drop(df_sen.columns[0], axis=1)"
   ]
  },
  {
   "cell_type": "code",
   "execution_count": null,
   "id": "ecc4211e",
   "metadata": {},
   "outputs": [],
   "source": [
    "df_sen.head()"
   ]
  },
  {
   "cell_type": "code",
   "execution_count": null,
   "id": "674f5002",
   "metadata": {},
   "outputs": [],
   "source": [
    "cek_df = pd.DataFrame([])\n",
    "cek_df['text'] = df['Clean_Text'].copy()\n",
    "cek_df['lexicon_score'] = df_sen['lexicon_score'].copy()"
   ]
  },
  {
   "cell_type": "code",
   "execution_count": null,
   "id": "2bc33588",
   "metadata": {
    "scrolled": false
   },
   "outputs": [],
   "source": [
    "cek_df.head(10)"
   ]
  },
  {
   "cell_type": "code",
   "execution_count": null,
   "id": "e69f1add",
   "metadata": {},
   "outputs": [],
   "source": [
    "df['Lexicon_Score'] = cek_df['lexicon_score']"
   ]
  },
  {
   "cell_type": "code",
   "execution_count": null,
   "id": "6155bfbc",
   "metadata": {},
   "outputs": [],
   "source": [
    "print(max(df['Lexicon_Score']))\n",
    "print(min(df['Lexicon_Score']))"
   ]
  },
  {
   "cell_type": "code",
   "execution_count": null,
   "id": "fea217f2",
   "metadata": {},
   "outputs": [],
   "source": [
    "scaler = MinMaxScaler()\n",
    "sentiment_scores = df['Lexicon_Score'].values"
   ]
  },
  {
   "cell_type": "code",
   "execution_count": null,
   "id": "62fcc007",
   "metadata": {},
   "outputs": [],
   "source": [
    "scale_score = scaler.fit_transform(sentiment_scores.reshape(-1,1))"
   ]
  },
  {
   "cell_type": "code",
   "execution_count": null,
   "id": "bcacb0e2",
   "metadata": {},
   "outputs": [],
   "source": [
    "df['Score_Scaled'] = scale_score"
   ]
  },
  {
   "cell_type": "code",
   "execution_count": null,
   "id": "8e51ca25",
   "metadata": {},
   "outputs": [],
   "source": [
    "def sentiment(score):\n",
    "    if score >= 0.75:\n",
    "        return 'positive'\n",
    "    elif score <= 0.25:\n",
    "        return 'negative'\n",
    "    else:\n",
    "        return 'neutral'"
   ]
  },
  {
   "cell_type": "code",
   "execution_count": null,
   "id": "8d53b99c",
   "metadata": {},
   "outputs": [],
   "source": [
    "df['Lexicon_Sentiment'] = df['Score_Scaled'].apply(lambda x: sentiment(x))"
   ]
  },
  {
   "cell_type": "code",
   "execution_count": null,
   "id": "9ef5e4cc",
   "metadata": {},
   "outputs": [],
   "source": [
    "X = df['Clean_Text']\n",
    "y = df['Lexicon_Sentiment']\n",
    "\n",
    "x_train, x_test, y_train, y_test = train_test_split(X,y, test_size = 0.2, random_state=42)"
   ]
  },
  {
   "cell_type": "code",
   "execution_count": null,
   "id": "15d6a4a5",
   "metadata": {},
   "outputs": [],
   "source": [
    "y_true = df['indonlp_sentiment'][:round(len(df)*0.2)]\n",
    "y_pred = df['Lexicon_Sentiment'][:round(len(df)*0.2)]"
   ]
  },
  {
   "cell_type": "code",
   "execution_count": null,
   "id": "d0596337",
   "metadata": {},
   "outputs": [],
   "source": [
    "# Calculate the accuracy, precision, recall, and F1-score\n",
    "accuracy = accuracy_score(y_true, y_pred)\n",
    "precision = precision_score(y_true, y_pred, average='macro')\n",
    "recall = recall_score(y_true, y_pred, average='macro')\n",
    "f1 = f1_score(y_true, y_pred, average='macro')"
   ]
  },
  {
   "cell_type": "code",
   "execution_count": null,
   "id": "06764e38",
   "metadata": {},
   "outputs": [],
   "source": [
    "# Print the results\n",
    "print('Accuracy: {:.2f}%'.format(accuracy * 100))\n",
    "print('Precision: {:.2f}%'.format(precision * 100))\n",
    "print('Recall: {:.2f}%'.format(recall * 100))\n",
    "print('F1-score: {:.2f}%'.format(f1 * 100))"
   ]
  },
  {
   "cell_type": "code",
   "execution_count": null,
   "id": "19da0161",
   "metadata": {},
   "outputs": [],
   "source": [
    "from sklearn.metrics import accuracy_score, precision_score, recall_score, f1_score\n",
    "\n",
    "def sentiment(score, pos_threshold, neg_threshold):\n",
    "    if score >= pos_threshold:\n",
    "        return 'positive'\n",
    "    elif score <= neg_threshold:\n",
    "        return 'negative'\n",
    "    else:\n",
    "        return 'neutral'\n",
    "\n",
    "def find_best_threshold(df):\n",
    "    pos_thresholds = np.arange(0.4, 1, 0.05)\n",
    "    neg_thresholds = np.arange(0, 0.3, 0.05)\n",
    "    best_pos_threshold = 0\n",
    "    best_neg_threshold = 0\n",
    "    best_accuracy = 0\n",
    "    for pos_threshold in pos_thresholds:\n",
    "        for neg_threshold in neg_thresholds:\n",
    "            df['predicted_sentiment'] = df['Score_Scaled'].apply(lambda x: sentiment(x, pos_threshold, neg_threshold))\n",
    "            y_true = df['indonlp_sentiment'][:round(len(df)*0.2)]\n",
    "            y_pred = df['predicted_sentiment'][:round(len(df)*0.2)]\n",
    "            accuracy = accuracy_score(y_true, y_pred)\n",
    "            if accuracy > best_accuracy:\n",
    "                best_accuracy = accuracy\n",
    "                best_pos_threshold = pos_threshold\n",
    "                best_neg_threshold = neg_threshold\n",
    "    return best_pos_threshold, best_neg_threshold, best_accuracy\n",
    "\n",
    "best_pos_threshold, best_neg_threshold, best_accuracy = find_best_threshold(df)\n",
    "print('Best positive threshold: {:.2f}'.format(best_pos_threshold))\n",
    "print('Best negative threshold: {:.2f}'.format(best_neg_threshold))\n",
    "print('Best accuracy: {:.2f}%'.format(best_accuracy * 100))\n",
    "\n",
    "# Apply the best thresholds to predict sentiment\n",
    "df['predicted_sentiment'] = df['Score_Scaled'].apply(lambda x: sentiment(x, best_pos_threshold, best_neg_threshold))\n",
    "\n",
    "# Calculate the accuracy, precision, recall, and F1-score\n",
    "y_true = df['indonlp_sentiment'][:round(len(df)*0.2)]\n",
    "y_pred = df['predicted_sentiment'][:round(len(df)*0.2)]\n",
    "accuracy = accuracy_score(y_true, y_pred)\n",
    "precision = precision_score(y_true, y_pred, average='macro')\n",
    "recall = recall_score(y_true, y_pred, average='macro')\n",
    "f1 = f1_score(y_true, y_pred, average='macro')\n",
    "\n",
    "# Print the results\n",
    "print('Accuracy: {:.2f}%'.format(accuracy * 100))\n",
    "print('Precision: {:.2f}%'.format(precision * 100))\n",
    "print('Recall: {:.2f}%'.format(recall * 100))\n",
    "print('F1-score: {:.2f}%'.format(f1 * 100))\n"
   ]
  },
  {
   "cell_type": "code",
   "execution_count": null,
   "id": "603a49b4",
   "metadata": {},
   "outputs": [],
   "source": [
    "#df.to_csv('../Cleaning/Clean_Dataset.csv', index=False)"
   ]
  },
  {
   "cell_type": "code",
   "execution_count": null,
   "id": "6cd41785",
   "metadata": {},
   "outputs": [],
   "source": [
    "df.shape"
   ]
  },
  {
   "cell_type": "markdown",
   "id": "1ce20bb3",
   "metadata": {},
   "source": [
    "#### EDA"
   ]
  },
  {
   "cell_type": "code",
   "execution_count": null,
   "id": "5469027c",
   "metadata": {},
   "outputs": [],
   "source": [
    "df_sen.head()"
   ]
  },
  {
   "cell_type": "code",
   "execution_count": null,
   "id": "d2b6f4d9",
   "metadata": {},
   "outputs": [],
   "source": [
    "sns.set(style='white', palette='muted', color_codes=True)\n",
    "sns.kdeplot(df_sen['lexicon_score'], color='m', shade=True)\n",
    "plt.title('Sentiment Distribution')\n",
    "plt.xlabel('sentiment')"
   ]
  },
  {
   "cell_type": "code",
   "execution_count": null,
   "id": "fd52602d",
   "metadata": {},
   "outputs": [],
   "source": [
    "df_sen.describe()"
   ]
  },
  {
   "cell_type": "code",
   "execution_count": null,
   "id": "13098c68",
   "metadata": {},
   "outputs": [],
   "source": [
    "#correlation between words that is included in the sentiment\n",
    "def get_redundant_pairs(df):\n",
    "    '''Get diagonal and lower triangular pairs of correlation matrix'''\n",
    "    pairs_to_drop = set()\n",
    "    cols = df.columns\n",
    "    for i in range(0, df.shape[1]):\n",
    "        for j in range(0, i+1):\n",
    "            pairs_to_drop.add((cols[i], cols[j]))\n",
    "    return pairs_to_drop\n",
    "\n",
    "def get_top_abs_correlations(df, n=10):\n",
    "    au_corr = df.corr().abs().unstack()\n",
    "    labels_to_drop = get_redundant_pairs(df)\n",
    "    au_corr = au_corr.drop(labels=labels_to_drop).sort_values(ascending=False)\n",
    "    return au_corr\n",
    "\n",
    "#print(\"Top Absolute Correlations\")\n",
    "#print(get_top_abs_correlations(df_sen, 10))\n",
    "au = get_top_abs_correlations(df_sen, 15)"
   ]
  },
  {
   "cell_type": "code",
   "execution_count": null,
   "id": "9e14ff59",
   "metadata": {},
   "outputs": [],
   "source": [
    "print('Perfect Correlation')\n",
    "au[au==1]"
   ]
  },
  {
   "cell_type": "code",
   "execution_count": null,
   "id": "74503735",
   "metadata": {},
   "outputs": [],
   "source": [
    "top10 = au[au<float(1)][0:10]\n",
    "label = top10.index\n",
    "label_list =[]\n",
    "for i in label:\n",
    "    for j in i:\n",
    "        if(j not in label_list):\n",
    "            label_list.append(j)\n",
    "            \n",
    "df_sen_corr = df_sen[label_list]\n",
    "corr = df_sen_corr.corr()\n",
    "for i in label_list:\n",
    "    for j in label_list:\n",
    "        if i!=j:\n",
    "            corr[i][j] = round(corr[i][j],3)\n",
    "            "
   ]
  },
  {
   "cell_type": "code",
   "execution_count": null,
   "id": "52f90f35",
   "metadata": {},
   "outputs": [],
   "source": [
    "plt.figure(figsize=(15,15))\n",
    "h = sns.heatmap(corr, annot=True,vmin=-1, vmax=1, center= 0)\n",
    "plt.show()"
   ]
  },
  {
   "cell_type": "code",
   "execution_count": null,
   "id": "5e7a06e4",
   "metadata": {},
   "outputs": [],
   "source": [
    "#top15 = au[au<float(1)][0:15]"
   ]
  },
  {
   "cell_type": "code",
   "execution_count": null,
   "id": "f571e4a8",
   "metadata": {},
   "outputs": [],
   "source": [
    "'''\n",
    "pal =sns.dark_palette(\"purple\", input=\"xkcd\",n_colors=15)\n",
    "g = sns.barplot(y = top15.index , x = top15,palette=pal)\n",
    "g.grid=False\n",
    "plt.xlabel('correlation')\n",
    "plt.ylabel('pair of words')\n",
    "plt.title(\"Top 15 Not-Perfect Correlation\",fontweight='bold') \n",
    "for i in range(15):\n",
    "    g.text(top15[i],i+0.22, round(top15[i],3),color='black')\n",
    "plt.show()\n",
    "'''"
   ]
  },
  {
   "cell_type": "code",
   "execution_count": null,
   "id": "39b11c73",
   "metadata": {},
   "outputs": [],
   "source": [
    "top15_word = df_sen.drop(['lexicon_sentiment'], axis=1).sum().sort_values(ascending=False)[0:15]"
   ]
  },
  {
   "cell_type": "code",
   "execution_count": null,
   "id": "47bfe5db",
   "metadata": {},
   "outputs": [],
   "source": [
    "#pal =sns.dark_palette(\"purple\", input=\"xkcd\",n_colors=15)\n",
    "pal =sns.light_palette(\"navy\", reverse=True,n_colors=15)\n",
    "g = sns.barplot(y = top15_word.index , x = top15_word,palette=pal)\n",
    "g.grid(False)\n",
    "plt.xlabel('Occurences')\n",
    "plt.ylabel('Words')\n",
    "plt.title(\"Top 15 Most Often Occured Words\",fontweight='bold') \n",
    "for i in range(15):\n",
    "    g.text(top15_word[i],i+0.22, top15_word[i],color='black')\n",
    "plt.show()"
   ]
  },
  {
   "cell_type": "markdown",
   "id": "8e37b90f",
   "metadata": {},
   "source": [
    "### Beyond Words"
   ]
  },
  {
   "cell_type": "code",
   "execution_count": null,
   "id": "4207dddb",
   "metadata": {},
   "outputs": [],
   "source": [
    "#pass the sentiment into the original dataset and explore some data\n",
    "df['Lexicon_Sentiment'] = df_sen['lexicon_sentiment']"
   ]
  },
  {
   "cell_type": "code",
   "execution_count": null,
   "id": "e72a0e72",
   "metadata": {},
   "outputs": [],
   "source": [
    "df.sample(15)"
   ]
  },
  {
   "cell_type": "code",
   "execution_count": null,
   "id": "437a0bf9",
   "metadata": {},
   "outputs": [],
   "source": [
    "df.isnull().sum()"
   ]
  },
  {
   "cell_type": "code",
   "execution_count": null,
   "id": "c82e9b4d",
   "metadata": {},
   "outputs": [],
   "source": [
    "plt.figure()\n",
    "plt.title('correlation between numerical data', fontweight='bold')\n",
    "df_corr = df.corr()\n",
    "matrix = np.triu(df.corr())\n",
    "cmap = sns.cubehelix_palette(light=0.5, as_cmap=True)\n",
    "h = sns.heatmap(df_corr, annot=True, vmin=-1, vmax=1, center=0, mask=matrix, cmap = cmap)\n",
    "\n",
    "plt.show()"
   ]
  },
  {
   "cell_type": "code",
   "execution_count": null,
   "id": "51e90735",
   "metadata": {},
   "outputs": [],
   "source": [
    "df_location = df.groupby(['Location']).mean().sort_values(by='Lexicon_Sentiment',ascending=False)\n",
    "df_location = df_location.reset_index()"
   ]
  },
  {
   "cell_type": "code",
   "execution_count": null,
   "id": "d46741e5",
   "metadata": {},
   "outputs": [],
   "source": [
    "df_location_dict = df.groupby(['Location']).count().sort_values(by='Tweet Id',ascending=False)['Tweet Id'].to_dict()"
   ]
  },
  {
   "cell_type": "code",
   "execution_count": null,
   "id": "bd14c7c5",
   "metadata": {},
   "outputs": [],
   "source": [
    "df_location['number_of_tweets'] =  df_location.apply(lambda x:df_location_dict[x['Location']],axis=1)"
   ]
  },
  {
   "cell_type": "code",
   "execution_count": null,
   "id": "9e30666e",
   "metadata": {},
   "outputs": [],
   "source": [
    "top10_location_positive = df_location.sort_values(by='Lexicon_Sentiment', ascending=False)[0:10].reset_index(drop=True)\n",
    "top10_location_negative = df_location.sort_values(by='Lexicon_Sentiment', ascending=True)[0:10].reset_index(drop=True)\n",
    "top10_location = df_location.sort_values(by='number_of_tweets', ascending=False)[0:10].reset_index(drop=True)"
   ]
  },
  {
   "cell_type": "code",
   "execution_count": null,
   "id": "20536a42",
   "metadata": {},
   "outputs": [],
   "source": [
    "fig, (ax1, ax2) = plt.subplots(2, 1,figsize=(10,10))\n",
    "fig.suptitle('Most Positive and Most Negative Sentiment Place', fontweight='bold')\n",
    "h = sns.barplot(y='Location', x='Lexicon_Sentiment', data=top10_location_positive, ax=ax1, palette=sns.color_palette('Blues_d', n_colors=10))\n",
    "n = sns.barplot(y='Location', x='Lexicon_Sentiment', data=top10_location_negative, ax=ax2, palette=sns.color_palette('RdPu_d', n_colors=10))\n",
    "ax1.set_title('Top 10 Positive')\n",
    "ax2.set_title('Top 10 Negative')\n",
    "plt.show()"
   ]
  },
  {
   "cell_type": "code",
   "execution_count": null,
   "id": "575e4b3a",
   "metadata": {},
   "outputs": [],
   "source": [
    "#place where tweets is most often come from\n",
    "pal =sns.dark_palette(\"green\", input=\"xkcd\",n_colors=10)\n",
    "g = sns.barplot(y = top10_location['Location'] , x = top10_location['number_of_tweets'],palette=pal)\n",
    "g.grid=False\n",
    "plt.xlabel('Number of Tweets')\n",
    "plt.ylabel('Location')\n",
    "plt.title(\"Top 10 Number of Tweets place\",fontweight='bold') \n",
    "\n",
    "for i in range(10):\n",
    "    g.text(top10_location['number_of_tweets'][i], i+0.22 ,round(top10_location['Lexicon_Sentiment'][i],3),color='black')\n",
    "    \n",
    "plt.show()"
   ]
  },
  {
   "cell_type": "code",
   "execution_count": null,
   "id": "92fee80d",
   "metadata": {},
   "outputs": [],
   "source": []
  },
  {
   "cell_type": "code",
   "execution_count": null,
   "id": "66c9bcdc",
   "metadata": {},
   "outputs": [],
   "source": []
  },
  {
   "cell_type": "code",
   "execution_count": null,
   "id": "b22e2369",
   "metadata": {},
   "outputs": [],
   "source": []
  }
 ],
 "metadata": {
  "kernelspec": {
   "display_name": "Python 3 (ipykernel)",
   "language": "python",
   "name": "python3"
  },
  "language_info": {
   "codemirror_mode": {
    "name": "ipython",
    "version": 3
   },
   "file_extension": ".py",
   "mimetype": "text/x-python",
   "name": "python",
   "nbconvert_exporter": "python",
   "pygments_lexer": "ipython3",
   "version": "3.9.16"
  }
 },
 "nbformat": 4,
 "nbformat_minor": 5
}
