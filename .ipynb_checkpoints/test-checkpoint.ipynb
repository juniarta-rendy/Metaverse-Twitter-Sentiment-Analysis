{
 "cells": [
  {
   "cell_type": "code",
   "execution_count": null,
   "id": "8c02e23c",
   "metadata": {},
   "outputs": [
    {
     "name": "stdout",
     "output_type": "stream",
     "text": [
      "Year: 2022\n"
     ]
    }
   ],
   "source": [
    "import snscrape.modules.twitter as sntwitter\n",
    "import pandas as pd\n",
    "\n",
    "# Creating list to append tweet data to\n",
    "tweets_list2 = []\n",
    "\n",
    "# Using TwitterSearchScraper to scrape data and append tweets to list\n",
    "query = 'id'\n",
    "def scrape(y,m,num):\n",
    "    for i in range(1,m+1):\n",
    "        months = str(i)\n",
    "        for j,tweet in enumerate(sntwitter.TwitterSearchScraper(\n",
    "            'metaverse since:'+y+'-'+months+'-01 until:'+y+'-'+months+'-31 lang:id -filter:retweets ').get_items()):\n",
    "            if j>num:\n",
    "                break\n",
    "            tweets_list2.append([tweet.date, tweet.id, tweet.content, tweet.user.username])\n",
    "            \n",
    "            # Creating a dataframe from the tweets list above\n",
    "            tweets_df2 = pd.DataFrame(tweets_list2, columns=['Datetime', 'Tweet Id', 'Text', 'Username'])\n",
    "            \n",
    "        tweets_df2.to_csv(\"C:/Users/Juniarta/Krispi/Dataset/twitter_\"+y+\"_\"+months+\".csv\")\n",
    "    \n",
    "    return 0\n",
    "\n",
    "\n",
    "\n",
    "\n",
    "if __name__ == '__main__':\n",
    "    year = input('Year: ')\n",
    "    months = int(input('Months: '))\n",
    "    tweetsNum = int(input('Number of Tweets: '))\n",
    "    scrape(year,months)"
   ]
  },
  {
   "cell_type": "code",
   "execution_count": null,
   "id": "2870d517",
   "metadata": {},
   "outputs": [],
   "source": [
    "print(len(tweets_list2))"
   ]
  },
  {
   "cell_type": "code",
   "execution_count": null,
   "id": "8931cbcc",
   "metadata": {},
   "outputs": [],
   "source": []
  }
 ],
 "metadata": {
  "kernelspec": {
   "display_name": "Python 3 (ipykernel)",
   "language": "python",
   "name": "python3"
  },
  "language_info": {
   "codemirror_mode": {
    "name": "ipython",
    "version": 3
   },
   "file_extension": ".py",
   "mimetype": "text/x-python",
   "name": "python",
   "nbconvert_exporter": "python",
   "pygments_lexer": "ipython3",
   "version": "3.9.12"
  }
 },
 "nbformat": 4,
 "nbformat_minor": 5
}
