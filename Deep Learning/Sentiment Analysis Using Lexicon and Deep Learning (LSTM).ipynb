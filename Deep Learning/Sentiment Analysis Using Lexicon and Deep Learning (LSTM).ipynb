{
 "cells": [
  {
   "cell_type": "code",
   "execution_count": 69,
   "id": "b06a1432",
   "metadata": {},
   "outputs": [],
   "source": [
    "import numpy as np\n",
    "import pandas as pd\n",
    "import re\n",
    "from sklearn.model_selection import train_test_split\n",
    "import matplotlib.pyplot as plt\n",
    "from sklearn.metrics import accuracy_score, precision_score, recall_score, f1_score\n",
    "\n",
    "from keras.models import Sequential\n",
    "from keras import layers\n",
    "from keras.layers import Embedding\n",
    "from keras.optimizers import Adam\n",
    "\n",
    "import seaborn as sns\n",
    "sns.set(style = 'whitegrid')\n",
    "\n",
    "from mlxtend.plotting import plot_confusion_matrix\n",
    "from sklearn.metrics import confusion_matrix\n",
    "from sklearn.preprocessing import MinMaxScaler\n",
    "\n",
    "from keras.preprocessing.text import Tokenizer\n",
    "from tensorflow.keras.preprocessing.sequence import pad_sequences\n",
    "from keras import regularizers\n",
    "from sklearn.metrics import classification_report, confusion_matrix"
   ]
  },
  {
   "cell_type": "code",
   "execution_count": 41,
   "id": "fd894dec",
   "metadata": {},
   "outputs": [],
   "source": [
    "df = pd.read_csv('../Cleaning/Clean_Dataset.csv', encoding='UTF-8')"
   ]
  },
  {
   "cell_type": "code",
   "execution_count": 42,
   "id": "e4e11196",
   "metadata": {},
   "outputs": [
    {
     "data": {
      "text/plain": [
       "Datetime                 0\n",
       "Tweet Id                 0\n",
       "Text                     0\n",
       "Location             29021\n",
       "Provinsi             30449\n",
       "Username                 0\n",
       "Clean_Text               0\n",
       "Stop_Words_Text          0\n",
       "Stemmed_Text             0\n",
       "Unnamed: 9           41218\n",
       "City                 33903\n",
       "Province             33903\n",
       "Translated               0\n",
       "Lexicon_Score            0\n",
       "Score_Scaled             0\n",
       "indonlp_sentiment        0\n",
       "Country              29021\n",
       "area_count           33903\n",
       "area_count_2         30449\n",
       "sentiment_int        39852\n",
       "label_score              0\n",
       "score                    0\n",
       "date_created             0\n",
       "time_created             0\n",
       "dtype: int64"
      ]
     },
     "execution_count": 42,
     "metadata": {},
     "output_type": "execute_result"
    }
   ],
   "source": [
    "df.isna().sum()"
   ]
  },
  {
   "cell_type": "code",
   "execution_count": 43,
   "id": "1ddc8df6",
   "metadata": {},
   "outputs": [],
   "source": [
    "train = df[['Clean_Text','Stop_Words_Text', 'Stemmed_Text', 'indonlp_sentiment', 'Lexicon_Score']]"
   ]
  },
  {
   "cell_type": "code",
   "execution_count": 44,
   "id": "1c2ff1da",
   "metadata": {},
   "outputs": [
    {
     "data": {
      "text/plain": [
       "41218"
      ]
     },
     "execution_count": 44,
     "metadata": {},
     "output_type": "execute_result"
    }
   ],
   "source": [
    "len(df['Clean_Text'])"
   ]
  },
  {
   "cell_type": "markdown",
   "id": "bf8d5601",
   "metadata": {},
   "source": [
    "#### Data Preprocessing"
   ]
  },
  {
   "cell_type": "code",
   "execution_count": 45,
   "id": "058c3a0a",
   "metadata": {},
   "outputs": [],
   "source": [
    "data = df['Clean_Text'].values.tolist()"
   ]
  },
  {
   "cell_type": "code",
   "execution_count": 46,
   "id": "736755c2",
   "metadata": {},
   "outputs": [
    {
     "name": "stdout",
     "output_type": "stream",
     "text": [
      "['cina dan as terus bersaing mengembangkan teknologi terbaru termasuk kali ini perusahaan di kedua negara berlomba lomba membangun dunia virtual atau metaverse', 'katanya mau metaverse tapi down melulu bagaimana mas zuck', 'mungkin facebook sudah berencana menjadi metaverse besar secara sudah menyiapkan diem sebagai stable currency mereka kalau memang pasti nanti pindah ke blokchain semua facebook masih menang banyak karena hanya memerlukan pembaruan teknologi penggunanya sudah banyak', 'bersaing dengan perusahaan kelas dunia untuk mencapai hal ini sektor publik dan swasta harus bersatu untuk membentuk ekosistem metaverse yang melibatkan teknologi ar vr dan xr dalam forum tersebut juga dibahas bagaimana mensukseskan platform ini dengan pasar konsumen', 'sama sama semoga selalu terhindar dari usaha tipu menipu di metaverse iya']\n"
     ]
    }
   ],
   "source": [
    "print(data[:5])"
   ]
  },
  {
   "cell_type": "markdown",
   "id": "08d02a35",
   "metadata": {},
   "source": [
    "### Building a Model"
   ]
  },
  {
   "cell_type": "markdown",
   "id": "c9a2b422",
   "metadata": {},
   "source": [
    "#### Label Encoding of Output"
   ]
  },
  {
   "cell_type": "code",
   "execution_count": 47,
   "id": "5d3adbd1",
   "metadata": {},
   "outputs": [],
   "source": [
    "import tensorflow as tf\n",
    "labels = np.array(train['indonlp_sentiment'])\n",
    "y = []\n",
    "for i in range(len(labels)):\n",
    "    if labels[i] == 'neutral':\n",
    "        y.append(0)\n",
    "    if labels[i] == 'negative':\n",
    "        y.append(1)\n",
    "    if labels[i] == 'positive':\n",
    "        y.append(2)\n",
    "y = np.array(y)\n",
    "labels = tf.keras.utils.to_categorical(y, 3, dtype=\"float32\")\n",
    "del y"
   ]
  },
  {
   "cell_type": "code",
   "execution_count": 48,
   "id": "37b156b8",
   "metadata": {},
   "outputs": [
    {
     "data": {
      "text/plain": [
       "array([1., 0., 0.], dtype=float32)"
      ]
     },
     "execution_count": 48,
     "metadata": {},
     "output_type": "execute_result"
    }
   ],
   "source": [
    "labels[0]"
   ]
  },
  {
   "cell_type": "markdown",
   "id": "437e2d12",
   "metadata": {},
   "source": [
    "#### Tokenizing dan Padding"
   ]
  },
  {
   "cell_type": "code",
   "execution_count": 49,
   "id": "7bde87a6",
   "metadata": {},
   "outputs": [
    {
     "name": "stdout",
     "output_type": "stream",
     "text": [
      "[[    0     0     0 ...    29    43     1]\n",
      " [    0     0     0 ...    57   218  1485]\n",
      " [    0     0     0 ...  1555    10    45]\n",
      " ...\n",
      " [    0     0     0 ...  1002     5   438]\n",
      " [    0     0     0 ...  1914   751 14964]\n",
      " [    0     0     0 ...   195     2   630]]\n"
     ]
    }
   ],
   "source": [
    "max_words = 50000\n",
    "max_len = 100\n",
    "\n",
    "tokenizer = Tokenizer(num_words=max_words)\n",
    "tokenizer.fit_on_texts(data)\n",
    "sequences = tokenizer.texts_to_sequences(data)\n",
    "X = pad_sequences(sequences, maxlen=max_len)\n",
    "print(X)"
   ]
  },
  {
   "cell_type": "code",
   "execution_count": 50,
   "id": "8a13cfed",
   "metadata": {},
   "outputs": [],
   "source": [
    "scaler = MinMaxScaler()"
   ]
  },
  {
   "cell_type": "code",
   "execution_count": 51,
   "id": "6e31ec90",
   "metadata": {},
   "outputs": [],
   "source": [
    "# extract sentiment scores\n",
    "sentiment_scores = df['Lexicon_Score'].values\n",
    "\n",
    "# perform min-max scaling on sentiment scores\n",
    "scaler = MinMaxScaler()\n",
    "sentiment_scaled = scaler.fit_transform(sentiment_scores.reshape(-1, 1))\n",
    "\n",
    "df['Sentiment_Scaled'] = sentiment_scaled "
   ]
  },
  {
   "cell_type": "code",
   "execution_count": 52,
   "id": "9fc82aff",
   "metadata": {},
   "outputs": [
    {
     "data": {
      "text/plain": [
       "array([[0.60150376],\n",
       "       [0.51879699],\n",
       "       [0.7443609 ],\n",
       "       ...,\n",
       "       [0.45864662],\n",
       "       [0.47368421],\n",
       "       [0.54887218]])"
      ]
     },
     "execution_count": 52,
     "metadata": {},
     "output_type": "execute_result"
    }
   ],
   "source": [
    "sentiment_scaled"
   ]
  },
  {
   "cell_type": "code",
   "execution_count": 54,
   "id": "703bb542",
   "metadata": {},
   "outputs": [],
   "source": [
    "X = X[:, 1:]"
   ]
  },
  {
   "cell_type": "code",
   "execution_count": 55,
   "id": "b38e1f4e",
   "metadata": {},
   "outputs": [
    {
     "name": "stdout",
     "output_type": "stream",
     "text": [
      "(41218, 99)\n"
     ]
    }
   ],
   "source": [
    "print(X.shape)"
   ]
  },
  {
   "cell_type": "code",
   "execution_count": 56,
   "id": "626a6607",
   "metadata": {},
   "outputs": [],
   "source": [
    "#Combine sentiment scores with text data\n",
    "X = np.hstack((sentiment_scaled, X))\n",
    "y = labels"
   ]
  },
  {
   "cell_type": "code",
   "execution_count": 57,
   "id": "fe83cf67",
   "metadata": {},
   "outputs": [
    {
     "data": {
      "text/plain": [
       "array([6.01503759e-01, 0.00000000e+00, 0.00000000e+00, 0.00000000e+00,\n",
       "       0.00000000e+00, 0.00000000e+00, 0.00000000e+00, 0.00000000e+00,\n",
       "       0.00000000e+00, 0.00000000e+00, 0.00000000e+00, 0.00000000e+00,\n",
       "       0.00000000e+00, 0.00000000e+00, 0.00000000e+00, 0.00000000e+00,\n",
       "       0.00000000e+00, 0.00000000e+00, 0.00000000e+00, 0.00000000e+00,\n",
       "       0.00000000e+00, 0.00000000e+00, 0.00000000e+00, 0.00000000e+00,\n",
       "       0.00000000e+00, 0.00000000e+00, 0.00000000e+00, 0.00000000e+00,\n",
       "       0.00000000e+00, 0.00000000e+00, 0.00000000e+00, 0.00000000e+00,\n",
       "       0.00000000e+00, 0.00000000e+00, 0.00000000e+00, 0.00000000e+00,\n",
       "       0.00000000e+00, 0.00000000e+00, 0.00000000e+00, 0.00000000e+00,\n",
       "       0.00000000e+00, 0.00000000e+00, 0.00000000e+00, 0.00000000e+00,\n",
       "       0.00000000e+00, 0.00000000e+00, 0.00000000e+00, 0.00000000e+00,\n",
       "       0.00000000e+00, 0.00000000e+00, 0.00000000e+00, 0.00000000e+00,\n",
       "       0.00000000e+00, 0.00000000e+00, 0.00000000e+00, 0.00000000e+00,\n",
       "       0.00000000e+00, 0.00000000e+00, 0.00000000e+00, 0.00000000e+00,\n",
       "       0.00000000e+00, 0.00000000e+00, 0.00000000e+00, 0.00000000e+00,\n",
       "       0.00000000e+00, 0.00000000e+00, 0.00000000e+00, 0.00000000e+00,\n",
       "       0.00000000e+00, 0.00000000e+00, 0.00000000e+00, 0.00000000e+00,\n",
       "       0.00000000e+00, 0.00000000e+00, 0.00000000e+00, 0.00000000e+00,\n",
       "       0.00000000e+00, 0.00000000e+00, 2.68700000e+03, 4.00000000e+00,\n",
       "       6.96000000e+02, 8.90000000e+01, 1.50700000e+03, 4.87000000e+02,\n",
       "       3.40000000e+01, 5.47000000e+02, 3.54000000e+02, 1.55000000e+02,\n",
       "       6.00000000e+00, 1.00000000e+02, 2.00000000e+00, 1.08100000e+03,\n",
       "       9.40000000e+01, 1.46400000e+03, 1.11800000e+03, 2.74000000e+02,\n",
       "       9.00000000e+00, 2.90000000e+01, 4.30000000e+01, 1.00000000e+00])"
      ]
     },
     "execution_count": 57,
     "metadata": {},
     "output_type": "execute_result"
    }
   ],
   "source": [
    "X[0]"
   ]
  },
  {
   "cell_type": "code",
   "execution_count": 58,
   "id": "60713e36",
   "metadata": {},
   "outputs": [
    {
     "name": "stdout",
     "output_type": "stream",
     "text": [
      "(41218, 100)\n"
     ]
    }
   ],
   "source": [
    "print(X.shape)"
   ]
  },
  {
   "cell_type": "code",
   "execution_count": 62,
   "id": "750d14a0",
   "metadata": {},
   "outputs": [
    {
     "name": "stdout",
     "output_type": "stream",
     "text": [
      "(32974, 100) (32974, 3)\n",
      "(8244, 100) (8244, 3)\n"
     ]
    }
   ],
   "source": [
    "X_train, X_test, y_train, y_test = train_test_split(X, y, test_size = 0.2, random_state = 42)\n",
    "a, X_val, b, y_val = train_test_split(X_train, y_train, test_size=0.25, random_state=42)\n",
    "print(X_train.shape, y_train.shape)\n",
    "print(X_test.shape, y_test.shape)"
   ]
  },
  {
   "cell_type": "markdown",
   "id": "6d7fc77f",
   "metadata": {},
   "source": [
    "#### LSTM"
   ]
  },
  {
   "cell_type": "code",
   "execution_count": 63,
   "id": "05353da0",
   "metadata": {},
   "outputs": [],
   "source": [
    "embedding_layer = Embedding(1000, 64)"
   ]
  },
  {
   "cell_type": "code",
   "execution_count": 107,
   "id": "ea28742b",
   "metadata": {},
   "outputs": [],
   "source": [
    "model2 = Sequential()\n",
    "model2.add(layers.Embedding(max_words, 40, input_length=max_len))\n",
    "model2.add(layers.BatchNormalization())\n",
    "model2.add(layers.Bidirectional(layers.LSTM(20,dropout=0.25)))\n",
    "model2.add(layers.Dense(3,activation='softmax'))\n",
    "model2.compile(optimizer=Adam(learning_rate=0.001),loss='categorical_crossentropy', metrics=['accuracy'])"
   ]
  },
  {
   "cell_type": "markdown",
   "id": "ce69e175",
   "metadata": {},
   "source": [
    "#### Train Model"
   ]
  },
  {
   "cell_type": "code",
   "execution_count": 108,
   "id": "d93706f0",
   "metadata": {},
   "outputs": [
    {
     "name": "stdout",
     "output_type": "stream",
     "text": [
      "Epoch 1/20\n",
      "1031/1031 [==============================] - 80s 66ms/step - loss: 0.6401 - accuracy: 0.7320 - val_loss: 0.3742 - val_accuracy: 0.8621\n",
      "Epoch 2/20\n",
      "1031/1031 [==============================] - 61s 59ms/step - loss: 0.3832 - accuracy: 0.8510 - val_loss: 0.2075 - val_accuracy: 0.9310\n",
      "Epoch 3/20\n",
      "1031/1031 [==============================] - 59s 58ms/step - loss: 0.2435 - accuracy: 0.9083 - val_loss: 0.1234 - val_accuracy: 0.9590\n",
      "Epoch 4/20\n",
      "1031/1031 [==============================] - 57s 55ms/step - loss: 0.1677 - accuracy: 0.9380 - val_loss: 0.0871 - val_accuracy: 0.9698\n",
      "Epoch 5/20\n",
      "1031/1031 [==============================] - 59s 57ms/step - loss: 0.1206 - accuracy: 0.9560 - val_loss: 0.0570 - val_accuracy: 0.9810\n",
      "Epoch 6/20\n",
      "1031/1031 [==============================] - 69s 67ms/step - loss: 0.0978 - accuracy: 0.9635 - val_loss: 0.0445 - val_accuracy: 0.9867\n",
      "Epoch 7/20\n",
      "1031/1031 [==============================] - 77s 74ms/step - loss: 0.0819 - accuracy: 0.9702 - val_loss: 0.0386 - val_accuracy: 0.9874\n",
      "Epoch 8/20\n",
      "1031/1031 [==============================] - 77s 75ms/step - loss: 0.0695 - accuracy: 0.9753 - val_loss: 0.0335 - val_accuracy: 0.9890\n",
      "Epoch 9/20\n",
      "1031/1031 [==============================] - 76s 73ms/step - loss: 0.0616 - accuracy: 0.9777 - val_loss: 0.0245 - val_accuracy: 0.9920\n",
      "Epoch 10/20\n",
      "1031/1031 [==============================] - 77s 75ms/step - loss: 0.0567 - accuracy: 0.9803 - val_loss: 0.0258 - val_accuracy: 0.9914\n",
      "Epoch 11/20\n",
      "1031/1031 [==============================] - 75s 73ms/step - loss: 0.0499 - accuracy: 0.9820 - val_loss: 0.0191 - val_accuracy: 0.9950\n",
      "Epoch 12/20\n",
      "1031/1031 [==============================] - 76s 73ms/step - loss: 0.0446 - accuracy: 0.9838 - val_loss: 0.0180 - val_accuracy: 0.9949\n",
      "Epoch 13/20\n",
      "1031/1031 [==============================] - 77s 75ms/step - loss: 0.0431 - accuracy: 0.9848 - val_loss: 0.0122 - val_accuracy: 0.9970\n",
      "Epoch 14/20\n",
      "1031/1031 [==============================] - 76s 74ms/step - loss: 0.0392 - accuracy: 0.9859 - val_loss: 0.0121 - val_accuracy: 0.9972\n",
      "Epoch 15/20\n",
      "1031/1031 [==============================] - 76s 73ms/step - loss: 0.0360 - accuracy: 0.9874 - val_loss: 0.0116 - val_accuracy: 0.9968\n",
      "Epoch 16/20\n",
      "1031/1031 [==============================] - 74s 72ms/step - loss: 0.0331 - accuracy: 0.9888 - val_loss: 0.0098 - val_accuracy: 0.9970\n",
      "Epoch 17/20\n",
      "1031/1031 [==============================] - 78s 75ms/step - loss: 0.0316 - accuracy: 0.9894 - val_loss: 0.0099 - val_accuracy: 0.9968\n",
      "Epoch 18/20\n",
      "1031/1031 [==============================] - 76s 74ms/step - loss: 0.0319 - accuracy: 0.9886 - val_loss: 0.0095 - val_accuracy: 0.9975\n",
      "Epoch 19/20\n",
      "1031/1031 [==============================] - 78s 76ms/step - loss: 0.0283 - accuracy: 0.9894 - val_loss: 0.0077 - val_accuracy: 0.9978\n",
      "Epoch 20/20\n",
      "1031/1031 [==============================] - 81s 79ms/step - loss: 0.0303 - accuracy: 0.9889 - val_loss: 0.0088 - val_accuracy: 0.9975\n"
     ]
    }
   ],
   "source": [
    "history = model2.fit(X_train,y_train, epochs=20,validation_data=(X_val, y_val))"
   ]
  },
  {
   "cell_type": "code",
   "execution_count": 109,
   "id": "7043801e",
   "metadata": {},
   "outputs": [
    {
     "data": {
      "image/png": "[encoded data removed]",
      "text/plain": [
       "<Figure size 1000x400 with 2 Axes>"
      ]
     },
     "metadata": {},
     "output_type": "display_data"
    }
   ],
   "source": [
    "def plot_training_hist(history):\n",
    "    '''Function to plot history for accuracy and loss'''\n",
    "    \n",
    "    fig, ax = plt.subplots(1,2,figsize=(10,4))\n",
    "    #first plot\n",
    "    ax[0].plot(history.history['accuracy'])\n",
    "    ax[0].plot(history.history['val_accuracy'])\n",
    "    ax[0].set_title('Model Accuracy')\n",
    "    ax[0].set_xlabel('epoch')\n",
    "    ax[0].set_ylabel('accuracy')\n",
    "    ax[0].legend(['Train', 'Validation'], loc='best')\n",
    "    #second plot\n",
    "    ax[1].plot(history.history['loss'])\n",
    "    ax[1].plot(history.history['val_loss'])\n",
    "    ax[1].set_title('Model Loss')\n",
    "    ax[1].set_xlabel('epoch')\n",
    "    ax[1].set_ylabel('loss')\n",
    "    ax[1].legend(['Train', 'Validation'], loc='best')\n",
    "\n",
    "plot_training_hist(history)"
   ]
  },
  {
   "cell_type": "code",
   "execution_count": 124,
   "id": "39f795c0",
   "metadata": {},
   "outputs": [],
   "source": [
    "model = Sequential()\n",
    "model.add(layers.Embedding(max_words, 40, input_length=max_len))\n",
    "model.add(layers.BatchNormalization())\n",
    "model.add(layers.Bidirectional(layers.LSTM(20,dropout=0.75)))\n",
    "model.add(layers.Dense(3,activation='softmax'))\n",
    "model.compile(optimizer='adam',loss='categorical_crossentropy', metrics=['accuracy'])"
   ]
  },
  {
   "cell_type": "code",
   "execution_count": 126,
   "id": "3b5a5677",
   "metadata": {},
   "outputs": [
    {
     "name": "stdout",
     "output_type": "stream",
     "text": [
      "258/258 [==============================] - 3s 9ms/step\n",
      "Model Accuracy on Test Data: 0.9129063561377971\n"
     ]
    },
    {
     "data": {
      "image/png": "[encoded data removed]",
      "text/plain": [
       "<Figure size 800x600 with 2 Axes>"
      ]
     },
     "metadata": {},
     "output_type": "display_data"
    }
   ],
   "source": [
    "# Predict sentiment on data test by using model has been created, and then visualize a confusion matrix\n",
    "y_pred = np.argmax(model.predict(X_test), axis=1)\n",
    "y_true = np.argmax(y_test, axis=1)\n",
    "accuracy = accuracy_score(y_true, y_pred)\n",
    "print('Model Accuracy on Test Data:', accuracy)\n",
    "confusion_matrix(y_true=y_true, y_pred=y_pred)\n",
    "fig, ax = plt.subplots(figsize=(8,6))\n",
    "sns.heatmap(confusion_matrix(y_true=y_true, y_pred=y_pred), fmt='g', annot=True)\n",
    "ax.xaxis.set_label_position('top')\n",
    "ax.xaxis.set_ticks_position('top')\n",
    "ax.set_xlabel('Prediksi', fontsize=14)\n",
    "ax.set_xticklabels(['Negatif', 'Netral', 'Positif'])\n",
    "ax.set_ylabel('Actual', fontsize=14)\n",
    "ax.set_yticklabels(['Negatif', 'Netral', 'Positif'])\n",
    "plt.show()\n"
   ]
  },
  {
   "cell_type": "code",
   "execution_count": 127,
   "id": "91eaff6c",
   "metadata": {
    "scrolled": true
   },
   "outputs": [
    {
     "name": "stdout",
     "output_type": "stream",
     "text": [
      "258/258 [==============================] - 2s 9ms/step\n",
      "              precision    recall  f1-score   support\n",
      "\n",
      "           0       0.92      0.95      0.93      4376\n",
      "           1       0.91      0.92      0.92      2957\n",
      "           2       0.91      0.71      0.80       911\n",
      "\n",
      "    accuracy                           0.91      8244\n",
      "   macro avg       0.91      0.86      0.88      8244\n",
      "weighted avg       0.91      0.91      0.91      8244\n",
      "\n",
      "[[4146  190   40]\n",
      " [ 200 2730   27]\n",
      " [ 180   81  650]]\n"
     ]
    }
   ],
   "source": [
    "# predict classes for test set\n",
    "y_pred = np.argmax(model.predict(X_test), axis=-1)\n",
    "\n",
    "# convert one-hot encoded true labels to integer class labels\n",
    "y_test_int = np.argmax(y_test, axis=1)\n",
    "\n",
    "# calculate metrics\n",
    "print(classification_report(y_test_int, y_pred))\n",
    "\n",
    "# calculate confusion matrix\n",
    "conf_mat = confusion_matrix(y_test_int, y_pred)\n",
    "print(conf_mat)\n"
   ]
  },
  {
   "cell_type": "code",
   "execution_count": 114,
   "id": "26d1c056",
   "metadata": {},
   "outputs": [],
   "source": [
    "# Calculate the accuracy, precision, recall, and F1-score\n",
    "accuracy = accuracy_score(y_test_int, y_pred)\n",
    "precision = precision_score(y_test_int, y_pred, average='macro')\n",
    "recall = recall_score(y_test_int, y_pred, average='macro')\n",
    "f1 = f1_score(y_test_int, y_pred, average='macro')"
   ]
  },
  {
   "cell_type": "code",
   "execution_count": 128,
   "id": "844a8456",
   "metadata": {},
   "outputs": [
    {
     "name": "stdout",
     "output_type": "stream",
     "text": [
      "Accuracy: 91.29%\n",
      "Precision: 92.73%\n",
      "Recall: 91.27%\n",
      "F1-score: 91.97%\n"
     ]
    }
   ],
   "source": [
    "# Print the results\n",
    "print('Accuracy: {:.2f}%'.format(accuracy * 100))\n",
    "print('Precision: {:.2f}%'.format(precision * 100))\n",
    "print('Recall: {:.2f}%'.format(recall * 100))\n",
    "print('F1-score: {:.2f}%'.format(f1 * 100))"
   ]
  },
  {
   "cell_type": "code",
   "execution_count": 26,
   "id": "088abbdf",
   "metadata": {},
   "outputs": [
    {
     "ename": "SyntaxError",
     "evalue": "invalid syntax (4172370943.py, line 1)",
     "output_type": "error",
     "traceback": [
      "\u001b[1;36m  Cell \u001b[1;32mIn[26], line 1\u001b[1;36m\u001b[0m\n\u001b[1;33m    Accuracy: 91.04%\u001b[0m\n\u001b[1;37m                    ^\u001b[0m\n\u001b[1;31mSyntaxError\u001b[0m\u001b[1;31m:\u001b[0m invalid syntax\n"
     ]
    }
   ],
   "source": [
    "Accuracy: 91.29%\n",
    "Precision: 92.73%\n",
    "Recall: 91.27%\n",
    "F1-score: 91.97%"
   ]
  },
  {
   "cell_type": "code",
   "execution_count": 125,
   "id": "276b53b0",
   "metadata": {},
   "outputs": [
    {
     "name": "stdout",
     "output_type": "stream",
     "text": [
      "Epoch 1/15\n",
      "1031/1031 [==============================] - 62s 56ms/step - loss: 0.8051 - accuracy: 0.6451 - val_loss: 0.6575 - val_accuracy: 0.7420\n",
      "Epoch 2/15\n",
      "1031/1031 [==============================] - 56s 54ms/step - loss: 0.6389 - accuracy: 0.7366 - val_loss: 0.6307 - val_accuracy: 0.7684\n",
      "Epoch 3/15\n",
      "1031/1031 [==============================] - 56s 54ms/step - loss: 0.5607 - accuracy: 0.7692 - val_loss: 0.5827 - val_accuracy: 0.7829\n",
      "Epoch 4/15\n",
      "1031/1031 [==============================] - 56s 54ms/step - loss: 0.5078 - accuracy: 0.7943 - val_loss: 0.5678 - val_accuracy: 0.7886\n",
      "Epoch 5/15\n",
      "1031/1031 [==============================] - 56s 55ms/step - loss: 0.4637 - accuracy: 0.8165 - val_loss: 0.6024 - val_accuracy: 0.7895\n",
      "Epoch 6/15\n",
      "1031/1031 [==============================] - 60s 58ms/step - loss: 0.4278 - accuracy: 0.8321 - val_loss: 0.5948 - val_accuracy: 0.7894\n",
      "Epoch 7/15\n",
      "1031/1031 [==============================] - 61s 59ms/step - loss: 0.3941 - accuracy: 0.8472 - val_loss: 0.5940 - val_accuracy: 0.7932\n",
      "Epoch 8/15\n",
      "1031/1031 [==============================] - 60s 58ms/step - loss: 0.3688 - accuracy: 0.8558 - val_loss: 0.6186 - val_accuracy: 0.7926\n",
      "Epoch 9/15\n",
      "1031/1031 [==============================] - 57s 55ms/step - loss: 0.3424 - accuracy: 0.8669 - val_loss: 0.6190 - val_accuracy: 0.7905\n",
      "Epoch 10/15\n",
      "1031/1031 [==============================] - 57s 55ms/step - loss: 0.3270 - accuracy: 0.8736 - val_loss: 0.6453 - val_accuracy: 0.7863\n",
      "Epoch 11/15\n",
      "1031/1031 [==============================] - 57s 55ms/step - loss: 0.3087 - accuracy: 0.8802 - val_loss: 0.6583 - val_accuracy: 0.7866\n",
      "Epoch 12/15\n",
      "1031/1031 [==============================] - 57s 55ms/step - loss: 0.2973 - accuracy: 0.8877 - val_loss: 0.6460 - val_accuracy: 0.7881\n",
      "Epoch 13/15\n",
      "1031/1031 [==============================] - 57s 55ms/step - loss: 0.2798 - accuracy: 0.8914 - val_loss: 0.6931 - val_accuracy: 0.7864\n",
      "Epoch 14/15\n",
      "1031/1031 [==============================] - 57s 55ms/step - loss: 0.2696 - accuracy: 0.8964 - val_loss: 0.6874 - val_accuracy: 0.7902\n",
      "Epoch 15/15\n",
      "1031/1031 [==============================] - 57s 55ms/step - loss: 0.2591 - accuracy: 0.9021 - val_loss: 0.6860 - val_accuracy: 0.7893\n"
     ]
    }
   ],
   "source": [
    "history2 = model.fit(X,y, epochs=15,validation_split=0.2)"
   ]
  },
  {
   "cell_type": "markdown",
   "id": "37e58b00",
   "metadata": {},
   "source": [
    "#### Prediksi dan Hasil"
   ]
  },
  {
   "cell_type": "code",
   "execution_count": null,
   "id": "5ff8fccc",
   "metadata": {},
   "outputs": [],
   "source": [
    "sentiment = ['Neutral', 'Negative', 'Positive']"
   ]
  },
  {
   "cell_type": "code",
   "execution_count": null,
   "id": "9c42069c",
   "metadata": {},
   "outputs": [],
   "source": [
    "sequence = tokenizer.texts_to_sequences(['metaverse teknologi yang sangat buruk'])\n",
    "test = pad_sequences(sequence, maxlen=max_len)\n",
    "sentiment[np.around(model2.predict(test), decimals=0).argmax(axis=1)[0]]"
   ]
  },
  {
   "cell_type": "code",
   "execution_count": null,
   "id": "eb2db602",
   "metadata": {},
   "outputs": [],
   "source": [
    "sequence = tokenizer.texts_to_sequences(['wow metaverse teknologi yang sangat menjanjikan'])\n",
    "test = pad_sequences(sequence, maxlen=max_len)\n",
    "sentiment[np.around(model2.predict(test), decimals=0).argmax(axis=1)[0]]"
   ]
  },
  {
   "cell_type": "code",
   "execution_count": null,
   "id": "16349f2c",
   "metadata": {},
   "outputs": [],
   "source": [
    "sequence = tokenizer.texts_to_sequences(['kita lihat saja bagaimana perkembangan teknologi tersebut'])\n",
    "test = pad_sequences(sequence, maxlen=max_len)\n",
    "sentiment[np.around(model2.predict(test), decimals=0).argmax(axis=1)[0]]"
   ]
  }
 ],
 "metadata": {
  "kernelspec": {
   "display_name": "Python 3 (ipykernel)",
   "language": "python",
   "name": "python3"
  },
  "language_info": {
   "codemirror_mode": {
    "name": "ipython",
    "version": 3
   },
   "file_extension": ".py",
   "mimetype": "text/x-python",
   "name": "python",
   "nbconvert_exporter": "python",
   "pygments_lexer": "ipython3",
   "version": "3.9.16"
  }
 },
 "nbformat": 4,
 "nbformat_minor": 5
}
