{
 "cells": [
  {
   "cell_type": "code",
   "execution_count": 1,
   "id": "b06a1432",
   "metadata": {},
   "outputs": [],
   "source": [
    "import numpy as np\n",
    "import pandas as pd\n",
    "import re\n",
    "from sklearn.model_selection import train_test_split\n",
    "import matplotlib.pyplot as plt\n",
    "from sklearn.metrics import accuracy_score, precision_score, recall_score, f1_score\n",
    "\n",
    "from keras.models import Sequential\n",
    "from keras import layers\n",
    "from keras.layers import Embedding\n",
    "\n",
    "import seaborn as sns\n",
    "sns.set(style = 'whitegrid')\n",
    "\n",
    "from mlxtend.plotting import plot_confusion_matrix\n",
    "from sklearn.metrics import confusion_matrix\n",
    "from sklearn.preprocessing import MinMaxScaler\n",
    "\n",
    "from keras.preprocessing.text import Tokenizer\n",
    "from tensorflow.keras.preprocessing.sequence import pad_sequences\n",
    "from keras import regularizers\n",
    "from sklearn.metrics import classification_report, confusion_matrix"
   ]
  },
  {
   "cell_type": "code",
   "execution_count": 2,
   "id": "fd894dec",
   "metadata": {},
   "outputs": [],
   "source": [
    "df = pd.read_csv('../Clean_Dataset.csv', encoding='UTF-8')"
   ]
  },
  {
   "cell_type": "code",
   "execution_count": 3,
   "id": "1ddc8df6",
   "metadata": {},
   "outputs": [],
   "source": [
    "train = df[['Clean_Text','Stop_Words_Text', 'Stemmed_Text', 'indonlp_sentiment', 'Lexicon_Score']]"
   ]
  },
  {
   "cell_type": "code",
   "execution_count": 4,
   "id": "1c2ff1da",
   "metadata": {},
   "outputs": [
    {
     "data": {
      "text/plain": [
       "41222"
      ]
     },
     "execution_count": 4,
     "metadata": {},
     "output_type": "execute_result"
    }
   ],
   "source": [
    "len(df['Clean_Text'])"
   ]
  },
  {
   "cell_type": "markdown",
   "id": "bf8d5601",
   "metadata": {},
   "source": [
    "#### Data Preprocessing"
   ]
  },
  {
   "cell_type": "code",
   "execution_count": 5,
   "id": "058c3a0a",
   "metadata": {},
   "outputs": [],
   "source": [
    "data = df['Clean_Text'].values.tolist()"
   ]
  },
  {
   "cell_type": "code",
   "execution_count": 6,
   "id": "736755c2",
   "metadata": {},
   "outputs": [
    {
     "name": "stdout",
     "output_type": "stream",
     "text": [
      "['cina dan as terus bersaing mengembangkan teknologi terbaru termasuk kali ini perusahaan di kedua negara berlomba lomba membangun dunia virtual atau metaverse', 'katanya mau metaverse tapi down melulu bagaimana mas zuck', 'mungkin facebook sudah berencana menjadi metaverse besar secara sudah menyiapkan diem sebagai stable currency mereka kalau memang pasti nanti pindah ke blokchain semua facebook masih menang banyak karena hanya memerlukan pembaruan teknologi penggunanya sudah banyak', 'bersaing dengan perusahaan kelas dunia untuk mencapai hal ini sektor publik dan swasta harus bersatu untuk membentuk ekosistem metaverse yang melibatkan teknologi ar vr dan xr dalam forum tersebut juga dibahas bagaimana mensukseskan platform ini dengan pasar konsumen', 'sama sama semoga selalu terhindar dari usaha tipu menipu di metaverse iya']\n"
     ]
    }
   ],
   "source": [
    "print(data[:5])"
   ]
  },
  {
   "cell_type": "markdown",
   "id": "08d02a35",
   "metadata": {},
   "source": [
    "### Building a Model"
   ]
  },
  {
   "cell_type": "markdown",
   "id": "c9a2b422",
   "metadata": {},
   "source": [
    "#### Label Encoding of Output"
   ]
  },
  {
   "cell_type": "code",
   "execution_count": 7,
   "id": "5d3adbd1",
   "metadata": {},
   "outputs": [],
   "source": [
    "import tensorflow as tf\n",
    "labels = np.array(train['indonlp_sentiment'])\n",
    "y = []\n",
    "for i in range(len(labels)):\n",
    "    if labels[i] == 'neutral':\n",
    "        y.append(0)\n",
    "    if labels[i] == 'negative':\n",
    "        y.append(1)\n",
    "    if labels[i] == 'positive':\n",
    "        y.append(2)\n",
    "y = np.array(y)\n",
    "labels = tf.keras.utils.to_categorical(y, 3, dtype=\"float32\")\n",
    "del y"
   ]
  },
  {
   "cell_type": "markdown",
   "id": "437e2d12",
   "metadata": {},
   "source": [
    "#### Tokenizing dan Padding Padding"
   ]
  },
  {
   "cell_type": "code",
   "execution_count": 8,
   "id": "7bde87a6",
   "metadata": {},
   "outputs": [
    {
     "name": "stdout",
     "output_type": "stream",
     "text": [
      "[[    0     0     0 ...    29    43     1]\n",
      " [    0     0     0 ...    57   218  1485]\n",
      " [    0     0     0 ...  1555    10    45]\n",
      " ...\n",
      " [    0     0     0 ...  1002     5   438]\n",
      " [    0     0     0 ...  1914   751 14967]\n",
      " [    0     0     0 ...   195     2   630]]\n"
     ]
    }
   ],
   "source": [
    "max_words = 50000\n",
    "max_len = 100\n",
    "\n",
    "tokenizer = Tokenizer(num_words=max_words)\n",
    "tokenizer.fit_on_texts(data)\n",
    "sequences = tokenizer.texts_to_sequences(data)\n",
    "X = pad_sequences(sequences, maxlen=max_len)\n",
    "print(X)"
   ]
  },
  {
   "cell_type": "code",
   "execution_count": 9,
   "id": "8a13cfed",
   "metadata": {},
   "outputs": [],
   "source": [
    "scaler = MinMaxScaler()"
   ]
  },
  {
   "cell_type": "code",
   "execution_count": 10,
   "id": "6e31ec90",
   "metadata": {},
   "outputs": [],
   "source": [
    "# extract sentiment scores\n",
    "sentiment_scores = df['Lexicon_Score'].values\n",
    "\n",
    "# perform min-max scaling on sentiment scores\n",
    "scaler = MinMaxScaler()\n",
    "sentiment_scaled = scaler.fit_transform(sentiment_scores.reshape(-1, 1))\n",
    "\n",
    "df['Sentiment_Scaled'] = sentiment_scaled "
   ]
  },
  {
   "cell_type": "code",
   "execution_count": 11,
   "id": "d2e4cb64",
   "metadata": {},
   "outputs": [
    {
     "data": {
      "text/plain": [
       "0        0.601504\n",
       "1        0.518797\n",
       "2        0.744361\n",
       "3        0.593985\n",
       "4        0.518797\n",
       "           ...   \n",
       "41217    0.533835\n",
       "41218    0.541353\n",
       "41219    0.458647\n",
       "41220    0.473684\n",
       "41221    0.548872\n",
       "Name: Sentiment_Scaled, Length: 41222, dtype: float64"
      ]
     },
     "execution_count": 11,
     "metadata": {},
     "output_type": "execute_result"
    }
   ],
   "source": [
    "df['Sentiment_Scaled']"
   ]
  },
  {
   "cell_type": "code",
   "execution_count": 12,
   "id": "626a6607",
   "metadata": {},
   "outputs": [],
   "source": [
    "#Combine sentiment scores with text data\n",
    "X = np.hstack((sentiment_scaled, X))\n",
    "y = labels"
   ]
  },
  {
   "cell_type": "code",
   "execution_count": 13,
   "id": "1dbd202a",
   "metadata": {},
   "outputs": [
    {
     "name": "stdout",
     "output_type": "stream",
     "text": [
      "(41222, 101)\n"
     ]
    }
   ],
   "source": [
    "print(X.shape)"
   ]
  },
  {
   "cell_type": "code",
   "execution_count": 14,
   "id": "25a86919",
   "metadata": {},
   "outputs": [],
   "source": [
    "X = X[:, :-1]"
   ]
  },
  {
   "cell_type": "code",
   "execution_count": 15,
   "id": "750d14a0",
   "metadata": {},
   "outputs": [
    {
     "name": "stdout",
     "output_type": "stream",
     "text": [
      "(32977, 100) (32977, 3)\n",
      "(8245, 100) (8245, 3)\n"
     ]
    }
   ],
   "source": [
    "X_train, X_test, y_train, y_test = train_test_split(X, y, test_size = 0.2, random_state = 42)\n",
    "print(X_train.shape, y_train.shape)\n",
    "print(X_test.shape, y_test.shape)"
   ]
  },
  {
   "cell_type": "markdown",
   "id": "6d7fc77f",
   "metadata": {},
   "source": [
    "#### LSTM"
   ]
  },
  {
   "cell_type": "code",
   "execution_count": 16,
   "id": "05353da0",
   "metadata": {},
   "outputs": [],
   "source": [
    "embedding_layer = Embedding(1000, 64)"
   ]
  },
  {
   "cell_type": "code",
   "execution_count": 37,
   "id": "ea28742b",
   "metadata": {},
   "outputs": [],
   "source": [
    "model2 = Sequential()\n",
    "model2.add(layers.Embedding(max_words, 40, input_length=max_len))\n",
    "model2.add(layers.Bidirectional(layers.LSTM(20,dropout=0.8)))\n",
    "model2.add(layers.Dense(3,activation='softmax'))\n",
    "model2.compile(optimizer='adam',loss='categorical_crossentropy', metrics=['accuracy'])"
   ]
  },
  {
   "cell_type": "markdown",
   "id": "ce69e175",
   "metadata": {},
   "source": [
    "#### Train Model"
   ]
  },
  {
   "cell_type": "code",
   "execution_count": 38,
   "id": "0c0b0350",
   "metadata": {},
   "outputs": [
    {
     "name": "stdout",
     "output_type": "stream",
     "text": [
      "Epoch 1/10\n",
      "1031/1031 [==============================] - 70s 61ms/step - loss: 0.7369 - accuracy: 0.6773 - val_loss: 0.5894 - val_accuracy: 0.7653\n",
      "Epoch 2/10\n",
      "1031/1031 [==============================] - 61s 59ms/step - loss: 0.5741 - accuracy: 0.7627 - val_loss: 0.5335 - val_accuracy: 0.7936\n",
      "Epoch 3/10\n",
      "1031/1031 [==============================] - 63s 62ms/step - loss: 0.5083 - accuracy: 0.7928 - val_loss: 0.5419 - val_accuracy: 0.7962\n",
      "Epoch 4/10\n",
      "1031/1031 [==============================] - 60s 58ms/step - loss: 0.4619 - accuracy: 0.8126 - val_loss: 0.5348 - val_accuracy: 0.7956\n",
      "Epoch 5/10\n",
      "1031/1031 [==============================] - 59s 58ms/step - loss: 0.4293 - accuracy: 0.8258 - val_loss: 0.5369 - val_accuracy: 0.7996\n",
      "Epoch 6/10\n",
      "1031/1031 [==============================] - 60s 58ms/step - loss: 0.3978 - accuracy: 0.8402 - val_loss: 0.5593 - val_accuracy: 0.7973\n",
      "Epoch 7/10\n",
      "1031/1031 [==============================] - 60s 58ms/step - loss: 0.3784 - accuracy: 0.8487 - val_loss: 0.5985 - val_accuracy: 0.7964\n",
      "Epoch 8/10\n",
      "1031/1031 [==============================] - 59s 57ms/step - loss: 0.3561 - accuracy: 0.8610 - val_loss: 0.5726 - val_accuracy: 0.7943\n",
      "Epoch 9/10\n",
      "1031/1031 [==============================] - 59s 57ms/step - loss: 0.3434 - accuracy: 0.8649 - val_loss: 0.6022 - val_accuracy: 0.7908\n",
      "Epoch 10/10\n",
      "1031/1031 [==============================] - 59s 57ms/step - loss: 0.3305 - accuracy: 0.8690 - val_loss: 0.6182 - val_accuracy: 0.7911\n"
     ]
    }
   ],
   "source": [
    "history = model2.fit(X,y, epochs=10,validation_split=0.2)"
   ]
  },
  {
   "cell_type": "code",
   "execution_count": 39,
   "id": "3b5a5677",
   "metadata": {},
   "outputs": [
    {
     "name": "stdout",
     "output_type": "stream",
     "text": [
      "258/258 [==============================] - 4s 9ms/step\n",
      "Model Accuracy on Test Data: 0.8906003638568829\n"
     ]
    },
    {
     "data": {
      "image/png": "[encoded data removed]",
      "text/plain": [
       "<Figure size 800x600 with 2 Axes>"
      ]
     },
     "metadata": {},
     "output_type": "display_data"
    }
   ],
   "source": [
    "# Predict sentiment on data test by using model has been created, and then visualize a confusion matrix\n",
    "y_pred = np.argmax(model2.predict(X_test), axis=1)\n",
    "y_true = np.argmax(y_test, axis=1)\n",
    "accuracy = accuracy_score(y_true, y_pred)\n",
    "print('Model Accuracy on Test Data:', accuracy)\n",
    "confusion_matrix(y_true=y_true, y_pred=y_pred)\n",
    "fig, ax = plt.subplots(figsize=(8,6))\n",
    "sns.heatmap(confusion_matrix(y_true=y_true, y_pred=y_pred), fmt='g', annot=True)\n",
    "ax.xaxis.set_label_position('top')\n",
    "ax.xaxis.set_ticks_position('top')\n",
    "ax.set_xlabel('Prediction', fontsize=14)\n",
    "ax.set_xticklabels(['negative (0)', 'neutral (1)', 'positive (2)'])\n",
    "ax.set_ylabel('Actual', fontsize=14)\n",
    "ax.set_yticklabels(['negative (0)', 'neutral (1)', 'positive (2)'])\n",
    "plt.show()\n"
   ]
  },
  {
   "cell_type": "code",
   "execution_count": 40,
   "id": "91eaff6c",
   "metadata": {},
   "outputs": [
    {
     "name": "stdout",
     "output_type": "stream",
     "text": [
      "258/258 [==============================] - 2s 9ms/step\n",
      "              precision    recall  f1-score   support\n",
      "\n",
      "           0       0.89      0.94      0.92      4316\n",
      "           1       0.89      0.89      0.89      3057\n",
      "           2       0.91      0.64      0.75       872\n",
      "\n",
      "    accuracy                           0.89      8245\n",
      "   macro avg       0.90      0.82      0.85      8245\n",
      "weighted avg       0.89      0.89      0.89      8245\n",
      "\n",
      "[[4074  214   28]\n",
      " [ 317 2711   29]\n",
      " [ 197  117  558]]\n"
     ]
    }
   ],
   "source": [
    "# predict classes for test set\n",
    "y_pred = np.argmax(model2.predict(X_test), axis=-1)\n",
    "\n",
    "# convert one-hot encoded true labels to integer class labels\n",
    "y_test_int = np.argmax(y_test, axis=1)\n",
    "\n",
    "# calculate metrics\n",
    "print(classification_report(y_test_int, y_pred))\n",
    "\n",
    "# calculate confusion matrix\n",
    "conf_mat = confusion_matrix(y_test_int, y_pred)\n",
    "print(conf_mat)\n"
   ]
  },
  {
   "cell_type": "code",
   "execution_count": 41,
   "id": "26d1c056",
   "metadata": {},
   "outputs": [],
   "source": [
    "# Calculate the accuracy, precision, recall, and F1-score\n",
    "accuracy = accuracy_score(y_test_int, y_pred)\n",
    "precision = precision_score(y_test_int, y_pred, average='macro')\n",
    "recall = recall_score(y_test_int, y_pred, average='macro')\n",
    "f1 = f1_score(y_test_int, y_pred, average='macro')"
   ]
  },
  {
   "cell_type": "code",
   "execution_count": 42,
   "id": "844a8456",
   "metadata": {},
   "outputs": [
    {
     "name": "stdout",
     "output_type": "stream",
     "text": [
      "Accuracy: 89.06%\n",
      "Precision: 89.55%\n",
      "Recall: 82.36%\n",
      "F1-score: 85.15%\n"
     ]
    }
   ],
   "source": [
    "# Print the results\n",
    "print('Accuracy: {:.2f}%'.format(accuracy * 100))\n",
    "print('Precision: {:.2f}%'.format(precision * 100))\n",
    "print('Recall: {:.2f}%'.format(recall * 100))\n",
    "print('F1-score: {:.2f}%'.format(f1 * 100))"
   ]
  },
  {
   "cell_type": "markdown",
   "id": "37e58b00",
   "metadata": {},
   "source": [
    "#### Prediksi dan Hasil"
   ]
  },
  {
   "cell_type": "code",
   "execution_count": 21,
   "id": "5ff8fccc",
   "metadata": {},
   "outputs": [],
   "source": [
    "sentiment = ['Neutral', 'Negative', 'Positive']"
   ]
  },
  {
   "cell_type": "code",
   "execution_count": 22,
   "id": "9c42069c",
   "metadata": {},
   "outputs": [
    {
     "name": "stdout",
     "output_type": "stream",
     "text": [
      "1/1 [==============================] - 1s 1s/step\n"
     ]
    },
    {
     "data": {
      "text/plain": [
       "'Negative'"
      ]
     },
     "execution_count": 22,
     "metadata": {},
     "output_type": "execute_result"
    }
   ],
   "source": [
    "sequence = tokenizer.texts_to_sequences(['metaverse teknologi yang sangat buruk'])\n",
    "test = pad_sequences(sequence, maxlen=max_len)\n",
    "sentiment[np.around(model2.predict(test), decimals=0).argmax(axis=1)[0]]"
   ]
  },
  {
   "cell_type": "code",
   "execution_count": 23,
   "id": "eb2db602",
   "metadata": {},
   "outputs": [
    {
     "name": "stdout",
     "output_type": "stream",
     "text": [
      "1/1 [==============================] - 0s 30ms/step\n"
     ]
    },
    {
     "data": {
      "text/plain": [
       "'Positive'"
      ]
     },
     "execution_count": 23,
     "metadata": {},
     "output_type": "execute_result"
    }
   ],
   "source": [
    "sequence = tokenizer.texts_to_sequences(['wow metaverse teknologi yang sangat menjanjikan'])\n",
    "test = pad_sequences(sequence, maxlen=max_len)\n",
    "sentiment[np.around(model2.predict(test), decimals=0).argmax(axis=1)[0]]"
   ]
  },
  {
   "cell_type": "code",
   "execution_count": 24,
   "id": "16349f2c",
   "metadata": {},
   "outputs": [
    {
     "name": "stdout",
     "output_type": "stream",
     "text": [
      "1/1 [==============================] - 0s 31ms/step\n"
     ]
    },
    {
     "data": {
      "text/plain": [
       "'Neutral'"
      ]
     },
     "execution_count": 24,
     "metadata": {},
     "output_type": "execute_result"
    }
   ],
   "source": [
    "sequence = tokenizer.texts_to_sequences(['kita lihat saja bagaimana perkembangan teknologi tersebut'])\n",
    "test = pad_sequences(sequence, maxlen=max_len)\n",
    "sentiment[np.around(model2.predict(test), decimals=0).argmax(axis=1)[0]]"
   ]
  },
  {
   "cell_type": "markdown",
   "id": "31324d73",
   "metadata": {},
   "source": [
    "#### Model dengan beberapa penyesuaian (Fine-Tuning)"
   ]
  },
  {
   "cell_type": "code",
   "execution_count": 25,
   "id": "4520da7f",
   "metadata": {},
   "outputs": [],
   "source": [
    "model = Sequential()\n",
    "model.add(layers.Embedding(max_words, 40, input_length=max_len))\n",
    "model.add(layers.BatchNormalization())\n",
    "model.add(layers.Bidirectional(layers.LSTM(15,dropout=0.5)))\n",
    "model.add(layers.Dense(3,activation='softmax'))\n",
    "model.compile(optimizer='rmsprop',loss='categorical_crossentropy', metrics=['accuracy'])"
   ]
  },
  {
   "cell_type": "code",
   "execution_count": 32,
   "id": "2aad782f",
   "metadata": {},
   "outputs": [
    {
     "name": "stdout",
     "output_type": "stream",
     "text": [
      "Epoch 1/20\n",
      "1031/1031 [==============================] - 52s 50ms/step - loss: 0.4365 - accuracy: 0.8308 - val_loss: 0.3942 - val_accuracy: 0.8628\n",
      "Epoch 2/20\n",
      "1031/1031 [==============================] - 52s 50ms/step - loss: 0.4260 - accuracy: 0.8354 - val_loss: 0.4023 - val_accuracy: 0.8602\n",
      "Epoch 3/20\n",
      "1031/1031 [==============================] - 50s 49ms/step - loss: 0.3992 - accuracy: 0.8460 - val_loss: 0.4238 - val_accuracy: 0.8541\n",
      "Epoch 4/20\n",
      "1031/1031 [==============================] - 52s 51ms/step - loss: 0.3797 - accuracy: 0.8556 - val_loss: 0.4505 - val_accuracy: 0.8449\n",
      "Epoch 5/20\n",
      "1031/1031 [==============================] - 67s 65ms/step - loss: 0.3715 - accuracy: 0.8570 - val_loss: 0.4716 - val_accuracy: 0.8418\n",
      "Epoch 6/20\n",
      "1031/1031 [==============================] - 67s 65ms/step - loss: 0.3645 - accuracy: 0.8603 - val_loss: 0.4368 - val_accuracy: 0.8466\n",
      "Epoch 7/20\n",
      "1031/1031 [==============================] - 70s 68ms/step - loss: 0.3542 - accuracy: 0.8653 - val_loss: 0.4413 - val_accuracy: 0.8429\n",
      "Epoch 8/20\n",
      "1031/1031 [==============================] - 73s 71ms/step - loss: 0.3426 - accuracy: 0.8698 - val_loss: 0.4772 - val_accuracy: 0.8412\n",
      "Epoch 9/20\n",
      "1031/1031 [==============================] - 80s 77ms/step - loss: 0.3385 - accuracy: 0.8725 - val_loss: 0.5217 - val_accuracy: 0.8320\n",
      "Epoch 10/20\n",
      "1031/1031 [==============================] - 81s 78ms/step - loss: 0.3265 - accuracy: 0.8770 - val_loss: 0.4977 - val_accuracy: 0.8361\n",
      "Epoch 11/20\n",
      "1031/1031 [==============================] - 73s 71ms/step - loss: 0.3234 - accuracy: 0.8787 - val_loss: 0.5289 - val_accuracy: 0.8310\n",
      "Epoch 12/20\n",
      "1031/1031 [==============================] - 73s 71ms/step - loss: 0.3205 - accuracy: 0.8804 - val_loss: 0.5081 - val_accuracy: 0.8320\n",
      "Epoch 13/20\n",
      "1031/1031 [==============================] - 75s 73ms/step - loss: 0.3205 - accuracy: 0.8796 - val_loss: 0.5190 - val_accuracy: 0.8279\n",
      "Epoch 14/20\n",
      "1031/1031 [==============================] - 79s 77ms/step - loss: 0.3072 - accuracy: 0.8850 - val_loss: 0.5446 - val_accuracy: 0.8258\n",
      "Epoch 15/20\n",
      "1031/1031 [==============================] - 70s 67ms/step - loss: 0.3043 - accuracy: 0.8859 - val_loss: 0.5479 - val_accuracy: 0.8253\n",
      "Epoch 16/20\n",
      "1031/1031 [==============================] - 75s 73ms/step - loss: 0.3004 - accuracy: 0.8860 - val_loss: 0.5437 - val_accuracy: 0.8244\n",
      "Epoch 17/20\n",
      "1031/1031 [==============================] - 75s 73ms/step - loss: 0.2996 - accuracy: 0.8876 - val_loss: 0.5558 - val_accuracy: 0.8226\n",
      "Epoch 18/20\n",
      "1031/1031 [==============================] - 75s 73ms/step - loss: 0.2980 - accuracy: 0.8900 - val_loss: 0.5813 - val_accuracy: 0.8193\n",
      "Epoch 19/20\n",
      "1031/1031 [==============================] - 78s 76ms/step - loss: 0.2940 - accuracy: 0.8913 - val_loss: 0.5457 - val_accuracy: 0.8218\n",
      "Epoch 20/20\n",
      "1031/1031 [==============================] - 71s 69ms/step - loss: 0.2843 - accuracy: 0.8943 - val_loss: 0.5594 - val_accuracy: 0.8210\n"
     ]
    }
   ],
   "source": [
    "history2 = model.fit(X,y, epochs=20,validation_split=0.2)"
   ]
  },
  {
   "cell_type": "code",
   "execution_count": 27,
   "id": "842352ef",
   "metadata": {},
   "outputs": [
    {
     "name": "stdout",
     "output_type": "stream",
     "text": [
      "258/258 [==============================] - 2s 9ms/step\n",
      "Model Accuracy on Test Data: 0.9191024863553668\n"
     ]
    },
    {
     "data": {
      "image/png": "[encoded data removed]",
      "text/plain": [
       "<Figure size 800x600 with 2 Axes>"
      ]
     },
     "metadata": {},
     "output_type": "display_data"
    }
   ],
   "source": [
    "# Predict sentiment on data test by using model has been created, and then visualize a confusion matrix\n",
    "y_pred = np.argmax(model2.predict(X_test), axis=1)\n",
    "y_true = np.argmax(y_test, axis=1)\n",
    "accuracy = accuracy_score(y_true, y_pred)\n",
    "print('Model Accuracy on Test Data:', accuracy)\n",
    "confusion_matrix(y_true=y_true, y_pred=y_pred)\n",
    "fig, ax = plt.subplots(figsize=(8,6))\n",
    "sns.heatmap(confusion_matrix(y_true=y_true, y_pred=y_pred), fmt='g', annot=True)\n",
    "ax.xaxis.set_label_position('top')\n",
    "ax.xaxis.set_ticks_position('top')\n",
    "ax.set_xlabel('Prediksi', fontsize=14)\n",
    "ax.set_xticklabels(['Negatif', 'Netral', 'Positif'])\n",
    "ax.set_ylabel('Aktual', fontsize=14)\n",
    "ax.set_yticklabels(['Negative', 'Netral', 'Positif'])\n",
    "plt.show()\n"
   ]
  },
  {
   "cell_type": "code",
   "execution_count": 36,
   "id": "aff2b878",
   "metadata": {},
   "outputs": [
    {
     "name": "stdout",
     "output_type": "stream",
     "text": [
      "258/258 [==============================] - 3s 13ms/step\n",
      "              precision    recall  f1-score   support\n",
      "\n",
      "           0       0.88      0.93      0.90      4316\n",
      "           1       0.88      0.87      0.87      3057\n",
      "           2       0.87      0.61      0.72       872\n",
      "\n",
      "    accuracy                           0.88      8245\n",
      "   macro avg       0.87      0.81      0.83      8245\n",
      "weighted avg       0.88      0.88      0.87      8245\n",
      "\n",
      "[[4024  250   42]\n",
      " [ 355 2664   38]\n",
      " [ 218  121  533]]\n"
     ]
    }
   ],
   "source": [
    "from sklearn.metrics import classification_report, confusion_matrix\n",
    "import numpy as np\n",
    "\n",
    "# predict classes for test set\n",
    "y_pred = np.argmax(model.predict(X_test), axis=-1)\n",
    "\n",
    "# convert one-hot encoded true labels to integer class labels\n",
    "y_test_int = np.argmax(y_test, axis=1)\n",
    "\n",
    "# calculate metrics\n",
    "print(classification_report(y_test_int, y_pred))\n",
    "\n",
    "# calculate confusion matrix\n",
    "conf_mat = confusion_matrix(y_test_int, y_pred)\n",
    "print(conf_mat)\n"
   ]
  },
  {
   "cell_type": "code",
   "execution_count": 29,
   "id": "fbfd257d",
   "metadata": {},
   "outputs": [
    {
     "name": "stdout",
     "output_type": "stream",
     "text": [
      "1/1 [==============================] - 0s 46ms/step\n"
     ]
    },
    {
     "data": {
      "text/plain": [
       "'Neutral'"
      ]
     },
     "execution_count": 29,
     "metadata": {},
     "output_type": "execute_result"
    }
   ],
   "source": [
    "sequence = tokenizer.texts_to_sequences(['pada sadar tidak yang namanya metaverse kok kyknya bakal jadi satu kegilan baru era digital'])\n",
    "test = pad_sequences(sequence, maxlen=max_len)\n",
    "sentiment[np.around(model2.predict(test), decimals=0).argmax(axis=1)[0]]"
   ]
  },
  {
   "cell_type": "code",
   "execution_count": 30,
   "id": "474e8b7a",
   "metadata": {},
   "outputs": [
    {
     "name": "stdout",
     "output_type": "stream",
     "text": [
      "1/1 [==============================] - 0s 35ms/step\n"
     ]
    },
    {
     "data": {
      "text/plain": [
       "'Neutral'"
      ]
     },
     "execution_count": 30,
     "metadata": {},
     "output_type": "execute_result"
    }
   ],
   "source": [
    "sequence = tokenizer.texts_to_sequences(['kita lihat saja bagaimana perkembangan teknologi metaverse kedepannya'])\n",
    "test = pad_sequences(sequence, maxlen=max_len)\n",
    "sentiment[np.around(model2.predict(test), decimals=0).argmax(axis=1)[0]]"
   ]
  },
  {
   "cell_type": "code",
   "execution_count": 31,
   "id": "5b86400a",
   "metadata": {},
   "outputs": [
    {
     "name": "stdout",
     "output_type": "stream",
     "text": [
      "1/1 [==============================] - 0s 34ms/step\n"
     ]
    },
    {
     "data": {
      "text/plain": [
       "'Positive'"
      ]
     },
     "execution_count": 31,
     "metadata": {},
     "output_type": "execute_result"
    }
   ],
   "source": [
    "sequence = tokenizer.texts_to_sequences(['teknologi yang sangat menjanjikan, semoga dapat diterapkan secara masif'])\n",
    "test = pad_sequences(sequence, maxlen=max_len)\n",
    "sentiment[np.around(model2.predict(test), decimals=0).argmax(axis=1)[0]]"
   ]
  },
  {
   "cell_type": "code",
   "execution_count": null,
   "id": "4a2043e4",
   "metadata": {},
   "outputs": [],
   "source": []
  }
 ],
 "metadata": {
  "kernelspec": {
   "display_name": "Python 3 (ipykernel)",
   "language": "python",
   "name": "python3"
  },
  "language_info": {
   "codemirror_mode": {
    "name": "ipython",
    "version": 3
   },
   "file_extension": ".py",
   "mimetype": "text/x-python",
   "name": "python",
   "nbconvert_exporter": "python",
   "pygments_lexer": "ipython3",
   "version": "3.9.16"
  }
 },
 "nbformat": 4,
 "nbformat_minor": 5
}
