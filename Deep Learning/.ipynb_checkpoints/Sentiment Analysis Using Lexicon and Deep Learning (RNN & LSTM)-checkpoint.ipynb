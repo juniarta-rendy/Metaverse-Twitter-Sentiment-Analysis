{
 "cells": [
  {
   "cell_type": "code",
   "execution_count": 1,
   "id": "b06a1432",
   "metadata": {},
   "outputs": [],
   "source": [
    "import numpy as np\n",
    "import pandas as pd\n",
    "import re\n",
    "from sklearn.model_selection import train_test_split\n",
    "import matplotlib.pyplot as plt\n",
    "from sklearn.metrics import accuracy_score, precision_score, recall_score, f1_score\n",
    "\n",
    "from keras.models import Sequential\n",
    "from keras import layers\n",
    "from keras.layers import Embedding\n",
    "\n",
    "import seaborn as sns\n",
    "sns.set(style = 'whitegrid')\n",
    "\n",
    "from mlxtend.plotting import plot_confusion_matrix\n",
    "from sklearn.metrics import confusion_matrix\n",
    "from sklearn.preprocessing import MinMaxScaler\n",
    "\n",
    "from keras.preprocessing.text import Tokenizer\n",
    "from tensorflow.keras.preprocessing.sequence import pad_sequences\n",
    "from keras import regularizers\n",
    "from sklearn.metrics import classification_report, confusion_matrix"
   ]
  },
  {
   "cell_type": "code",
   "execution_count": 2,
   "id": "fd894dec",
   "metadata": {},
   "outputs": [
    {
     "name": "stderr",
     "output_type": "stream",
     "text": [
      "C:\\Users\\Juniarta\\AppData\\Local\\Temp\\ipykernel_2512\\3598719425.py:1: DtypeWarning: Columns (25) have mixed types. Specify dtype option on import or set low_memory=False.\n",
      "  df = pd.read_csv('../Clean_Dataset.csv', encoding='UTF-8')\n"
     ]
    }
   ],
   "source": [
    "df = pd.read_csv('../Clean_Dataset.csv', encoding='UTF-8')"
   ]
  },
  {
   "cell_type": "code",
   "execution_count": 3,
   "id": "1ddc8df6",
   "metadata": {},
   "outputs": [],
   "source": [
    "train = df[['Clean_Text','Stop_Words_Text', 'Stemmed_Text', 'indonlp_sentiment', 'Lexicon_Score']]"
   ]
  },
  {
   "cell_type": "code",
   "execution_count": 4,
   "id": "1c2ff1da",
   "metadata": {},
   "outputs": [
    {
     "data": {
      "text/plain": [
       "41276"
      ]
     },
     "execution_count": 4,
     "metadata": {},
     "output_type": "execute_result"
    }
   ],
   "source": [
    "len(df['Clean_Text'])"
   ]
  },
  {
   "cell_type": "markdown",
   "id": "bf8d5601",
   "metadata": {},
   "source": [
    "#### Data Preprocessing"
   ]
  },
  {
   "cell_type": "code",
   "execution_count": 5,
   "id": "058c3a0a",
   "metadata": {},
   "outputs": [],
   "source": [
    "data = df['Clean_Text'].values.tolist()"
   ]
  },
  {
   "cell_type": "code",
   "execution_count": 6,
   "id": "736755c2",
   "metadata": {},
   "outputs": [
    {
     "name": "stdout",
     "output_type": "stream",
     "text": [
      "['cina dan as terus bersaing mengembangkan teknologi terbaru termasuk kali ini perusahaan di kedua negara berlomba lomba membangun dunia virtual atau metaverse', 'katanya mau metaverse tapi down melulu bagaimana mas zuck', 'mungkin facebook sudah berencana menjadi metaverse besar secara sudah menyiapkan diem sebagai stable currency mereka kalau emang pasti nanti pindah ke blokchain semua facebook masih menang banyak karena hanya memerlukan pembaruan teknologi penggunanya sudah banyak', 'bersaing dengan perusahaan kelas dunia untuk mencapai hal ini sektor publik dan swasta harus bersatu untuk membentuk ekosistem metaverse yang melibatkan teknologi ar vr dan xr dalam forum tersebut juga dibahas bagaimana mensukseskan platform ini dengan pasar konsumen', 'sama sama semoga selalu terhindar dari usaha tipu menipu di metaverse iya']\n"
     ]
    }
   ],
   "source": [
    "print(data[:5])"
   ]
  },
  {
   "cell_type": "markdown",
   "id": "08d02a35",
   "metadata": {},
   "source": [
    "### Building a Model"
   ]
  },
  {
   "cell_type": "markdown",
   "id": "c9a2b422",
   "metadata": {},
   "source": [
    "#### Label Encoding of Output"
   ]
  },
  {
   "cell_type": "code",
   "execution_count": 7,
   "id": "5d3adbd1",
   "metadata": {},
   "outputs": [],
   "source": [
    "import tensorflow as tf\n",
    "labels = np.array(train['indonlp_sentiment'])\n",
    "y = []\n",
    "for i in range(len(labels)):\n",
    "    if labels[i] == 'neutral':\n",
    "        y.append(0)\n",
    "    if labels[i] == 'negative':\n",
    "        y.append(1)\n",
    "    if labels[i] == 'positive':\n",
    "        y.append(2)\n",
    "y = np.array(y)\n",
    "labels = tf.keras.utils.to_categorical(y, 3, dtype=\"float32\")\n",
    "del y"
   ]
  },
  {
   "cell_type": "markdown",
   "id": "437e2d12",
   "metadata": {},
   "source": [
    "#### Tokenizing dan Padding Padding"
   ]
  },
  {
   "cell_type": "code",
   "execution_count": 8,
   "id": "7bde87a6",
   "metadata": {},
   "outputs": [
    {
     "name": "stdout",
     "output_type": "stream",
     "text": [
      "[[    0     0     0 ...    29    43     1]\n",
      " [    0     0     0 ...    57   220  1488]\n",
      " [    0     0     0 ...  1557    10    45]\n",
      " ...\n",
      " [    0     0     0 ...  1004     5   439]\n",
      " [    0     0     0 ...  1919   730 15003]\n",
      " [    0     0     0 ...   197     2   631]]\n"
     ]
    }
   ],
   "source": [
    "max_words = 50000\n",
    "max_len = 100\n",
    "\n",
    "tokenizer = Tokenizer(num_words=max_words)\n",
    "tokenizer.fit_on_texts(data)\n",
    "sequences = tokenizer.texts_to_sequences(data)\n",
    "X = pad_sequences(sequences, maxlen=max_len)\n",
    "print(X)"
   ]
  },
  {
   "cell_type": "code",
   "execution_count": 9,
   "id": "8a13cfed",
   "metadata": {},
   "outputs": [],
   "source": [
    "scaler = MinMaxScaler()"
   ]
  },
  {
   "cell_type": "code",
   "execution_count": 10,
   "id": "6e31ec90",
   "metadata": {},
   "outputs": [],
   "source": [
    "# extract sentiment scores\n",
    "sentiment_scores = df['Lexicon_Score'].values\n",
    "\n",
    "# perform min-max scaling on sentiment scores\n",
    "scaler = MinMaxScaler()\n",
    "sentiment_scaled = scaler.fit_transform(sentiment_scores.reshape(-1, 1))\n",
    "\n",
    "df['Sentiment_Scaled'] = sentiment_scaled "
   ]
  },
  {
   "cell_type": "code",
   "execution_count": 11,
   "id": "d2e4cb64",
   "metadata": {},
   "outputs": [
    {
     "data": {
      "text/plain": [
       "0        0.585938\n",
       "1        0.500000\n",
       "2        0.703125\n",
       "3        0.578125\n",
       "4        0.500000\n",
       "           ...   \n",
       "41271    0.476562\n",
       "41272    0.523438\n",
       "41273    0.492188\n",
       "41274    0.453125\n",
       "41275    0.531250\n",
       "Name: Sentiment_Scaled, Length: 41276, dtype: float64"
      ]
     },
     "execution_count": 11,
     "metadata": {},
     "output_type": "execute_result"
    }
   ],
   "source": [
    "df['Sentiment_Scaled']"
   ]
  },
  {
   "cell_type": "code",
   "execution_count": 12,
   "id": "626a6607",
   "metadata": {},
   "outputs": [],
   "source": [
    "#Combine sentiment scores with text data\n",
    "X = np.hstack((sentiment_scaled, X))\n",
    "y = labels"
   ]
  },
  {
   "cell_type": "code",
   "execution_count": 13,
   "id": "1dbd202a",
   "metadata": {},
   "outputs": [
    {
     "name": "stdout",
     "output_type": "stream",
     "text": [
      "(41276, 101)\n"
     ]
    }
   ],
   "source": [
    "print(X.shape)"
   ]
  },
  {
   "cell_type": "code",
   "execution_count": 14,
   "id": "25a86919",
   "metadata": {},
   "outputs": [],
   "source": [
    "X = X[:, :-1]"
   ]
  },
  {
   "cell_type": "code",
   "execution_count": 15,
   "id": "750d14a0",
   "metadata": {},
   "outputs": [
    {
     "name": "stdout",
     "output_type": "stream",
     "text": [
      "(33020, 100) (33020, 3)\n",
      "(8256, 100) (8256, 3)\n"
     ]
    }
   ],
   "source": [
    "X_train, X_test, y_train, y_test = train_test_split(X, y, test_size = 0.2, random_state = 42)\n",
    "print(X_train.shape, y_train.shape)\n",
    "print(X_test.shape, y_test.shape)"
   ]
  },
  {
   "cell_type": "markdown",
   "id": "6d7fc77f",
   "metadata": {},
   "source": [
    "#### LSTM"
   ]
  },
  {
   "cell_type": "code",
   "execution_count": 16,
   "id": "05353da0",
   "metadata": {},
   "outputs": [],
   "source": [
    "embedding_layer = Embedding(1000, 64)"
   ]
  },
  {
   "cell_type": "code",
   "execution_count": 17,
   "id": "ea28742b",
   "metadata": {},
   "outputs": [],
   "source": [
    "model2 = Sequential()\n",
    "model2.add(layers.Embedding(max_words, 40, input_length=max_len))\n",
    "model2.add(layers.Bidirectional(layers.LSTM(20,dropout=0.6)))\n",
    "model2.add(layers.Dense(3,activation='softmax'))\n",
    "model2.compile(optimizer='adam',loss='categorical_crossentropy', metrics=['accuracy'])"
   ]
  },
  {
   "cell_type": "markdown",
   "id": "ce69e175",
   "metadata": {},
   "source": [
    "#### Train Model"
   ]
  },
  {
   "cell_type": "code",
   "execution_count": 36,
   "id": "0c0b0350",
   "metadata": {},
   "outputs": [
    {
     "name": "stdout",
     "output_type": "stream",
     "text": [
      "Epoch 1/10\n",
      "1032/1032 [==============================] - 59s 58ms/step - loss: 0.3659 - accuracy: 0.8638 - val_loss: 0.2772 - val_accuracy: 0.9020\n",
      "Epoch 2/10\n",
      "1032/1032 [==============================] - 79s 77ms/step - loss: 0.2984 - accuracy: 0.8893 - val_loss: 0.2909 - val_accuracy: 0.8990\n",
      "Epoch 3/10\n",
      "1032/1032 [==============================] - 78s 75ms/step - loss: 0.2624 - accuracy: 0.9013 - val_loss: 0.3104 - val_accuracy: 0.8912\n",
      "Epoch 4/10\n",
      "1032/1032 [==============================] - 78s 75ms/step - loss: 0.2403 - accuracy: 0.9078 - val_loss: 0.3328 - val_accuracy: 0.8852\n",
      "Epoch 5/10\n",
      "1032/1032 [==============================] - 80s 77ms/step - loss: 0.2146 - accuracy: 0.9197 - val_loss: 0.3532 - val_accuracy: 0.8790\n",
      "Epoch 6/10\n",
      "1032/1032 [==============================] - 85s 83ms/step - loss: 0.2020 - accuracy: 0.9220 - val_loss: 0.3843 - val_accuracy: 0.8742\n",
      "Epoch 7/10\n",
      "1032/1032 [==============================] - 90s 87ms/step - loss: 0.1880 - accuracy: 0.9279 - val_loss: 0.4228 - val_accuracy: 0.8641\n",
      "Epoch 8/10\n",
      "1032/1032 [==============================] - 83s 81ms/step - loss: 0.1759 - accuracy: 0.9328 - val_loss: 0.4385 - val_accuracy: 0.8613\n",
      "Epoch 9/10\n",
      "1032/1032 [==============================] - 88s 85ms/step - loss: 0.1650 - accuracy: 0.9363 - val_loss: 0.4480 - val_accuracy: 0.8560\n",
      "Epoch 10/10\n",
      "1032/1032 [==============================] - 81s 78ms/step - loss: 0.1573 - accuracy: 0.9385 - val_loss: 0.4975 - val_accuracy: 0.8525\n"
     ]
    }
   ],
   "source": [
    "history = model2.fit(X,y, epochs=10,validation_split=0.2)"
   ]
  },
  {
   "cell_type": "code",
   "execution_count": 39,
   "id": "3b5a5677",
   "metadata": {},
   "outputs": [
    {
     "name": "stdout",
     "output_type": "stream",
     "text": [
      "258/258 [==============================] - 3s 13ms/step\n",
      "Model Accuracy on Test Data: 0.9279312015503876\n"
     ]
    },
    {
     "data": {
      "image/png": "[encoded data removed]",
      "text/plain": [
       "<Figure size 800x600 with 2 Axes>"
      ]
     },
     "metadata": {},
     "output_type": "display_data"
    }
   ],
   "source": [
    "# Predict sentiment on data test by using model has been created, and then visualize a confusion matrix\n",
    "y_pred = np.argmax(model2.predict(X_test), axis=1)\n",
    "y_true = np.argmax(y_test, axis=1)\n",
    "accuracy = accuracy_score(y_true, y_pred)\n",
    "print('Model Accuracy on Test Data:', accuracy)\n",
    "confusion_matrix(y_true=y_true, y_pred=y_pred)\n",
    "fig, ax = plt.subplots(figsize=(8,6))\n",
    "sns.heatmap(confusion_matrix(y_true=y_true, y_pred=y_pred), fmt='g', annot=True)\n",
    "ax.xaxis.set_label_position('top')\n",
    "ax.xaxis.set_ticks_position('top')\n",
    "ax.set_xlabel('Prediction', fontsize=14)\n",
    "ax.set_xticklabels(['negative (0)', 'neutral (1)', 'positive (2)'])\n",
    "ax.set_ylabel('Actual', fontsize=14)\n",
    "ax.set_yticklabels(['negative (0)', 'neutral (1)', 'positive (2)'])\n",
    "plt.show()\n"
   ]
  },
  {
   "cell_type": "code",
   "execution_count": 40,
   "id": "91eaff6c",
   "metadata": {},
   "outputs": [
    {
     "name": "stdout",
     "output_type": "stream",
     "text": [
      "258/258 [==============================] - 4s 14ms/step\n",
      "              precision    recall  f1-score   support\n",
      "\n",
      "           0       0.93      0.96      0.95      4355\n",
      "           1       0.93      0.92      0.92      3035\n",
      "           2       0.90      0.80      0.85       866\n",
      "\n",
      "    accuracy                           0.93      8256\n",
      "   macro avg       0.92      0.89      0.91      8256\n",
      "weighted avg       0.93      0.93      0.93      8256\n",
      "\n",
      "[[4164  143   48]\n",
      " [ 199 2806   30]\n",
      " [  91   84  691]]\n"
     ]
    }
   ],
   "source": [
    "# predict classes for test set\n",
    "y_pred = np.argmax(model2.predict(X_test), axis=-1)\n",
    "\n",
    "# convert one-hot encoded true labels to integer class labels\n",
    "y_test_int = np.argmax(y_test, axis=1)\n",
    "\n",
    "# calculate metrics\n",
    "print(classification_report(y_test_int, y_pred))\n",
    "\n",
    "# calculate confusion matrix\n",
    "conf_mat = confusion_matrix(y_test_int, y_pred)\n",
    "print(conf_mat)\n"
   ]
  },
  {
   "cell_type": "markdown",
   "id": "37e58b00",
   "metadata": {},
   "source": [
    "#### Prediksi dan Hasil"
   ]
  },
  {
   "cell_type": "code",
   "execution_count": 23,
   "id": "5ff8fccc",
   "metadata": {},
   "outputs": [],
   "source": [
    "sentiment = ['Neutral', 'Negative', 'Positive']"
   ]
  },
  {
   "cell_type": "code",
   "execution_count": 24,
   "id": "9c42069c",
   "metadata": {},
   "outputs": [
    {
     "name": "stdout",
     "output_type": "stream",
     "text": [
      "1/1 [==============================] - 1s 1s/step\n"
     ]
    },
    {
     "data": {
      "text/plain": [
       "'Negative'"
      ]
     },
     "execution_count": 24,
     "metadata": {},
     "output_type": "execute_result"
    }
   ],
   "source": [
    "sequence = tokenizer.texts_to_sequences(['metaverse teknologi yang sangat buruk'])\n",
    "test = pad_sequences(sequence, maxlen=max_len)\n",
    "sentiment[np.around(model2.predict(test), decimals=0).argmax(axis=1)[0]]"
   ]
  },
  {
   "cell_type": "code",
   "execution_count": 25,
   "id": "eb2db602",
   "metadata": {},
   "outputs": [
    {
     "name": "stdout",
     "output_type": "stream",
     "text": [
      "1/1 [==============================] - 0s 31ms/step\n"
     ]
    },
    {
     "data": {
      "text/plain": [
       "'Positive'"
      ]
     },
     "execution_count": 25,
     "metadata": {},
     "output_type": "execute_result"
    }
   ],
   "source": [
    "sequence = tokenizer.texts_to_sequences(['wow metaverse teknologi yang sangat menjanjikan'])\n",
    "test = pad_sequences(sequence, maxlen=max_len)\n",
    "sentiment[np.around(model2.predict(test), decimals=0).argmax(axis=1)[0]]"
   ]
  },
  {
   "cell_type": "code",
   "execution_count": 26,
   "id": "16349f2c",
   "metadata": {},
   "outputs": [
    {
     "name": "stdout",
     "output_type": "stream",
     "text": [
      "1/1 [==============================] - 0s 27ms/step\n"
     ]
    },
    {
     "data": {
      "text/plain": [
       "'Negative'"
      ]
     },
     "execution_count": 26,
     "metadata": {},
     "output_type": "execute_result"
    }
   ],
   "source": [
    "sequence = tokenizer.texts_to_sequences(['kita lihat saja bagaimana perkembangan teknologi tersebut'])\n",
    "test = pad_sequences(sequence, maxlen=max_len)\n",
    "sentiment[np.around(model2.predict(test), decimals=0).argmax(axis=1)[0]]"
   ]
  },
  {
   "cell_type": "markdown",
   "id": "31324d73",
   "metadata": {},
   "source": [
    "#### Model dengan beberapa penyesuaian (Fine-Tuning)"
   ]
  },
  {
   "cell_type": "code",
   "execution_count": 47,
   "id": "4520da7f",
   "metadata": {},
   "outputs": [],
   "source": [
    "model = Sequential()\n",
    "model.add(layers.Embedding(max_words, 40, input_length=max_len))\n",
    "model.add(layers.BatchNormalization())\n",
    "model.add(layers.Bidirectional(layers.LSTM(15,dropout=0.5)))\n",
    "model.add(layers.Dense(3,activation='softmax'))\n",
    "model.compile(optimizer='rmsprop',loss='categorical_crossentropy', metrics=['accuracy'])"
   ]
  },
  {
   "cell_type": "code",
   "execution_count": 48,
   "id": "2aad782f",
   "metadata": {},
   "outputs": [
    {
     "name": "stdout",
     "output_type": "stream",
     "text": [
      "Epoch 1/20\n",
      "1032/1032 [==============================] - 76s 64ms/step - loss: 0.7364 - accuracy: 0.6833 - val_loss: 0.6003 - val_accuracy: 0.7717\n",
      "Epoch 2/20\n",
      "1032/1032 [==============================] - 64s 62ms/step - loss: 0.5961 - accuracy: 0.7555 - val_loss: 0.5526 - val_accuracy: 0.7839\n",
      "Epoch 3/20\n",
      "1032/1032 [==============================] - 66s 64ms/step - loss: 0.5462 - accuracy: 0.7784 - val_loss: 0.5526 - val_accuracy: 0.7878\n",
      "Epoch 4/20\n",
      "1032/1032 [==============================] - 61s 59ms/step - loss: 0.5135 - accuracy: 0.7954 - val_loss: 0.5410 - val_accuracy: 0.7917\n",
      "Epoch 5/20\n",
      "1032/1032 [==============================] - 61s 60ms/step - loss: 0.4866 - accuracy: 0.8047 - val_loss: 0.5450 - val_accuracy: 0.7929\n",
      "Epoch 6/20\n",
      "1032/1032 [==============================] - 67s 65ms/step - loss: 0.4666 - accuracy: 0.8147 - val_loss: 0.5560 - val_accuracy: 0.7920\n",
      "Epoch 7/20\n",
      "1032/1032 [==============================] - 61s 59ms/step - loss: 0.4461 - accuracy: 0.8248 - val_loss: 0.5692 - val_accuracy: 0.7839\n",
      "Epoch 8/20\n",
      "1032/1032 [==============================] - 65s 63ms/step - loss: 0.4292 - accuracy: 0.8333 - val_loss: 0.5605 - val_accuracy: 0.7873\n",
      "Epoch 9/20\n",
      "1032/1032 [==============================] - 70s 68ms/step - loss: 0.4191 - accuracy: 0.8356 - val_loss: 0.5634 - val_accuracy: 0.7880\n",
      "Epoch 10/20\n",
      "1032/1032 [==============================] - 66s 64ms/step - loss: 0.4009 - accuracy: 0.8449 - val_loss: 0.5784 - val_accuracy: 0.7874\n",
      "Epoch 11/20\n",
      "1032/1032 [==============================] - 60s 58ms/step - loss: 0.3925 - accuracy: 0.8485 - val_loss: 0.6012 - val_accuracy: 0.7856\n",
      "Epoch 12/20\n",
      "1032/1032 [==============================] - 61s 59ms/step - loss: 0.3843 - accuracy: 0.8526 - val_loss: 0.6178 - val_accuracy: 0.7814\n",
      "Epoch 13/20\n",
      "1032/1032 [==============================] - 62s 60ms/step - loss: 0.3755 - accuracy: 0.8556 - val_loss: 0.6482 - val_accuracy: 0.7774\n",
      "Epoch 14/20\n",
      "1032/1032 [==============================] - 70s 68ms/step - loss: 0.3656 - accuracy: 0.8613 - val_loss: 0.6384 - val_accuracy: 0.7837\n",
      "Epoch 15/20\n",
      "1032/1032 [==============================] - 66s 64ms/step - loss: 0.3603 - accuracy: 0.8624 - val_loss: 0.6603 - val_accuracy: 0.7764\n",
      "Epoch 16/20\n",
      "1032/1032 [==============================] - 90s 88ms/step - loss: 0.3547 - accuracy: 0.8645 - val_loss: 0.7016 - val_accuracy: 0.7722\n",
      "Epoch 17/20\n",
      "1032/1032 [==============================] - 93s 90ms/step - loss: 0.3471 - accuracy: 0.8691 - val_loss: 0.7219 - val_accuracy: 0.7814\n",
      "Epoch 18/20\n",
      "1032/1032 [==============================] - 85s 82ms/step - loss: 0.3409 - accuracy: 0.8732 - val_loss: 0.7108 - val_accuracy: 0.7743\n",
      "Epoch 19/20\n",
      "1032/1032 [==============================] - 73s 71ms/step - loss: 0.3385 - accuracy: 0.8715 - val_loss: 0.6674 - val_accuracy: 0.7840\n",
      "Epoch 20/20\n",
      "1032/1032 [==============================] - 71s 69ms/step - loss: 0.3339 - accuracy: 0.8753 - val_loss: 0.7187 - val_accuracy: 0.7787\n"
     ]
    }
   ],
   "source": [
    "history2 = model.fit(X_train,y_train, epochs=20,validation_split=0.2)"
   ]
  },
  {
   "cell_type": "code",
   "execution_count": 49,
   "id": "842352ef",
   "metadata": {},
   "outputs": [
    {
     "name": "stdout",
     "output_type": "stream",
     "text": [
      "258/258 [==============================] - 6s 12ms/step\n",
      "Model Accuracy on Test Data: 0.8667635658914729\n"
     ]
    },
    {
     "data": {
      "image/png": "[encoded data removed]",
      "text/plain": [
       "<Figure size 800x600 with 2 Axes>"
      ]
     },
     "metadata": {},
     "output_type": "display_data"
    }
   ],
   "source": [
    "# Predict sentiment on data test by using model has been created, and then visualize a confusion matrix\n",
    "y_pred = np.argmax(model.predict(X_test), axis=1)\n",
    "y_true = np.argmax(y_test, axis=1)\n",
    "accuracy = accuracy_score(y_true, y_pred)\n",
    "print('Model Accuracy on Test Data:', accuracy)\n",
    "confusion_matrix(y_true=y_true, y_pred=y_pred)\n",
    "fig, ax = plt.subplots(figsize=(8,6))\n",
    "sns.heatmap(confusion_matrix(y_true=y_true, y_pred=y_pred), fmt='g', annot=True)\n",
    "ax.xaxis.set_label_position('top')\n",
    "ax.xaxis.set_ticks_position('top')\n",
    "ax.set_xlabel('Prediction', fontsize=14)\n",
    "ax.set_xticklabels(['negative (0)', 'neutral (1)', 'positive (2)'])\n",
    "ax.set_ylabel('Actual', fontsize=14)\n",
    "ax.set_yticklabels(['negative (0)', 'neutral (1)', 'positive (2)'])\n",
    "plt.show()\n"
   ]
  },
  {
   "cell_type": "code",
   "execution_count": 50,
   "id": "aff2b878",
   "metadata": {},
   "outputs": [
    {
     "name": "stdout",
     "output_type": "stream",
     "text": [
      "258/258 [==============================] - 3s 12ms/step\n",
      "              precision    recall  f1-score   support\n",
      "\n",
      "           0       0.85      0.95      0.90      4355\n",
      "           1       0.88      0.86      0.87      3035\n",
      "           2       0.92      0.48      0.63       866\n",
      "\n",
      "    accuracy                           0.87      8256\n",
      "   macro avg       0.89      0.76      0.80      8256\n",
      "weighted avg       0.87      0.87      0.86      8256\n",
      "\n",
      "[[4142  197   16]\n",
      " [ 418 2598   19]\n",
      " [ 298  152  416]]\n"
     ]
    }
   ],
   "source": [
    "from sklearn.metrics import classification_report, confusion_matrix\n",
    "import numpy as np\n",
    "\n",
    "# predict classes for test set\n",
    "y_pred = np.argmax(model.predict(X_test), axis=-1)\n",
    "\n",
    "# convert one-hot encoded true labels to integer class labels\n",
    "y_test_int = np.argmax(y_test, axis=1)\n",
    "\n",
    "# calculate metrics\n",
    "print(classification_report(y_test_int, y_pred))\n",
    "\n",
    "# calculate confusion matrix\n",
    "conf_mat = confusion_matrix(y_test_int, y_pred)\n",
    "print(conf_mat)\n"
   ]
  },
  {
   "cell_type": "code",
   "execution_count": 33,
   "id": "fbfd257d",
   "metadata": {},
   "outputs": [
    {
     "name": "stdout",
     "output_type": "stream",
     "text": [
      "1/1 [==============================] - 0s 39ms/step\n"
     ]
    },
    {
     "data": {
      "text/plain": [
       "'Neutral'"
      ]
     },
     "execution_count": 33,
     "metadata": {},
     "output_type": "execute_result"
    }
   ],
   "source": [
    "sequence = tokenizer.texts_to_sequences(['pada sadar tidak yang namanya metaverse kok kyknya bakal jadi satu kegilan baru era digital'])\n",
    "test = pad_sequences(sequence, maxlen=max_len)\n",
    "sentiment[np.around(model2.predict(test), decimals=0).argmax(axis=1)[0]]"
   ]
  },
  {
   "cell_type": "code",
   "execution_count": 34,
   "id": "474e8b7a",
   "metadata": {},
   "outputs": [
    {
     "name": "stdout",
     "output_type": "stream",
     "text": [
      "1/1 [==============================] - 0s 42ms/step\n"
     ]
    },
    {
     "data": {
      "text/plain": [
       "'Neutral'"
      ]
     },
     "execution_count": 34,
     "metadata": {},
     "output_type": "execute_result"
    }
   ],
   "source": [
    "sequence = tokenizer.texts_to_sequences(['kita lihat saja bagaimana perkembangan teknologi metaverse kedepannya'])\n",
    "test = pad_sequences(sequence, maxlen=max_len)\n",
    "sentiment[np.around(model2.predict(test), decimals=0).argmax(axis=1)[0]]"
   ]
  },
  {
   "cell_type": "code",
   "execution_count": 35,
   "id": "5b86400a",
   "metadata": {},
   "outputs": [
    {
     "name": "stdout",
     "output_type": "stream",
     "text": [
      "1/1 [==============================] - 0s 31ms/step\n"
     ]
    },
    {
     "data": {
      "text/plain": [
       "'Positive'"
      ]
     },
     "execution_count": 35,
     "metadata": {},
     "output_type": "execute_result"
    }
   ],
   "source": [
    "sequence = tokenizer.texts_to_sequences(['teknologi yang sangat menjanjikan, semoga dapat diterapkan secara masif'])\n",
    "test = pad_sequences(sequence, maxlen=max_len)\n",
    "sentiment[np.around(model2.predict(test), decimals=0).argmax(axis=1)[0]]"
   ]
  },
  {
   "cell_type": "code",
   "execution_count": null,
   "id": "4a2043e4",
   "metadata": {},
   "outputs": [],
   "source": []
  }
 ],
 "metadata": {
  "kernelspec": {
   "display_name": "Python 3 (ipykernel)",
   "language": "python",
   "name": "python3"
  },
  "language_info": {
   "codemirror_mode": {
    "name": "ipython",
    "version": 3
   },
   "file_extension": ".py",
   "mimetype": "text/x-python",
   "name": "python",
   "nbconvert_exporter": "python",
   "pygments_lexer": "ipython3",
   "version": "3.9.16"
  }
 },
 "nbformat": 4,
 "nbformat_minor": 5
}
