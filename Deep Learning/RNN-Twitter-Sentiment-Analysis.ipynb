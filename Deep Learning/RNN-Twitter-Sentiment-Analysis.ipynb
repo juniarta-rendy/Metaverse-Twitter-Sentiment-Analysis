{
 "cells": [
  {
   "cell_type": "code",
   "execution_count": 1,
   "id": "700706cd",
   "metadata": {},
   "outputs": [],
   "source": [
    "import pandas as pd\n",
    "import numpy as np\n",
    "from nltk import word_tokenize"
   ]
  },
  {
   "cell_type": "code",
   "execution_count": 2,
   "id": "83520c88",
   "metadata": {},
   "outputs": [],
   "source": [
    "data = pd.read_csv('../Cleaning/Clean_Dataset.csv')"
   ]
  },
  {
   "cell_type": "code",
   "execution_count": 3,
   "id": "531f413d",
   "metadata": {},
   "outputs": [],
   "source": [
    "tweets = np.array(data['New_Clean_Text'])[:]\n",
    "labels = np.array(data['sentiment_word'])[:]"
   ]
  },
  {
   "cell_type": "code",
   "execution_count": 4,
   "id": "725190f9",
   "metadata": {},
   "outputs": [
    {
     "data": {
      "text/plain": [
       "Counter({'NEU': 36693, 'NEG': 4645, 'POS': 5839})"
      ]
     },
     "execution_count": 4,
     "metadata": {},
     "output_type": "execute_result"
    }
   ],
   "source": [
    "from collections import Counter\n",
    "Counter(labels)"
   ]
  },
  {
   "cell_type": "markdown",
   "id": "86cb4b13",
   "metadata": {},
   "source": [
    "#### Data Preprocessing"
   ]
  },
  {
   "cell_type": "code",
   "execution_count": 5,
   "id": "94cc1e87",
   "metadata": {},
   "outputs": [],
   "source": [
    "punctuation = '!\"#$%&\\'()*+,-./:;<=>?[\\\\]^_`{|}~'\n",
    "\n",
    "# get rid of punctuation\n",
    "all_tweets = 'separator'.join(tweets)\n",
    "all_text = ''.join([c for c in all_tweets if c not in punctuation])\n",
    "\n",
    "# split by new lines and spaces\n",
    "tweets_split = all_text.split('separator')\n",
    "all_text = ' '.join(tweets_split)\n",
    "\n",
    "# create a list of words\n",
    "words = all_text.split()"
   ]
  },
  {
   "cell_type": "code",
   "execution_count": 6,
   "id": "9afb5220",
   "metadata": {},
   "outputs": [],
   "source": [
    "# get rid of web address, twitter id, and digit\n",
    "new_tweets = []\n",
    "for tweet in tweets_split:\n",
    "    tweet = tweet.split()\n",
    "    new_text = []\n",
    "    for word in tweet:\n",
    "        if (word[0] != '@') & ('http' not in word) & (~word.isdigit()):\n",
    "            new_text.append(word)\n",
    "    new_tweets.append(new_text)"
   ]
  },
  {
   "cell_type": "markdown",
   "id": "85361ecb",
   "metadata": {},
   "source": [
    "#### Encoding the words"
   ]
  },
  {
   "cell_type": "code",
   "execution_count": 7,
   "id": "f1a86c03",
   "metadata": {},
   "outputs": [],
   "source": [
    "#create a dictionary that maps words to integers\n",
    "counts = Counter(words)\n",
    "vocab = sorted(counts, key=counts.get, reverse=True)\n",
    "vocab_to_int = {word: ii for ii, word in enumerate(vocab, 1)}\n",
    "\n",
    "#use the dictionary to tokenize each tweet\n",
    "#store the tokenized tweets in tweets_ints\n",
    "tweets_ints = []\n",
    "for tweet in new_tweets:\n",
    "    tweets_ints.append([vocab_to_int[word] for word in tweet])"
   ]
  },
  {
   "cell_type": "code",
   "execution_count": 8,
   "id": "e15e7b8e",
   "metadata": {},
   "outputs": [
    {
     "name": "stdout",
     "output_type": "stream",
     "text": [
      "Unique words:  46030\n",
      "\n",
      "Tokenized Tweet: \n",
      " [2983, 4, 865, 87, 1636, 516, 38, 586, 369, 164, 5, 110, 2, 1108, 98, 1510, 1162, 287, 9, 32, 45, 1]\n"
     ]
    }
   ],
   "source": [
    "#stats about vocabulary\n",
    "print('Unique words: ', len((vocab_to_int)))\n",
    "print()\n",
    "\n",
    "#print tokens in first tweet\n",
    "print('Tokenized Tweet: \\n', tweets_ints[0])"
   ]
  },
  {
   "cell_type": "markdown",
   "id": "85061bbe",
   "metadata": {},
   "source": [
    "#### Encoding the labels"
   ]
  },
  {
   "cell_type": "code",
   "execution_count": 9,
   "id": "0e82b84c",
   "metadata": {},
   "outputs": [],
   "source": [
    "encoded_labels = []\n",
    "for label in labels:\n",
    "    if label == 'NEU':\n",
    "        encoded_labels.append(1)\n",
    "    elif label == 'NEG':\n",
    "        encoded_labels.append(0)\n",
    "    else:\n",
    "        encoded_labels.append(1)\n",
    "        \n",
    "encoded_labels = np.asarray(encoded_labels)"
   ]
  },
  {
   "cell_type": "markdown",
   "id": "15215e08",
   "metadata": {},
   "source": [
    "#### Padding Sequence"
   ]
  },
  {
   "cell_type": "code",
   "execution_count": 10,
   "id": "18189794",
   "metadata": {},
   "outputs": [],
   "source": [
    "def pad_features(tweets_ints, seq_length):\n",
    "    ''' \n",
    "    Return features of tweet_ints, where each review is padded with 0's \n",
    "    or truncated to the input seq_length.\n",
    "    '''\n",
    "    #get the correct rowe x cols shape\n",
    "    features = np.zeros((len(tweets_ints), seq_length), dtype=int)\n",
    "    \n",
    "    for  i, row in enumerate(tweets_ints):\n",
    "        features[i, -len(row):] = np.array(row)[:seq_length]\n",
    "        \n",
    "    return features\n",
    "    "
   ]
  },
  {
   "cell_type": "code",
   "execution_count": 11,
   "id": "026ccbe2",
   "metadata": {},
   "outputs": [
    {
     "name": "stdout",
     "output_type": "stream",
     "text": [
      "[[   0    0    0    0    0    0    0    0 2983    4]\n",
      " [   0    0    0    0    0    0    0    0    0    0]\n",
      " [  86   84   10  957   79    1  179  122   10 2122]\n",
      " [1636   12  110  883    9   18 1383  118    5  562]\n",
      " [   0    0    0    0    0    0    0    0    0    0]\n",
      " [   0    0    0    0    0    0    1   55 7217 2316]\n",
      " [   0    0    0    0    0    0    0    0    0    0]\n",
      " [   0    0    0    0    0    0    0    0    0    0]\n",
      " [   0    0    0    0    0    0    0    0    0    0]\n",
      " [   0    0    0    0    0    0    0    0    0    0]]\n"
     ]
    }
   ],
   "source": [
    "# Test Implementation\n",
    "seq_length = 30\n",
    "features = pad_features(tweets_ints, seq_length=seq_length)\n",
    "\n",
    "#test statements\n",
    "assert len(features) == len(tweets_ints), \"The features should have as many rows as tweet\"\n",
    "assert len(features[0]) == seq_length, \"The features row should contain seq_length values\"\n",
    "\n",
    "print(features[:10,:10])"
   ]
  },
  {
   "cell_type": "markdown",
   "id": "e3438d04",
   "metadata": {},
   "source": [
    "### Training, Validation and Test"
   ]
  },
  {
   "cell_type": "code",
   "execution_count": 12,
   "id": "8799595e",
   "metadata": {},
   "outputs": [
    {
     "name": "stdout",
     "output_type": "stream",
     "text": [
      "\t\t\tFeature Shapes:\n",
      "Train set: \t\t(37742, 30) \n",
      "Validation set: \t(4718, 30) \n",
      "Test set: \t\t(4718, 30)\n"
     ]
    }
   ],
   "source": [
    "split_frac = 0.8\n",
    "\n",
    "## split data into training, validation, and test data (features and labels, x and y)\n",
    "\n",
    "split_idx = int(len(features)*split_frac)\n",
    "train_x, remaining_x = features[:split_idx], features[split_idx:]\n",
    "train_y, remaining_y = encoded_labels[:split_idx], encoded_labels[split_idx:]\n",
    "\n",
    "test_idx = int(len(remaining_x)*0.5)\n",
    "val_x, test_x = remaining_x[:test_idx], remaining_x[test_idx:]\n",
    "val_y, test_y = remaining_y[:test_idx], remaining_y[test_idx:]\n",
    "\n",
    "## print out the shapes of the resultant feature data\n",
    "print(\"\\t\\t\\tFeature Shapes:\")\n",
    "print(\"Train set: \\t\\t{}\".format(train_x.shape), \n",
    "      \"\\nValidation set: \\t{}\".format(val_x.shape),\n",
    "      \"\\nTest set: \\t\\t{}\".format(test_x.shape))"
   ]
  },
  {
   "cell_type": "code",
   "execution_count": 13,
   "id": "6375a227",
   "metadata": {},
   "outputs": [],
   "source": [
    "dummy_data = np.zeros((1,), dtype=np.int32)\n",
    "\n",
    "test_y = np.concatenate([test_y,dummy_data], axis=0)"
   ]
  },
  {
   "cell_type": "markdown",
   "id": "738612f8",
   "metadata": {},
   "source": [
    "##### DataLoaders and batching"
   ]
  },
  {
   "cell_type": "code",
   "execution_count": 14,
   "id": "a7d989b4",
   "metadata": {},
   "outputs": [],
   "source": [
    "import torch\n",
    "from torch.utils.data import TensorDataset, DataLoader\n",
    "\n",
    "#create Tensor datasets\n",
    "train_data = TensorDataset(torch.from_numpy(train_x), torch.from_numpy(train_y))\n",
    "valid_data = TensorDataset(torch.from_numpy(val_x), torch.from_numpy(val_y))\n",
    "test_data = TensorDataset(torch.from_numpy(test_x), torch.from_numpy(test_y))\n",
    "\n",
    "# dataloaders\n",
    "batch_size = 50\n",
    "\n",
    "# make sure the SHUFFLE the training data\n",
    "train_loader = DataLoader(train_data, shuffle=True, batch_size=batch_size, drop_last=True)\n",
    "valid_loader = DataLoader(valid_data, shuffle=True, batch_size=batch_size, drop_last=True)\n",
    "test_loader = DataLoader(test_data, shuffle=True, batch_size=batch_size, drop_last=True)"
   ]
  },
  {
   "cell_type": "code",
   "execution_count": 15,
   "id": "e58929c0",
   "metadata": {},
   "outputs": [
    {
     "name": "stdout",
     "output_type": "stream",
     "text": [
      "Sample input size:  torch.Size([50, 30])\n",
      "Sample input : \n",
      " tensor([[    0,     0,     0,  ...,     2,     1,     6],\n",
      "        [    0,     0,     0,  ...,   504,   100,     1],\n",
      "        [  671,     6,  1527,  ...,   436,     5,   215],\n",
      "        ...,\n",
      "        [   12,  5005,    84,  ...,     4,    15,  1640],\n",
      "        [    0,     0,     0,  ...,     1,    97,    11],\n",
      "        [    0,     0,     0,  ..., 11632,  6325,   890]], dtype=torch.int32)\n",
      "\n",
      "Sample label size:  torch.Size([50])\n",
      "Sample label: \n",
      " tensor([1, 1, 1, 1, 1, 1, 1, 0, 1, 1, 1, 1, 1, 1, 1, 1, 1, 1, 1, 1, 1, 1, 1, 1,\n",
      "        1, 1, 1, 1, 1, 1, 0, 1, 1, 1, 1, 1, 1, 1, 1, 1, 1, 0, 1, 1, 1, 1, 1, 0,\n",
      "        1, 1], dtype=torch.int32)\n"
     ]
    }
   ],
   "source": [
    "#obtain one batch of training data\n",
    "dataiter = iter(train_loader)\n",
    "sample_x, sample_y = next(dataiter)\n",
    "\n",
    "print('Sample input size: ', sample_x.size()) #batch_size, seq_length\n",
    "print('Sample input : \\n', sample_x)\n",
    "print()\n",
    "print('Sample label size: ', sample_y.size()) #batch size\n",
    "print('Sample label: \\n', sample_y)"
   ]
  },
  {
   "cell_type": "markdown",
   "id": "1be063a8",
   "metadata": {},
   "source": [
    "#### Sentiment Network with Pytorch"
   ]
  },
  {
   "cell_type": "code",
   "execution_count": 16,
   "id": "3daeaa91",
   "metadata": {},
   "outputs": [
    {
     "name": "stdout",
     "output_type": "stream",
     "text": [
      "No GPU available, training on CPU\n"
     ]
    }
   ],
   "source": [
    "#first check if GPU is available\n",
    "train_on_gpu = torch.cuda.is_available()\n",
    "\n",
    "if(train_on_gpu):\n",
    "    print('Training on GPU')\n",
    "else:\n",
    "    print('No GPU available, training on CPU')"
   ]
  },
  {
   "cell_type": "code",
   "execution_count": 17,
   "id": "2d86c391",
   "metadata": {},
   "outputs": [],
   "source": [
    "import torch.nn as nn\n",
    "\n",
    "class SentimentRNN(nn.Module):\n",
    "    \"\"\"\n",
    "    The RNN model that will be used to perform Sentiment analysis.\n",
    "    \"\"\"\n",
    "\n",
    "    def __init__(self, vocab_size, output_size, embedding_dim, hidden_dim, n_layers, drop_prob=0.5):\n",
    "        \"\"\"\n",
    "        Initialize the model by setting up the layers.\n",
    "        \"\"\"\n",
    "        super(SentimentRNN, self).__init__()\n",
    "\n",
    "        self.output_size = output_size\n",
    "        self.n_layers = n_layers\n",
    "        self.hidden_dim = hidden_dim\n",
    "        \n",
    "        # embedding and LSTM layers\n",
    "        self.embedding = nn.Embedding(vocab_size, embedding_dim)\n",
    "        self.lstm = nn.LSTM(embedding_dim, hidden_dim, n_layers, \n",
    "                            dropout=drop_prob, batch_first=True)\n",
    "        \n",
    "        # dropout layer\n",
    "        self.dropout = nn.Dropout(0.3)\n",
    "        \n",
    "        # linear and sigmoid layers\n",
    "        self.fc = nn.Linear(hidden_dim, output_size)\n",
    "        self.sig = nn.Sigmoid()\n",
    "        \n",
    "\n",
    "    def forward(self, x, hidden):\n",
    "        \"\"\"\n",
    "        Perform a forward pass of our model on some input and hidden state.\n",
    "        \"\"\"\n",
    "        batch_size = x.size(0)\n",
    "\n",
    "        # embeddings and lstm_out\n",
    "        x = x.long()\n",
    "        embeds = self.embedding(x)\n",
    "        lstm_out, hidden = self.lstm(embeds, hidden)\n",
    "    \n",
    "        # stack up lstm outputs\n",
    "        lstm_out = lstm_out.contiguous().view(-1, self.hidden_dim)\n",
    "        \n",
    "        # dropout and fully-connected layer\n",
    "        out = self.dropout(lstm_out)\n",
    "        out = self.fc(out)\n",
    "        # sigmoid function\n",
    "        sig_out = self.sig(out)\n",
    "        \n",
    "        # reshape to be batch_size first\n",
    "        sig_out = sig_out.view(batch_size, -1)\n",
    "        sig_out = sig_out[:, -1] # get last batch of labels\n",
    "        \n",
    "        # return last sigmoid output and hidden state\n",
    "        return sig_out, hidden\n",
    "    \n",
    "    \n",
    "    def init_hidden(self, batch_size):\n",
    "        ''' Initializes hidden state '''\n",
    "        # Create two new tensors with sizes n_layers x batch_size x hidden_dim,\n",
    "        # initialized to zero, for hidden state and cell state of LSTM\n",
    "        weight = next(self.parameters()).data\n",
    "        \n",
    "        if (train_on_gpu):\n",
    "            hidden = (weight.new(self.n_layers, batch_size, self.hidden_dim).zero_().cuda(),\n",
    "                  weight.new(self.n_layers, batch_size, self.hidden_dim).zero_().cuda())\n",
    "        else:\n",
    "            hidden = (weight.new(self.n_layers, batch_size, self.hidden_dim).zero_(),\n",
    "                      weight.new(self.n_layers, batch_size, self.hidden_dim).zero_())\n",
    "        \n",
    "        return hidden"
   ]
  },
  {
   "cell_type": "markdown",
   "id": "bb60a6ff",
   "metadata": {},
   "source": [
    "##### Instantiate the Network"
   ]
  },
  {
   "cell_type": "code",
   "execution_count": 18,
   "id": "537659a7",
   "metadata": {},
   "outputs": [
    {
     "name": "stdout",
     "output_type": "stream",
     "text": [
      "SentimentRNN(\n",
      "  (embedding): Embedding(46031, 200)\n",
      "  (lstm): LSTM(200, 128, num_layers=2, batch_first=True, dropout=0.5)\n",
      "  (dropout): Dropout(p=0.3, inplace=False)\n",
      "  (fc): Linear(in_features=128, out_features=1, bias=True)\n",
      "  (sig): Sigmoid()\n",
      ")\n"
     ]
    }
   ],
   "source": [
    "# Instantiate the model w/ hyperparams\n",
    "vocab_size = len(vocab_to_int)+1 # +1 for the 0 padding + our word tokens\n",
    "output_size = 1\n",
    "embedding_dim = 200\n",
    "hidden_dim = 128\n",
    "n_layers = 2\n",
    "\n",
    "net = SentimentRNN(vocab_size, output_size, embedding_dim, hidden_dim, n_layers)\n",
    "\n",
    "print(net)"
   ]
  },
  {
   "cell_type": "markdown",
   "id": "435f8715",
   "metadata": {},
   "source": [
    "#### Training"
   ]
  },
  {
   "cell_type": "code",
   "execution_count": 19,
   "id": "240cb43c",
   "metadata": {},
   "outputs": [],
   "source": [
    "# loss and optimization functions\n",
    "lr=0.001\n",
    "\n",
    "criterion = nn.BCELoss()\n",
    "optimizer = torch.optim.Adam(net.parameters(), lr=lr)"
   ]
  },
  {
   "cell_type": "code",
   "execution_count": 20,
   "id": "8c068bec",
   "metadata": {},
   "outputs": [
    {
     "name": "stdout",
     "output_type": "stream",
     "text": [
      "Epoch: 1/10... Step: 100... Loss: 0.449899... Val Loss: 0.318628\n",
      "Epoch: 1/10... Step: 200... Loss: 0.334309... Val Loss: 0.315018\n",
      "Epoch: 1/10... Step: 300... Loss: 0.321880... Val Loss: 0.314570\n",
      "Epoch: 1/10... Step: 400... Loss: 0.366234... Val Loss: 0.313262\n",
      "Epoch: 1/10... Step: 500... Loss: 0.283471... Val Loss: 0.314521\n",
      "Epoch: 1/10... Step: 600... Loss: 0.378582... Val Loss: 0.314729\n",
      "Epoch: 1/10... Step: 700... Loss: 0.478364... Val Loss: 0.315603\n",
      "Epoch: 2/10... Step: 800... Loss: 0.352038... Val Loss: 0.316594\n",
      "Epoch: 2/10... Step: 900... Loss: 0.235676... Val Loss: 0.315958\n",
      "Epoch: 2/10... Step: 1000... Loss: 0.447152... Val Loss: 0.317976\n",
      "Epoch: 2/10... Step: 1100... Loss: 0.237796... Val Loss: 0.318060\n",
      "Epoch: 2/10... Step: 1200... Loss: 0.146242... Val Loss: 0.318538\n",
      "Epoch: 2/10... Step: 1300... Loss: 0.245143... Val Loss: 0.319057\n",
      "Epoch: 2/10... Step: 1400... Loss: 0.253591... Val Loss: 0.318209\n",
      "Epoch: 2/10... Step: 1500... Loss: 0.443034... Val Loss: 0.319170\n",
      "Epoch: 3/10... Step: 1600... Loss: 0.215328... Val Loss: 0.334488\n",
      "Epoch: 3/10... Step: 1700... Loss: 0.380214... Val Loss: 0.338785\n",
      "Epoch: 3/10... Step: 1800... Loss: 0.246819... Val Loss: 0.356768\n",
      "Epoch: 3/10... Step: 1900... Loss: 0.224691... Val Loss: 0.353178\n",
      "Epoch: 3/10... Step: 2000... Loss: 0.202621... Val Loss: 0.346250\n",
      "Epoch: 3/10... Step: 2100... Loss: 0.427633... Val Loss: 0.352439\n",
      "Epoch: 3/10... Step: 2200... Loss: 0.205798... Val Loss: 0.352571\n",
      "Epoch: 4/10... Step: 2300... Loss: 0.213868... Val Loss: 0.409393\n",
      "Epoch: 4/10... Step: 2400... Loss: 0.140336... Val Loss: 0.417713\n",
      "Epoch: 4/10... Step: 2500... Loss: 0.303792... Val Loss: 0.386331\n",
      "Epoch: 4/10... Step: 2600... Loss: 0.332447... Val Loss: 0.430759\n",
      "Epoch: 4/10... Step: 2700... Loss: 0.093221... Val Loss: 0.434525\n",
      "Epoch: 4/10... Step: 2800... Loss: 0.245489... Val Loss: 0.396534\n",
      "Epoch: 4/10... Step: 2900... Loss: 0.194820... Val Loss: 0.403828\n",
      "Epoch: 4/10... Step: 3000... Loss: 0.167678... Val Loss: 0.401069\n",
      "Epoch: 5/10... Step: 3100... Loss: 0.129171... Val Loss: 0.491471\n",
      "Epoch: 5/10... Step: 3200... Loss: 0.086043... Val Loss: 0.469208\n",
      "Epoch: 5/10... Step: 3300... Loss: 0.112472... Val Loss: 0.507002\n",
      "Epoch: 5/10... Step: 3400... Loss: 0.118677... Val Loss: 0.496055\n",
      "Epoch: 5/10... Step: 3500... Loss: 0.378573... Val Loss: 0.513206\n",
      "Epoch: 5/10... Step: 3600... Loss: 0.095952... Val Loss: 0.480431\n",
      "Epoch: 5/10... Step: 3700... Loss: 0.171040... Val Loss: 0.504717\n",
      "Epoch: 6/10... Step: 3800... Loss: 0.134655... Val Loss: 0.572179\n",
      "Epoch: 6/10... Step: 3900... Loss: 0.142252... Val Loss: 0.624204\n",
      "Epoch: 6/10... Step: 4000... Loss: 0.053863... Val Loss: 0.577924\n",
      "Epoch: 6/10... Step: 4100... Loss: 0.031193... Val Loss: 0.575750\n",
      "Epoch: 6/10... Step: 4200... Loss: 0.084325... Val Loss: 0.623747\n",
      "Epoch: 6/10... Step: 4300... Loss: 0.051487... Val Loss: 0.624941\n",
      "Epoch: 6/10... Step: 4400... Loss: 0.183650... Val Loss: 0.583614\n",
      "Epoch: 6/10... Step: 4500... Loss: 0.104769... Val Loss: 0.631734\n",
      "Epoch: 7/10... Step: 4600... Loss: 0.016441... Val Loss: 0.734396\n",
      "Epoch: 7/10... Step: 4700... Loss: 0.180456... Val Loss: 0.727703\n",
      "Epoch: 7/10... Step: 4800... Loss: 0.031855... Val Loss: 0.752503\n",
      "Epoch: 7/10... Step: 4900... Loss: 0.089067... Val Loss: 0.732190\n",
      "Epoch: 7/10... Step: 5000... Loss: 0.126575... Val Loss: 0.748445\n",
      "Epoch: 7/10... Step: 5100... Loss: 0.056320... Val Loss: 0.695747\n",
      "Epoch: 7/10... Step: 5200... Loss: 0.060271... Val Loss: 0.685906\n",
      "Epoch: 8/10... Step: 5300... Loss: 0.059428... Val Loss: 0.725344\n",
      "Epoch: 8/10... Step: 5400... Loss: 0.016543... Val Loss: 0.821233\n",
      "Epoch: 8/10... Step: 5500... Loss: 0.007965... Val Loss: 0.827715\n",
      "Epoch: 8/10... Step: 5600... Loss: 0.093961... Val Loss: 0.767141\n",
      "Epoch: 8/10... Step: 5700... Loss: 0.047568... Val Loss: 0.810607\n",
      "Epoch: 8/10... Step: 5800... Loss: 0.005098... Val Loss: 0.766875\n",
      "Epoch: 8/10... Step: 5900... Loss: 0.007873... Val Loss: 0.801947\n",
      "Epoch: 8/10... Step: 6000... Loss: 0.054045... Val Loss: 0.768990\n",
      "Epoch: 9/10... Step: 6100... Loss: 0.005096... Val Loss: 0.926477\n",
      "Epoch: 9/10... Step: 6200... Loss: 0.026723... Val Loss: 0.880632\n",
      "Epoch: 9/10... Step: 6300... Loss: 0.011650... Val Loss: 0.901558\n",
      "Epoch: 9/10... Step: 6400... Loss: 0.018709... Val Loss: 0.964263\n",
      "Epoch: 9/10... Step: 6500... Loss: 0.058245... Val Loss: 0.814946\n",
      "Epoch: 9/10... Step: 6600... Loss: 0.027960... Val Loss: 0.863504\n",
      "Epoch: 9/10... Step: 6700... Loss: 0.008272... Val Loss: 0.861547\n",
      "Epoch: 10/10... Step: 6800... Loss: 0.039699... Val Loss: 0.900222\n",
      "Epoch: 10/10... Step: 6900... Loss: 0.006420... Val Loss: 0.993989\n",
      "Epoch: 10/10... Step: 7000... Loss: 0.006981... Val Loss: 0.943809\n",
      "Epoch: 10/10... Step: 7100... Loss: 0.019507... Val Loss: 0.902493\n",
      "Epoch: 10/10... Step: 7200... Loss: 0.005093... Val Loss: 0.938636\n",
      "Epoch: 10/10... Step: 7300... Loss: 0.003168... Val Loss: 0.940422\n",
      "Epoch: 10/10... Step: 7400... Loss: 0.087177... Val Loss: 0.954993\n",
      "Epoch: 10/10... Step: 7500... Loss: 0.068853... Val Loss: 0.927220\n"
     ]
    }
   ],
   "source": [
    "# training params\n",
    "\n",
    "epochs = 10 \n",
    "\n",
    "counter = 0\n",
    "print_every = 100\n",
    "clip=5 # gradient clipping\n",
    "\n",
    "# move model to GPU, if available\n",
    "if(train_on_gpu):\n",
    "    net.cuda()\n",
    "\n",
    "net.train()\n",
    "# train for some number of epochs\n",
    "for e in range(epochs):\n",
    "    # initialize hidden state\n",
    "    h = net.init_hidden(batch_size)\n",
    "\n",
    "    # batch loop\n",
    "    for inputs, labels in train_loader:\n",
    "        counter += 1\n",
    "\n",
    "        if(train_on_gpu):\n",
    "            inputs, labels = inputs.cuda(), labels.cuda()\n",
    "\n",
    "        # Creating new variables for the hidden state, otherwise\n",
    "        # we'd backprop through the entire training history\n",
    "        h = tuple([each.data for each in h])\n",
    "\n",
    "        # zero accumulated gradients\n",
    "        net.zero_grad()\n",
    "\n",
    "        # get the output from the model\n",
    "        output, h = net(inputs, h)\n",
    "\n",
    "        # calculate the loss and perform backprop\n",
    "        loss = criterion(output.squeeze(), labels.float())\n",
    "        loss.backward()\n",
    "        # `clip_grad_norm` helps prevent the exploding gradient problem in RNNs / LSTMs.\n",
    "        nn.utils.clip_grad_norm_(net.parameters(), clip)\n",
    "        optimizer.step()\n",
    "\n",
    "        # loss stats\n",
    "        if counter % print_every == 0:\n",
    "            # Get validation loss\n",
    "            val_h = net.init_hidden(batch_size)\n",
    "            val_losses = []\n",
    "            net.eval()\n",
    "            for inputs, labels in valid_loader:\n",
    "\n",
    "                # Creating new variables for the hidden state, otherwise\n",
    "                # we'd backprop through the entire training history\n",
    "                val_h = tuple([each.data for each in val_h])\n",
    "\n",
    "                if(train_on_gpu):\n",
    "                    inputs, labels = inputs.cuda(), labels.cuda()\n",
    "\n",
    "                output, val_h = net(inputs, val_h)\n",
    "                val_loss = criterion(output.squeeze(), labels.float())\n",
    "\n",
    "                val_losses.append(val_loss.item())\n",
    "\n",
    "            net.train()\n",
    "            print(\"Epoch: {}/{}...\".format(e+1, epochs),\n",
    "                  \"Step: {}...\".format(counter),\n",
    "                  \"Loss: {:.6f}...\".format(loss.item()),\n",
    "                  \"Val Loss: {:.6f}\".format(np.mean(val_losses)))"
   ]
  },
  {
   "cell_type": "markdown",
   "id": "db1b91be",
   "metadata": {},
   "source": [
    "#### Testing"
   ]
  },
  {
   "cell_type": "code",
   "execution_count": 21,
   "id": "d7fd3d53",
   "metadata": {},
   "outputs": [
    {
     "name": "stdout",
     "output_type": "stream",
     "text": [
      "Test loss: 0.874\n",
      "Test accuracy: 0.836\n"
     ]
    }
   ],
   "source": [
    "# Get test data loss and accuracy\n",
    "\n",
    "test_losses = [] # track loss\n",
    "num_correct = 0\n",
    "\n",
    "# init hidden state\n",
    "h = net.init_hidden(batch_size)\n",
    "\n",
    "net.eval()\n",
    "# iterate over test data\n",
    "for inputs, labels in test_loader:\n",
    "\n",
    "    # Creating new variables for the hidden state, otherwise\n",
    "    # we'd backprop through the entire training history\n",
    "    h = tuple([each.data for each in h])\n",
    "\n",
    "    if(train_on_gpu):\n",
    "        inputs, labels = inputs.cuda(), labels.cuda()\n",
    "    \n",
    "    # get predicted outputs\n",
    "    output, h = net(inputs, h)\n",
    "    \n",
    "    # calculate loss\n",
    "    test_loss = criterion(output.squeeze(), labels.float())\n",
    "    test_losses.append(test_loss.item())\n",
    "    \n",
    "    # convert output probabilities to predicted class (0 or 1)\n",
    "    pred = torch.round(output.squeeze())  # rounds to the nearest integer\n",
    "    \n",
    "    # compare predictions to true label\n",
    "    correct_tensor = pred.eq(labels.float().view_as(pred))\n",
    "    correct = np.squeeze(correct_tensor.numpy()) if not train_on_gpu else np.squeeze(correct_tensor.cpu().numpy())\n",
    "    num_correct += np.sum(correct)\n",
    "\n",
    "\n",
    "# -- stats! -- ##\n",
    "# avg test loss\n",
    "print(\"Test loss: {:.3f}\".format(np.mean(test_losses)))\n",
    "\n",
    "# accuracy over all test data\n",
    "test_acc = num_correct/len(test_loader.dataset)\n",
    "print(\"Test accuracy: {:.3f}\".format(test_acc))"
   ]
  },
  {
   "cell_type": "markdown",
   "id": "03f61e38",
   "metadata": {},
   "source": [
    "#### Create a Predict Function"
   ]
  },
  {
   "cell_type": "code",
   "execution_count": 22,
   "id": "3fbf2a96",
   "metadata": {},
   "outputs": [],
   "source": [
    "# negative test review\n",
    "test_review = \"Metaverse sangat jelek, sampah\""
   ]
  },
  {
   "cell_type": "code",
   "execution_count": 23,
   "id": "6a468a9b",
   "metadata": {},
   "outputs": [
    {
     "name": "stdout",
     "output_type": "stream",
     "text": [
      "[[1, 190, 1047, 1279]]\n"
     ]
    }
   ],
   "source": [
    "def tokenize_review(test_review):\n",
    "    test_review = test_review.lower() # lowercase\n",
    "    # get rid of punctuation\n",
    "    test_text = ''.join([c for c in test_review if c not in punctuation])\n",
    "\n",
    "    # splitting by spaces\n",
    "    test_words = test_text.split()\n",
    "    \n",
    "    # get rid of web address, twitter id, and digit\n",
    "    new_text = []\n",
    "    for word in test_words:\n",
    "        if (word[0] != '@') & ('http' not in word) & (~word.isdigit()):\n",
    "            new_text.append(word)\n",
    "\n",
    "    # tokens\n",
    "    test_ints = []\n",
    "    test_ints.append([vocab_to_int[word] for word in new_text])\n",
    "\n",
    "    return test_ints\n",
    "\n",
    "# test code and generate tokenized review\n",
    "test_ints = tokenize_review(test_review)\n",
    "print(test_ints)"
   ]
  },
  {
   "cell_type": "code",
   "execution_count": 24,
   "id": "2fd95955",
   "metadata": {},
   "outputs": [
    {
     "name": "stdout",
     "output_type": "stream",
     "text": [
      "[[   0    0    0    0    0    0    0    0    0    0    0    0    0    0\n",
      "     0    0    0    0    0    0    0    0    0    0    0    0    1  190\n",
      "  1047 1279]]\n"
     ]
    }
   ],
   "source": [
    "# test sequence padding\n",
    "seq_length=30\n",
    "features = pad_features(test_ints, seq_length)\n",
    "\n",
    "print(features)"
   ]
  },
  {
   "cell_type": "code",
   "execution_count": 25,
   "id": "d9f67e10",
   "metadata": {},
   "outputs": [
    {
     "name": "stdout",
     "output_type": "stream",
     "text": [
      "[[   0    0    0    0    0    0    0    0    0    0    0    0    0    0\n",
      "     0    0    0    0    0    0    0    0    0    0    0    0    1  190\n",
      "  1047 1279]]\n"
     ]
    }
   ],
   "source": [
    "#test sequence padding\n",
    "seq_length = pad_features(test_ints, seq_length)\n",
    "\n",
    "print(features)"
   ]
  },
  {
   "cell_type": "code",
   "execution_count": 26,
   "id": "d815c75a",
   "metadata": {},
   "outputs": [
    {
     "name": "stdout",
     "output_type": "stream",
     "text": [
      "torch.Size([1, 30])\n"
     ]
    }
   ],
   "source": [
    "#test conversion to tensor and pass into model\n",
    "feature_tensor = torch.from_numpy(features)\n",
    "print(feature_tensor.size())"
   ]
  },
  {
   "cell_type": "code",
   "execution_count": 27,
   "id": "8d40878c",
   "metadata": {},
   "outputs": [],
   "source": [
    "def predict(net, test_review, sequence_length=30):\n",
    "    \n",
    "    net.eval()\n",
    "    \n",
    "    # tokenize review\n",
    "    test_ints = tokenize_review(test_review)\n",
    "    \n",
    "    # pad tokenized sequence\n",
    "    seq_length=sequence_length\n",
    "    features = pad_features(test_ints, seq_length)\n",
    "    \n",
    "    # convert to tensor to pass into your model\n",
    "    feature_tensor = torch.from_numpy(features)\n",
    "    \n",
    "    batch_size = feature_tensor.size(0)\n",
    "    \n",
    "    # initialize hidden state\n",
    "    h = net.init_hidden(batch_size)\n",
    "    \n",
    "    if(train_on_gpu):\n",
    "        feature_tensor = feature_tensor.cuda()\n",
    "    \n",
    "    # get the output from the model\n",
    "    output, h = net(feature_tensor, h)\n",
    "    \n",
    "    # convert output probabilities to predicted class (0 or 1)\n",
    "    pred = torch.round(output.squeeze()) \n",
    "    # printing output value, before rounding\n",
    "    print('Prediction value, pre-rounding: {:.6f}'.format(output.item()))\n",
    "    \n",
    "    # print custom response\n",
    "    if(pred.item()==1):\n",
    "        print(\"Neutral Tweet detected.\")\n",
    "    else:\n",
    "        print(\"Negative Tweet detected.\")\n",
    "        "
   ]
  },
  {
   "cell_type": "code",
   "execution_count": 28,
   "id": "acce3661",
   "metadata": {},
   "outputs": [],
   "source": [
    "seq_length = 30 #good to use the length that was trained on"
   ]
  },
  {
   "cell_type": "code",
   "execution_count": null,
   "id": "aa766075",
   "metadata": {},
   "outputs": [],
   "source": []
  }
 ],
 "metadata": {
  "kernelspec": {
   "display_name": "Python 3 (ipykernel)",
   "language": "python",
   "name": "python3"
  },
  "language_info": {
   "codemirror_mode": {
    "name": "ipython",
    "version": 3
   },
   "file_extension": ".py",
   "mimetype": "text/x-python",
   "name": "python",
   "nbconvert_exporter": "python",
   "pygments_lexer": "ipython3",
   "version": "3.9.16"
  }
 },
 "nbformat": 4,
 "nbformat_minor": 5
}
