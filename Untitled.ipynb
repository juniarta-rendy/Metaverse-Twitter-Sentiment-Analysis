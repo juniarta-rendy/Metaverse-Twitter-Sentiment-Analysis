{
 "cells": [
  {
   "cell_type": "code",
   "execution_count": 1,
   "id": "efe8b8e0",
   "metadata": {},
   "outputs": [],
   "source": [
    "import pandas as pd\n",
    "import numpy as np\n",
    "import matplotlib.pyplot as plt\n",
    "import pytz\n",
    "import re\n",
    "import nltk\n",
    "import ast\n",
    "import string\n",
    "import itertools\n",
    "import seaborn as sns\n",
    "from datetime import datetime,timedelta\n",
    "from nltk.corpus import stopwords\n",
    "from nltk.tokenize import word_tokenize\n",
    "from wordcloud import WordCloud\n",
    "from Sastrawi.Stemmer.StemmerFactory import StemmerFactory\n",
    "\n",
    "from sklearn.model_selection import train_test_split\n",
    "from sklearn.metrics import accuracy_score, precision_score, recall_score, f1_score\n",
    "from sklearn.preprocessing import MinMaxScaler"
   ]
  },
  {
   "cell_type": "code",
   "execution_count": 2,
   "id": "1fa820d9",
   "metadata": {},
   "outputs": [],
   "source": [
    "df = ['katanya mau metaverse tapi down melulu bagaimana mas zuck', \n",
    "      'waduh dibilang artist tapi senang si nft metaverse ini jadi sumber energi baru buat kreativitas kreatif terima kasih dukungannya', \n",
    "      'kalau metaverse kenyataan keren banget asli', \n",
    "      'mirip dengan world wide web tapi menggabungkan aspek media sosial augmented reality game online dan cryptocurency meski masih di tahap awal pengembangan potensinya dinilai sangat sangat besar', \n",
    "      'bos twitter jack dorsey sepertinya tidak senang dengan ambisi mark zuckerberg yang']"
   ]
  },
  {
   "cell_type": "code",
   "execution_count": 3,
   "id": "0ee7ad84",
   "metadata": {},
   "outputs": [],
   "source": [
    "#Create Word Dictionary\n",
    "word_dict = {}\n",
    "for i in range(0,len(df)):\n",
    "    sentence = df[i]\n",
    "    word_token = word_tokenize(sentence)\n",
    "    for j in word_token:\n",
    "        if j not in word_dict:\n",
    "            word_dict[j] = 1\n",
    "        else:\n",
    "            word_dict[j] += 1"
   ]
  },
  {
   "cell_type": "code",
   "execution_count": 4,
   "id": "917ef351",
   "metadata": {},
   "outputs": [
    {
     "data": {
      "text/plain": [
       "66"
      ]
     },
     "execution_count": 4,
     "metadata": {},
     "output_type": "execute_result"
    }
   ],
   "source": [
    "len(word_dict)"
   ]
  },
  {
   "cell_type": "code",
   "execution_count": null,
   "id": "345557f7",
   "metadata": {},
   "outputs": [],
   "source": []
  }
 ],
 "metadata": {
  "kernelspec": {
   "display_name": "Python 3 (ipykernel)",
   "language": "python",
   "name": "python3"
  },
  "language_info": {
   "codemirror_mode": {
    "name": "ipython",
    "version": 3
   },
   "file_extension": ".py",
   "mimetype": "text/x-python",
   "name": "python",
   "nbconvert_exporter": "python",
   "pygments_lexer": "ipython3",
   "version": "3.9.16"
  }
 },
 "nbformat": 4,
 "nbformat_minor": 5
}
