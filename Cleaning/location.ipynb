{
 "cells": [
  {
   "cell_type": "code",
   "execution_count": 2,
   "id": "a0e56e3c",
   "metadata": {},
   "outputs": [],
   "source": [
    "import pandas as pd\n",
    "import numpy as np\n",
    "import ast\n",
    "import re\n",
    "import json"
   ]
  },
  {
   "cell_type": "code",
   "execution_count": 110,
   "id": "74e30cad",
   "metadata": {},
   "outputs": [
    {
     "name": "stderr",
     "output_type": "stream",
     "text": [
      "C:\\Users\\Juniarta\\AppData\\Local\\Temp\\ipykernel_20456\\1893007661.py:1: DtypeWarning: Columns (1,3,4,5,6,7,8,9,11,12,14,15,16,17,19,20,22) have mixed types. Specify dtype option on import or set low_memory=False.\n",
      "  df = pd.read_csv('Clean_Dataset.csv', encoding='UTF-8')\n"
     ]
    }
   ],
   "source": [
    "df = pd.read_csv('Clean_Dataset.csv', encoding='UTF-8')"
   ]
  },
  {
   "cell_type": "code",
   "execution_count": 12,
   "id": "aaa2c1a6",
   "metadata": {},
   "outputs": [],
   "source": [
    "# Membuka file JSON\n",
    "with open('cleaning_source/provinsi_kota.json') as file:\n",
    "    json_data = file.read()\n",
    "\n",
    "# Parsing JSON\n",
    "data = json.loads(json_data)\n",
    "\n",
    "# Menyimpan ke variabel\n",
    "result = {}\n",
    "for item in data:\n",
    "    provinsi = item[\"provinsi\"]\n",
    "    kota = item[\"kota\"]\n",
    "    result[provinsi] = kota"
   ]
  },
  {
   "cell_type": "code",
   "execution_count": 17,
   "id": "aa6dc45e",
   "metadata": {},
   "outputs": [],
   "source": [
    "file_path = 'cleaning_source/provinsi_kota.txt'  # Replace with the actual file path\n",
    "\n",
    "# Read the contents of the file\n",
    "with open(file_path, 'r') as file:\n",
    "    file_contents = file.read()\n",
    "abc = list(file_contents)\n",
    "# Remove unnecessary characters and split the contents into a list\n",
    "#data_list = [tuple(item.strip().strip(\"(),'\").split(\"','\")) for item in file_contents.split(',')]"
   ]
  },
  {
   "cell_type": "code",
   "execution_count": 24,
   "id": "f99bcdce",
   "metadata": {},
   "outputs": [
    {
     "name": "stderr",
     "output_type": "stream",
     "text": [
      "IOPub data rate exceeded.\n",
      "The notebook server will temporarily stop sending output\n",
      "to the client in order to avoid crashing it.\n",
      "To change this limit, set the config variable\n",
      "`--NotebookApp.iopub_data_rate_limit`.\n",
      "\n",
      "Current values:\n",
      "NotebookApp.iopub_data_rate_limit=1000000.0 (bytes/sec)\n",
      "NotebookApp.rate_limit_window=3.0 (secs)\n",
      "\n"
     ]
    }
   ],
   "source": [
    "file_path = 'cleaning_source/provinsi_kota.txt'  # Replace with the actual file path\n",
    "\n",
    "# Read the contents of the file\n",
    "with open(file_path, 'r') as file:\n",
    "    file_contents = file.read()\n",
    "\n",
    "pattern = r\"\\('([^']+)','([^']+)'\"\n",
    "data_list = re.findall(pattern, file_contents)\n",
    "\n",
    "print(data_list)"
   ]
  },
  {
   "cell_type": "code",
   "execution_count": 265,
   "id": "aa2dde28",
   "metadata": {},
   "outputs": [],
   "source": [
    "result = {}\n",
    "\n",
    "current_key = None\n",
    "\n",
    "for item in data_list:\n",
    "    key, value = item\n",
    "\n",
    "    if len(key) == 2:\n",
    "        current_key = value\n",
    "        result[current_key] = []\n",
    "    else:\n",
    "        result[current_key].append(value)"
   ]
  },
  {
   "cell_type": "code",
   "execution_count": 70,
   "id": "7937d281",
   "metadata": {},
   "outputs": [],
   "source": [
    "new_result = str(result)\n",
    "with open('cleaning_source/provinsi_kota.txt', 'w') as file:\n",
    "    file.write(new_result)"
   ]
  },
  {
   "cell_type": "markdown",
   "id": "58c1c1ab",
   "metadata": {},
   "source": [
    "### Kota"
   ]
  },
  {
   "cell_type": "code",
   "execution_count": 267,
   "id": "c35fdfd8",
   "metadata": {},
   "outputs": [],
   "source": [
    "kota = []\n",
    "for nama_kota in result.values():\n",
    "    kota.extend(nama_kota)"
   ]
  },
  {
   "cell_type": "code",
   "execution_count": 268,
   "id": "41e7d2d8",
   "metadata": {},
   "outputs": [],
   "source": [
    "kota = [item.title() for item in kota]"
   ]
  },
  {
   "cell_type": "code",
   "execution_count": 269,
   "id": "b04ec478",
   "metadata": {},
   "outputs": [],
   "source": [
    "kota = [item.replace('Kota ', '').replace('Kab. ', '').replace(' Kota', '').replace(' Kota ', '').replace('Adm. ', '') for item in kota]"
   ]
  },
  {
   "cell_type": "code",
   "execution_count": 270,
   "id": "1771837f",
   "metadata": {},
   "outputs": [],
   "source": [
    "kota = list(set(kota))"
   ]
  },
  {
   "cell_type": "code",
   "execution_count": 291,
   "id": "170cb851",
   "metadata": {},
   "outputs": [
    {
     "data": {
      "text/plain": [
       "Bandung            843\n",
       "Yogyakarta         595\n",
       "Surabaya           455\n",
       "Bali               328\n",
       "Jakarta Selatan    296\n",
       "                  ... \n",
       "Merauke              1\n",
       "Musi Rawas           1\n",
       "Denai                1\n",
       "Semarang Tengah      1\n",
       "Anyar                1\n",
       "Name: City, Length: 362, dtype: int64"
      ]
     },
     "execution_count": 291,
     "metadata": {},
     "output_type": "execute_result"
    }
   ],
   "source": [
    "df['City'].value_counts()"
   ]
  },
  {
   "cell_type": "code",
   "execution_count": 72,
   "id": "0cf08b9e",
   "metadata": {},
   "outputs": [],
   "source": [
    "values_to_delete = ['Raba', 'Sela', 'Wata', 'Karta', 'Meda', 'Merah', 'Akas', 'Kasi', \n",
    "                    'Andang', 'Amis', 'Rawang', 'Sera', 'Ronta', 'Semaran', 'Jone', \n",
    "                    'Oker', 'Suka', 'Tanju', 'Kawa', 'Apan', 'Nusa', 'Rogo', 'Ubu Raya', \n",
    "                    'Majan','Padan', 'Bumen', 'Agel', 'Akar', 'Bogo', 'Utara', 'Timur', \n",
    "                    'Selatan', 'Barat', 'Tengah','Mantan', 'Ngera', 'Marang', 'Injai', 'Banda', \n",
    "                    'Ujung', 'Arawa', 'Pasar', 'Tangse']"
   ]
  },
  {
   "cell_type": "code",
   "execution_count": 5,
   "id": "1a944143",
   "metadata": {},
   "outputs": [],
   "source": [
    "kota = [value for value in kota if len(value) > 4 or value in ['Bali', 'Riau', 'Aceh']]"
   ]
  },
  {
   "cell_type": "code",
   "execution_count": 6,
   "id": "04dd6a0c",
   "metadata": {},
   "outputs": [],
   "source": [
    "kota = [place for place in kota if place not in values_to_delete]"
   ]
  },
  {
   "cell_type": "code",
   "execution_count": 295,
   "id": "8dab1265",
   "metadata": {},
   "outputs": [],
   "source": [
    "with open('cleaning_source/kota_baru.txt', 'w') as file:\n",
    "    for item in kota:\n",
    "        file.write(item + '\\n')"
   ]
  },
  {
   "cell_type": "code",
   "execution_count": 1,
   "id": "47ed5265",
   "metadata": {},
   "outputs": [],
   "source": [
    "my_file = open('cleaning_source/kota_baru.txt','r')\n",
    "content = my_file.read()\n",
    "kota = content.split('\\n')"
   ]
  },
  {
   "cell_type": "code",
   "execution_count": 7,
   "id": "7a280ae6",
   "metadata": {},
   "outputs": [],
   "source": [
    "def city(location):\n",
    "    location = str(location).lower()\n",
    "    for daerah in kota:\n",
    "        if daerah.lower() in location:\n",
    "            return daerah"
   ]
  },
  {
   "cell_type": "code",
   "execution_count": 12,
   "id": "23c3c9fe",
   "metadata": {},
   "outputs": [],
   "source": [
    "df['City'] = df['Location'].apply(lambda x: city(x))"
   ]
  },
  {
   "cell_type": "code",
   "execution_count": 13,
   "id": "2a9c0f8d",
   "metadata": {},
   "outputs": [
    {
     "data": {
      "text/plain": [
       "Bandung            843\n",
       "Yogyakarta         595\n",
       "Surabaya           455\n",
       "Bali               328\n",
       "Jakarta Selatan    296\n",
       "                  ... \n",
       "Petani               1\n",
       "Pacitan              1\n",
       "Cicadas              1\n",
       "Lampung Selatan      1\n",
       "Anyar                1\n",
       "Name: City, Length: 369, dtype: int64"
      ]
     },
     "execution_count": 13,
     "metadata": {},
     "output_type": "execute_result"
    }
   ],
   "source": [
    "df['City'].value_counts()"
   ]
  },
  {
   "cell_type": "markdown",
   "id": "fe5682e9",
   "metadata": {},
   "source": [
    "### Province"
   ]
  },
  {
   "cell_type": "code",
   "execution_count": 4,
   "id": "27c6df3a",
   "metadata": {},
   "outputs": [],
   "source": [
    "file_2 = open('cleaning_source/provinsi_kota.txt','r')\n",
    "content2 = file_2.read()\n",
    "provinsi = ast.literal_eval(content2)"
   ]
  },
  {
   "cell_type": "markdown",
   "id": "bfc69fa4",
   "metadata": {},
   "source": [
    "##### SKIP"
   ]
  },
  {
   "cell_type": "code",
   "execution_count": null,
   "id": "a8ea4592",
   "metadata": {},
   "outputs": [],
   "source": [
    "for key, value in provinsi.items():\n",
    "    provinsi[key] = [item.title() for item in value]"
   ]
  },
  {
   "cell_type": "code",
   "execution_count": null,
   "id": "d11a6768",
   "metadata": {},
   "outputs": [],
   "source": [
    "for key, value in provinsi.items():\n",
    "    provinsi[key] = [item.replace('Kota ', '').replace('Kab. ', '').replace(' Kota', '')\n",
    "                     .replace(' Kota ', '').replace('Adm. ', '') for item in value]"
   ]
  },
  {
   "cell_type": "code",
   "execution_count": null,
   "id": "3468950b",
   "metadata": {},
   "outputs": [],
   "source": [
    "for key, value in provinsi.items():\n",
    "    provinsi[key] = [x for x in value if x not in values_to_delete]"
   ]
  },
  {
   "cell_type": "code",
   "execution_count": null,
   "id": "2103e1df",
   "metadata": {},
   "outputs": [],
   "source": [
    "'''\n",
    "# Convert the dictionary to a string representation\n",
    "dict_str = str(provinsi)\n",
    "\n",
    "# Specify the file path to save the data\n",
    "file_path = 'cleaning_source/provinsi_kota.txt'\n",
    "\n",
    "# Write the string representation of the dictionary to the file\n",
    "with open(file_path, 'w') as file:\n",
    "    file.write(dict_str)\n",
    "'''"
   ]
  },
  {
   "cell_type": "code",
   "execution_count": 105,
   "id": "1689e34b",
   "metadata": {},
   "outputs": [],
   "source": [
    "def province(location):\n",
    "    location = str(location).lower()\n",
    "    for key,value in daerah.items():\n",
    "        if key.lower() == location:\n",
    "            return key.title()\n",
    "        else:\n",
    "            for x in value:\n",
    "                if x.lower() == location:\n",
    "                    return key.title()\n",
    "    for key,value in provinsi.items():\n",
    "        if key.lower() == location:\n",
    "            return key.title()\n",
    "        for x in value:\n",
    "            if x.lower() == location:\n",
    "                return key.title()"
   ]
  },
  {
   "cell_type": "code",
   "execution_count": 106,
   "id": "58a2d930",
   "metadata": {},
   "outputs": [],
   "source": [
    "df['Province'] = df['City'].apply(lambda x:province(x))"
   ]
  },
  {
   "cell_type": "code",
   "execution_count": 112,
   "id": "b0f533ec",
   "metadata": {},
   "outputs": [],
   "source": [
    "df.to_csv('Clean_Dataset.csv', index='False')"
   ]
  },
  {
   "cell_type": "code",
   "execution_count": 86,
   "id": "003222c0",
   "metadata": {},
   "outputs": [],
   "source": [
    "# Read the JSON file\n",
    "with open('cleaning_source/daerah.json') as file:\n",
    "    json_data = json.load(file)"
   ]
  },
  {
   "cell_type": "code",
   "execution_count": 87,
   "id": "b36639ff",
   "metadata": {},
   "outputs": [],
   "source": [
    "# Convert JSON data to a list of dictionaries\n",
    "data = json.loads(json.dumps(json_data))\n",
    "\n",
    "# Extract the province and city data\n",
    "result = {}\n",
    "for item in data:\n",
    "    province = item['provinsi']\n",
    "    cities = item['kota']\n",
    "    result[province] = cities\n",
    "daerah = result"
   ]
  },
  {
   "cell_type": "code",
   "execution_count": 89,
   "id": "09d209f2",
   "metadata": {},
   "outputs": [],
   "source": [
    "for key, value in daerah.items():\n",
    "    daerah[key] = [item.title() for item in value]"
   ]
  },
  {
   "cell_type": "code",
   "execution_count": 90,
   "id": "de24fe4c",
   "metadata": {},
   "outputs": [],
   "source": [
    "for key, value in daerah.items():\n",
    "    daerah[key] = [item.replace('Kota ', '').replace('Kab. ', '').replace(' Kota', '')\n",
    "                     .replace(' Kota ', '').replace('Adm. ', '') for item in value]"
   ]
  },
  {
   "cell_type": "code",
   "execution_count": 93,
   "id": "ce84049c",
   "metadata": {},
   "outputs": [],
   "source": [
    "# Convert the dictionary to a string representation\n",
    "dict_str = str(daerah)\n",
    "\n",
    "# Specify the file path to save the data\n",
    "file_path = 'cleaning_source/daerah.txt'\n",
    "\n",
    "# Write the string representation of the dictionary to the file\n",
    "with open(file_path, 'w') as file:\n",
    "    file.write(dict_str)"
   ]
  },
  {
   "cell_type": "code",
   "execution_count": 111,
   "id": "8790b667",
   "metadata": {},
   "outputs": [
    {
     "name": "stderr",
     "output_type": "stream",
     "text": [
      "C:\\Users\\Juniarta\\AppData\\Local\\Temp\\ipykernel_20456\\1926258734.py:3: SettingWithCopyWarning: \n",
      "A value is trying to be set on a copy of a slice from a DataFrame\n",
      "\n",
      "See the caveats in the documentation: https://pandas.pydata.org/pandas-docs/stable/user_guide/indexing.html#returning-a-view-versus-a-copy\n",
      "  df['Provinsi'][i] = 'DKI Jakarta'\n",
      "C:\\Users\\Juniarta\\AppData\\Local\\Temp\\ipykernel_20456\\1926258734.py:5: SettingWithCopyWarning: \n",
      "A value is trying to be set on a copy of a slice from a DataFrame\n",
      "\n",
      "See the caveats in the documentation: https://pandas.pydata.org/pandas-docs/stable/user_guide/indexing.html#returning-a-view-versus-a-copy\n",
      "  df['Provinsi'][i] = df['Province'][i]\n"
     ]
    }
   ],
   "source": [
    "for i in range(len(df)):\n",
    "    if df['Location'][i] == 'Jakarta':\n",
    "        df['Provinsi'][i] = 'DKI Jakarta'\n",
    "    else:\n",
    "        df['Provinsi'][i] = df['Province'][i]"
   ]
  },
  {
   "cell_type": "code",
   "execution_count": null,
   "id": "d476fa2f",
   "metadata": {},
   "outputs": [],
   "source": [
    "df.to_csv('Clean_Dataset.csv', index='False')"
   ]
  }
 ],
 "metadata": {
  "kernelspec": {
   "display_name": "Python 3 (ipykernel)",
   "language": "python",
   "name": "python3"
  },
  "language_info": {
   "codemirror_mode": {
    "name": "ipython",
    "version": 3
   },
   "file_extension": ".py",
   "mimetype": "text/x-python",
   "name": "python",
   "nbconvert_exporter": "python",
   "pygments_lexer": "ipython3",
   "version": "3.9.16"
  }
 },
 "nbformat": 4,
 "nbformat_minor": 5
}
