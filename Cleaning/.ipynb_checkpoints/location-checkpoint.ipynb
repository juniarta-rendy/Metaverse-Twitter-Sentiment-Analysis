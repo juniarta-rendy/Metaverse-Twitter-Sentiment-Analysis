{
 "cells": [
  {
   "cell_type": "code",
   "execution_count": 1,
   "id": "a0e56e3c",
   "metadata": {},
   "outputs": [],
   "source": [
    "import pandas as pd\n",
    "import numpy as np\n",
    "import ast\n",
    "import re"
   ]
  },
  {
   "cell_type": "code",
   "execution_count": 2,
   "id": "74e30cad",
   "metadata": {},
   "outputs": [],
   "source": [
    "df = pd.read_csv('Clean_Dataset.csv')"
   ]
  },
  {
   "cell_type": "code",
   "execution_count": 3,
   "id": "c6e5a90d",
   "metadata": {},
   "outputs": [],
   "source": [
    "with open('cleaning_source/list_kota.txt','r') as file:\n",
    "    data =file.read()\n",
    "    \n",
    "city_list = list(ast.literal_eval(data))"
   ]
  },
  {
   "cell_type": "code",
   "execution_count": 8,
   "id": "0c086cdc",
   "metadata": {},
   "outputs": [],
   "source": [
    "def clean_location_city(location):\n",
    "    location = str(location).lower()\n",
    "    \n",
    "    for city in city_list:\n",
    "        city = city.lower()\n",
    "        if city in location:\n",
    "            return city.title()\n",
    "        elif 'indonesia' in location:\n",
    "            return 'Indonesia'"
   ]
  },
  {
   "cell_type": "code",
   "execution_count": 9,
   "id": "c291b63e",
   "metadata": {},
   "outputs": [],
   "source": [
    "df['New_Location'] = df['Location'].apply(lambda x: clean_location_city(x))"
   ]
  },
  {
   "cell_type": "code",
   "execution_count": 34,
   "id": "12a3bd84",
   "metadata": {},
   "outputs": [
    {
     "data": {
      "text/plain": [
       "'\\ndef province(location):\\n    location = str(location).lower()\\n'"
      ]
     },
     "execution_count": 34,
     "metadata": {},
     "output_type": "execute_result"
    }
   ],
   "source": [
    "'''\n",
    "def province(location):\n",
    "    location = str(location).lower()\n",
    "'''"
   ]
  },
  {
   "cell_type": "code",
   "execution_count": 6,
   "id": "456e62dd",
   "metadata": {},
   "outputs": [
    {
     "data": {
      "text/plain": [
       "0      Jakarta\n",
       "1    Indonesia\n",
       "2    Indonesia\n",
       "3         None\n",
       "4         None\n",
       "Name: New_Location, dtype: object"
      ]
     },
     "execution_count": 6,
     "metadata": {},
     "output_type": "execute_result"
    }
   ],
   "source": [
    "df['New_Location'].head()"
   ]
  },
  {
   "cell_type": "code",
   "execution_count": 10,
   "id": "b0f533ec",
   "metadata": {},
   "outputs": [],
   "source": [
    "df.to_csv('Clean_Dataset.csv', index='False')"
   ]
  },
  {
   "cell_type": "code",
   "execution_count": 14,
   "id": "a1d57b66",
   "metadata": {},
   "outputs": [
    {
     "name": "stdout",
     "output_type": "stream",
     "text": [
      "True\n"
     ]
    }
   ],
   "source": [
    "location = 'jakarta barat, indonesia'\n",
    "a = 'jakarta barat'\n",
    "if a in location:\n",
    "    print('True')\n",
    "else:\n",
    "    print('False')"
   ]
  },
  {
   "cell_type": "code",
   "execution_count": null,
   "id": "43356009",
   "metadata": {},
   "outputs": [],
   "source": []
  }
 ],
 "metadata": {
  "kernelspec": {
   "display_name": "Python 3 (ipykernel)",
   "language": "python",
   "name": "python3"
  },
  "language_info": {
   "codemirror_mode": {
    "name": "ipython",
    "version": 3
   },
   "file_extension": ".py",
   "mimetype": "text/x-python",
   "name": "python",
   "nbconvert_exporter": "python",
   "pygments_lexer": "ipython3",
   "version": "3.9.16"
  }
 },
 "nbformat": 4,
 "nbformat_minor": 5
}
