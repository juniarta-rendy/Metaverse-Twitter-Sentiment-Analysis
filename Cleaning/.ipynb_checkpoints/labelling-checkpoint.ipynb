{
 "cells": [
  {
   "cell_type": "code",
   "execution_count": 12,
   "id": "f269c344",
   "metadata": {},
   "outputs": [],
   "source": [
    "import pandas as pd\n",
    "import numpy as np\n",
    "import re"
   ]
  },
  {
   "cell_type": "code",
   "execution_count": 13,
   "id": "b609b71d",
   "metadata": {},
   "outputs": [],
   "source": [
    "df = pd.read_csv(\"Clean_Dataset.csv\", encoding='UTF-8')"
   ]
  },
  {
   "cell_type": "code",
   "execution_count": 14,
   "id": "7cdbdf5a",
   "metadata": {},
   "outputs": [
    {
     "data": {
      "application/vnd.jupyter.widget-view+json": {
       "model_id": "52edc98d69b94c419c76b9af0edef66d",
       "version_major": 2,
       "version_minor": 0
      },
      "text/plain": [
       "Downloading pytorch_model.bin:   0%|          | 0.00/499M [00:00<?, ?B/s]"
      ]
     },
     "metadata": {},
     "output_type": "display_data"
    },
    {
     "data": {
      "application/vnd.jupyter.widget-view+json": {
       "model_id": "bca4e6c80a2c4e2e96f28af6c44d517b",
       "version_major": 2,
       "version_minor": 0
      },
      "text/plain": [
       "Downloading (…)okenizer_config.json:   0%|          | 0.00/328 [00:00<?, ?B/s]"
      ]
     },
     "metadata": {},
     "output_type": "display_data"
    },
    {
     "data": {
      "application/vnd.jupyter.widget-view+json": {
       "model_id": "d2919af47dd040be851d10ee23f02fcc",
       "version_major": 2,
       "version_minor": 0
      },
      "text/plain": [
       "Downloading (…)olve/main/vocab.json:   0%|          | 0.00/808k [00:00<?, ?B/s]"
      ]
     },
     "metadata": {},
     "output_type": "display_data"
    },
    {
     "data": {
      "application/vnd.jupyter.widget-view+json": {
       "model_id": "e7ec9149c2924396a7bec39126300a77",
       "version_major": 2,
       "version_minor": 0
      },
      "text/plain": [
       "Downloading (…)olve/main/merges.txt:   0%|          | 0.00/467k [00:00<?, ?B/s]"
      ]
     },
     "metadata": {},
     "output_type": "display_data"
    },
    {
     "data": {
      "application/vnd.jupyter.widget-view+json": {
       "model_id": "9435d628c632452e84fbc586eb7cad92",
       "version_major": 2,
       "version_minor": 0
      },
      "text/plain": [
       "Downloading (…)/main/tokenizer.json:   0%|          | 0.00/1.38M [00:00<?, ?B/s]"
      ]
     },
     "metadata": {},
     "output_type": "display_data"
    },
    {
     "data": {
      "application/vnd.jupyter.widget-view+json": {
       "model_id": "ea7915b4cd1b438f82591d0359868850",
       "version_major": 2,
       "version_minor": 0
      },
      "text/plain": [
       "Downloading (…)cial_tokens_map.json:   0%|          | 0.00/239 [00:00<?, ?B/s]"
      ]
     },
     "metadata": {},
     "output_type": "display_data"
    }
   ],
   "source": [
    "from transformers import pipeline\n",
    "\n",
    "pretrained_name = \"w11wo/indonesian-roberta-base-sentiment-classifier\"\n",
    "\n",
    "nlp = pipeline(\n",
    "    \"sentiment-analysis\",\n",
    "    model=pretrained_name,\n",
    "    tokenizer=pretrained_name\n",
    ")\n"
   ]
  },
  {
   "cell_type": "code",
   "execution_count": 20,
   "id": "8a2c5380",
   "metadata": {},
   "outputs": [],
   "source": [
    "def labell(text):\n",
    "    label = nlp(text)\n",
    "    return label\n",
    "\n",
    "def extract_label_score(row):\n",
    "    df = pd.json_normalize(row)\n",
    "    return pd.Series([df['label'][0], df['score'][0]])"
   ]
  },
  {
   "cell_type": "code",
   "execution_count": 18,
   "id": "a6ea8155",
   "metadata": {},
   "outputs": [],
   "source": [
    "df['label_score'] = df['Clean_Text'].apply(lambda x:labell(x))"
   ]
  },
  {
   "cell_type": "code",
   "execution_count": 24,
   "id": "421685fa",
   "metadata": {},
   "outputs": [],
   "source": [
    "df[['indonlp_sentiment', 'score']] = df['label_score'].apply(extract_label_score)"
   ]
  },
  {
   "cell_type": "code",
   "execution_count": 25,
   "id": "741706e5",
   "metadata": {},
   "outputs": [
    {
     "data": {
      "text/plain": [
       "Datetime                 0\n",
       "Tweet Id                 0\n",
       "Text                     0\n",
       "Username                 0\n",
       "Location             25786\n",
       "Clean_Text               0\n",
       "indonlp_sentiment        0\n",
       "Stop_Words_Text          0\n",
       "Stemmed_Text             0\n",
       "language                 0\n",
       "Translated               0\n",
       "label_score              0\n",
       "score                    0\n",
       "date_created             0\n",
       "time_created             0\n",
       "Lexicon_Score            0\n",
       "Lexicon_Sentiment        0\n",
       "Score_Scaled             0\n",
       "label                    0\n",
       "dtype: int64"
      ]
     },
     "execution_count": 25,
     "metadata": {},
     "output_type": "execute_result"
    }
   ],
   "source": [
    "df.isnull().sum()"
   ]
  },
  {
   "cell_type": "code",
   "execution_count": 27,
   "id": "1b848c94",
   "metadata": {},
   "outputs": [],
   "source": [
    "df.to_csv('Clean_Dataset.csv', index=False)"
   ]
  },
  {
   "cell_type": "code",
   "execution_count": null,
   "id": "18b3f910",
   "metadata": {},
   "outputs": [],
   "source": []
  }
 ],
 "metadata": {
  "kernelspec": {
   "display_name": "Python 3 (ipykernel)",
   "language": "python",
   "name": "python3"
  },
  "language_info": {
   "codemirror_mode": {
    "name": "ipython",
    "version": 3
   },
   "file_extension": ".py",
   "mimetype": "text/x-python",
   "name": "python",
   "nbconvert_exporter": "python",
   "pygments_lexer": "ipython3",
   "version": "3.9.16"
  }
 },
 "nbformat": 4,
 "nbformat_minor": 5
}
