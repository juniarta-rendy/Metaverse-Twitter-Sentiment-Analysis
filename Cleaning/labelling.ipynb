{
 "cells": [
  {
   "cell_type": "code",
   "execution_count": 1,
   "id": "f269c344",
   "metadata": {},
   "outputs": [],
   "source": [
    "import pandas as pd\n",
    "import numpy as np\n",
    "import re"
   ]
  },
  {
   "cell_type": "code",
   "execution_count": 2,
   "id": "b609b71d",
   "metadata": {},
   "outputs": [],
   "source": [
    "df = pd.read_csv(\"Clean_Dataset.csv\", encoding='UTF-8')"
   ]
  },
  {
   "cell_type": "code",
   "execution_count": 14,
   "id": "7cdbdf5a",
   "metadata": {},
   "outputs": [
    {
     "data": {
      "application/vnd.jupyter.widget-view+json": {
       "model_id": "52edc98d69b94c419c76b9af0edef66d",
       "version_major": 2,
       "version_minor": 0
      },
      "text/plain": [
       "Downloading pytorch_model.bin:   0%|          | 0.00/499M [00:00<?, ?B/s]"
      ]
     },
     "metadata": {},
     "output_type": "display_data"
    },
    {
     "data": {
      "application/vnd.jupyter.widget-view+json": {
       "model_id": "bca4e6c80a2c4e2e96f28af6c44d517b",
       "version_major": 2,
       "version_minor": 0
      },
      "text/plain": [
       "Downloading (…)okenizer_config.json:   0%|          | 0.00/328 [00:00<?, ?B/s]"
      ]
     },
     "metadata": {},
     "output_type": "display_data"
    },
    {
     "data": {
      "application/vnd.jupyter.widget-view+json": {
       "model_id": "d2919af47dd040be851d10ee23f02fcc",
       "version_major": 2,
       "version_minor": 0
      },
      "text/plain": [
       "Downloading (…)olve/main/vocab.json:   0%|          | 0.00/808k [00:00<?, ?B/s]"
      ]
     },
     "metadata": {},
     "output_type": "display_data"
    },
    {
     "data": {
      "application/vnd.jupyter.widget-view+json": {
       "model_id": "e7ec9149c2924396a7bec39126300a77",
       "version_major": 2,
       "version_minor": 0
      },
      "text/plain": [
       "Downloading (…)olve/main/merges.txt:   0%|          | 0.00/467k [00:00<?, ?B/s]"
      ]
     },
     "metadata": {},
     "output_type": "display_data"
    },
    {
     "data": {
      "application/vnd.jupyter.widget-view+json": {
       "model_id": "9435d628c632452e84fbc586eb7cad92",
       "version_major": 2,
       "version_minor": 0
      },
      "text/plain": [
       "Downloading (…)/main/tokenizer.json:   0%|          | 0.00/1.38M [00:00<?, ?B/s]"
      ]
     },
     "metadata": {},
     "output_type": "display_data"
    },
    {
     "data": {
      "application/vnd.jupyter.widget-view+json": {
       "model_id": "ea7915b4cd1b438f82591d0359868850",
       "version_major": 2,
       "version_minor": 0
      },
      "text/plain": [
       "Downloading (…)cial_tokens_map.json:   0%|          | 0.00/239 [00:00<?, ?B/s]"
      ]
     },
     "metadata": {},
     "output_type": "display_data"
    }
   ],
   "source": [
    "from transformers import pipeline\n",
    "\n",
    "pretrained_name = \"w11wo/indonesian-roberta-base-sentiment-classifier\"\n",
    "\n",
    "nlp = pipeline(\n",
    "    \"sentiment-analysis\",\n",
    "    model=pretrained_name,\n",
    "    tokenizer=pretrained_name\n",
    ")\n"
   ]
  },
  {
   "cell_type": "code",
   "execution_count": 20,
   "id": "8a2c5380",
   "metadata": {},
   "outputs": [],
   "source": [
    "def labell(text):\n",
    "    label = nlp(text)\n",
    "    return label\n",
    "\n",
    "def extract_label_score(row):\n",
    "    df = pd.json_normalize(row)\n",
    "    return pd.Series([df['label'][0], df['score'][0]])"
   ]
  },
  {
   "cell_type": "code",
   "execution_count": 18,
   "id": "a6ea8155",
   "metadata": {},
   "outputs": [],
   "source": [
    "df['label_score'] = df['Clean_Text'].apply(lambda x:labell(x))"
   ]
  },
  {
   "cell_type": "code",
   "execution_count": 24,
   "id": "421685fa",
   "metadata": {},
   "outputs": [],
   "source": [
    "df[['indonlp_sentiment', 'score']] = df['label_score'].apply(extract_label_score)"
   ]
  },
  {
   "cell_type": "code",
   "execution_count": 25,
   "id": "741706e5",
   "metadata": {},
   "outputs": [
    {
     "data": {
      "text/plain": [
       "Datetime                 0\n",
       "Tweet Id                 0\n",
       "Text                     0\n",
       "Username                 0\n",
       "Location             25786\n",
       "Clean_Text               0\n",
       "indonlp_sentiment        0\n",
       "Stop_Words_Text          0\n",
       "Stemmed_Text             0\n",
       "language                 0\n",
       "Translated               0\n",
       "label_score              0\n",
       "score                    0\n",
       "date_created             0\n",
       "time_created             0\n",
       "Lexicon_Score            0\n",
       "Lexicon_Sentiment        0\n",
       "Score_Scaled             0\n",
       "label                    0\n",
       "dtype: int64"
      ]
     },
     "execution_count": 25,
     "metadata": {},
     "output_type": "execute_result"
    }
   ],
   "source": [
    "df.isnull().sum()"
   ]
  },
  {
   "cell_type": "code",
   "execution_count": 27,
   "id": "1b848c94",
   "metadata": {},
   "outputs": [],
   "source": [
    "df.to_csv('Clean_Dataset.csv', index=False)"
   ]
  },
  {
   "cell_type": "markdown",
   "id": "c9f58d73",
   "metadata": {},
   "source": [
    "#### New Model"
   ]
  },
  {
   "cell_type": "code",
   "execution_count": 28,
   "id": "362b4f45",
   "metadata": {},
   "outputs": [],
   "source": [
    "df = pd.read_csv('Clean_Dataset.csv', encoding = 'UTF-8')"
   ]
  },
  {
   "cell_type": "code",
   "execution_count": 4,
   "id": "9a52d025",
   "metadata": {},
   "outputs": [
    {
     "data": {
      "application/vnd.jupyter.widget-view+json": {
       "model_id": "ced027f19a504ecca2c677b22073b3b0",
       "version_major": 2,
       "version_minor": 0
      },
      "text/plain": [
       "Downloading pytorch_model.bin:   0%|          | 0.00/498M [00:00<?, ?B/s]"
      ]
     },
     "metadata": {},
     "output_type": "display_data"
    },
    {
     "name": "stderr",
     "output_type": "stream",
     "text": [
      "C:\\Users\\Juniarta\\anaconda3\\envs\\tf\\lib\\site-packages\\huggingface_hub\\file_download.py:133: UserWarning: `huggingface_hub` cache-system uses symlinks by default to efficiently store duplicated files but your machine does not support them in C:\\Users\\Juniarta\\.cache\\huggingface\\hub. Caching files will still work but in a degraded version that might require more space on your disk. This warning can be disabled by setting the `HF_HUB_DISABLE_SYMLINKS_WARNING` environment variable. For more details, see https://huggingface.co/docs/huggingface_hub/how-to-cache#limitations.\n",
      "To support symlinks on Windows, you either need to activate Developer Mode or to run Python as an administrator. In order to see activate developer mode, see this article: https://docs.microsoft.com/en-us/windows/apps/get-started/enable-your-device-for-development\n",
      "  warnings.warn(message)\n"
     ]
    },
    {
     "data": {
      "application/vnd.jupyter.widget-view+json": {
       "model_id": "414b763f33a142b88a627f1315eb98c8",
       "version_major": 2,
       "version_minor": 0
      },
      "text/plain": [
       "Downloading (…)okenizer_config.json:   0%|          | 0.00/2.00 [00:00<?, ?B/s]"
      ]
     },
     "metadata": {},
     "output_type": "display_data"
    },
    {
     "data": {
      "application/vnd.jupyter.widget-view+json": {
       "model_id": "b605ae534be447049b7818e345329167",
       "version_major": 2,
       "version_minor": 0
      },
      "text/plain": [
       "Downloading (…)solve/main/vocab.txt:   0%|          | 0.00/229k [00:00<?, ?B/s]"
      ]
     },
     "metadata": {},
     "output_type": "display_data"
    },
    {
     "data": {
      "application/vnd.jupyter.widget-view+json": {
       "model_id": "4a6121751b5a412b9e9894ac3c946335",
       "version_major": 2,
       "version_minor": 0
      },
      "text/plain": [
       "Downloading (…)cial_tokens_map.json:   0%|          | 0.00/112 [00:00<?, ?B/s]"
      ]
     },
     "metadata": {},
     "output_type": "display_data"
    }
   ],
   "source": [
    "from transformers import pipeline\n",
    "from transformers import AutoTokenizer, AutoModelForSequenceClassification\n",
    "\n",
    "pretrained= \"mdhugol/indonesia-bert-sentiment-classification\"\n",
    "\n",
    "model = AutoModelForSequenceClassification.from_pretrained(pretrained)\n",
    "tokenizer = AutoTokenizer.from_pretrained(pretrained)\n",
    "\n",
    "sentiment_analysis = pipeline(\"sentiment-analysis\", model=model, tokenizer=tokenizer)\n",
    "\n",
    "label_index = {'LABEL_0': 'positive', 'LABEL_1': 'neutral', 'LABEL_2': 'negative'}"
   ]
  },
  {
   "cell_type": "code",
   "execution_count": 7,
   "id": "fe01dba9",
   "metadata": {},
   "outputs": [
    {
     "name": "stdout",
     "output_type": "stream",
     "text": [
      "Text: Sangat bahagia hari ini | Label : positive (99.481%)\n",
      "Text: Dasar anak sialan!! Kurang ajar!! | Label : negative (99.828%)\n"
     ]
    }
   ],
   "source": [
    "pos_text = \"Sangat bahagia hari ini\"\n",
    "neg_text = \"Dasar anak sialan!! Kurang ajar!!\"\n",
    "\n",
    "result = sentiment_analysis(pos_text)\n",
    "status = label_index[result[0]['label']]\n",
    "score = result[0]['score']\n",
    "print(f'Text: {pos_text} | Label : {status} ({score * 100:.3f}%)')\n",
    "\n",
    "result = sentiment_analysis(neg_text)\n",
    "status = label_index[result[0]['label']]\n",
    "score = result[0]['score']\n",
    "print(f'Text: {neg_text} | Label : {status} ({score * 100:.3f}%)')\n"
   ]
  },
  {
   "cell_type": "code",
   "execution_count": 29,
   "id": "d53d211b",
   "metadata": {},
   "outputs": [],
   "source": [
    "def labelling(text):\n",
    "    result = sentiment_analysis(text)\n",
    "    return result\n",
    "def label_extract(row):\n",
    "    label = label_index[row[0]['label']]\n",
    "    return label\n",
    "def score_extract(row):\n",
    "    score = row[0]['score']\n",
    "    return score"
   ]
  },
  {
   "cell_type": "code",
   "execution_count": 32,
   "id": "88a18bf1",
   "metadata": {},
   "outputs": [],
   "source": [
    "df['new_label'] = df['Clean_Text'].apply(lambda x: labelling(x))"
   ]
  },
  {
   "cell_type": "code",
   "execution_count": 14,
   "id": "4f078d98",
   "metadata": {},
   "outputs": [
    {
     "name": "stdout",
     "output_type": "stream",
     "text": [
      "positive\n"
     ]
    }
   ],
   "source": []
  },
  {
   "cell_type": "code",
   "execution_count": 34,
   "id": "8dfb5b15",
   "metadata": {},
   "outputs": [],
   "source": [
    "df['new_transfer_label'] = df['new_label'].apply(label_extract)"
   ]
  },
  {
   "cell_type": "code",
   "execution_count": 35,
   "id": "e513e10a",
   "metadata": {},
   "outputs": [],
   "source": [
    "df['new_score_transfer'] = df['new_label'].apply(score_extract)"
   ]
  },
  {
   "cell_type": "code",
   "execution_count": 36,
   "id": "d1092464",
   "metadata": {},
   "outputs": [],
   "source": [
    "df.to_csv('Clean_Dataset.csv')"
   ]
  },
  {
   "cell_type": "code",
   "execution_count": null,
   "id": "4eeadec2",
   "metadata": {},
   "outputs": [],
   "source": []
  }
 ],
 "metadata": {
  "kernelspec": {
   "display_name": "Python 3 (ipykernel)",
   "language": "python",
   "name": "python3"
  },
  "language_info": {
   "codemirror_mode": {
    "name": "ipython",
    "version": 3
   },
   "file_extension": ".py",
   "mimetype": "text/x-python",
   "name": "python",
   "nbconvert_exporter": "python",
   "pygments_lexer": "ipython3",
   "version": "3.9.16"
  }
 },
 "nbformat": 4,
 "nbformat_minor": 5
}
